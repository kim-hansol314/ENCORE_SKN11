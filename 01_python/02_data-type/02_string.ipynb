{
 "cells": [
  {
   "cell_type": "markdown",
   "metadata": {},
   "source": [
    "### 문자열(String)"
   ]
  },
  {
   "cell_type": "code",
   "execution_count": 3,
   "metadata": {},
   "outputs": [
    {
     "name": "stdout",
     "output_type": "stream",
     "text": [
      "이주원 신진슬 이건 안돼요!\"\n"
     ]
    }
   ],
   "source": [
    "my_name = '이주원'\n",
    "your_name = \"신진슬\"\n",
    "error_name = '이건 안돼요!\"'\n",
    "\n",
    "print(my_name, your_name, error_name)"
   ]
  },
  {
   "cell_type": "code",
   "execution_count": 4,
   "metadata": {},
   "outputs": [
    {
     "name": "stdout",
     "output_type": "stream",
     "text": [
      "<class 'str'>\n"
     ]
    }
   ],
   "source": [
    "print(type(my_name))"
   ]
  },
  {
   "cell_type": "code",
   "execution_count": 5,
   "metadata": {},
   "outputs": [
    {
     "name": "stdout",
     "output_type": "stream",
     "text": [
      "\n",
      "hello\n",
      "world\n",
      "\n"
     ]
    }
   ],
   "source": [
    "line = \"\"\"\n",
    "hello\n",
    "world\n",
    "\"\"\"\n",
    "\n",
    "print(line)"
   ]
  },
  {
   "cell_type": "markdown",
   "metadata": {},
   "source": [
    "---\n",
    "\n",
    "### 문자형의 연산"
   ]
  },
  {
   "cell_type": "code",
   "execution_count": 9,
   "metadata": {},
   "outputs": [
    {
     "name": "stdout",
     "output_type": "stream",
     "text": [
      "오늘의 점심 메뉴는?햄버거🍔\n",
      "햄버거🍔햄버거🍔햄버거🍔햄버거🍔햄버거🍔\n"
     ]
    }
   ],
   "source": [
    "str1 = \"오늘의 점심 메뉴는?\"\n",
    "str2 = \"햄버거🍔\"\n",
    "\n",
    "print(str1 + str2)\n",
    "# print(str1 - str2) # TypeError\n",
    "print(5 * str2)"
   ]
  },
  {
   "cell_type": "code",
   "execution_count": null,
   "metadata": {},
   "outputs": [
    {
     "name": "stdout",
     "output_type": "stream",
     "text": [
      "2025-02-11\n",
      "2025/02/11\n"
     ]
    }
   ],
   "source": [
    "# replace(old_str, new_str) \n",
    "today = '2025/02/11'\n",
    "print(today.replace('/', '-'))\n",
    "print(today)"
   ]
  },
  {
   "cell_type": "code",
   "execution_count": 11,
   "metadata": {},
   "outputs": [
    {
     "name": "stdout",
     "output_type": "stream",
     "text": [
      "say helloooooo\n"
     ]
    }
   ],
   "source": [
    "# strip\n",
    "my_str = '         say helloooooo  '\n",
    "print(my_str.strip())"
   ]
  },
  {
   "cell_type": "code",
   "execution_count": 14,
   "metadata": {},
   "outputs": [
    {
     "name": "stdout",
     "output_type": "stream",
     "text": [
      "HELLO WORLD\n",
      "hello world\n",
      "Hello world\n"
     ]
    }
   ],
   "source": [
    "txt = 'hELLO wORLD'\n",
    "print(txt.upper())\n",
    "print(txt.lower())\n",
    "print(txt.capitalize())"
   ]
  },
  {
   "cell_type": "markdown",
   "metadata": {},
   "source": [
    "---\n",
    "\n",
    "### 포맷팅"
   ]
  },
  {
   "cell_type": "code",
   "execution_count": 15,
   "metadata": {},
   "outputs": [
    {
     "name": "stdout",
     "output_type": "stream",
     "text": [
      "고양이는 겨울철 양식으로 고구마개를 저장했습니다.\n",
      "고양이는 겨울철 양식으로  고구마 7 개를 저장했습니다.\n"
     ]
    }
   ],
   "source": [
    "food = '고구마'\n",
    "count = 7\n",
    "\n",
    "print('고양이는 겨울철 양식으로 ' + food + '개를 저장했습니다.')\n",
    "print('고양이는 겨울철 양식으로 ', food, count, '개를 저장했습니다.')"
   ]
  },
  {
   "cell_type": "code",
   "execution_count": 17,
   "metadata": {},
   "outputs": [
    {
     "name": "stdout",
     "output_type": "stream",
     "text": [
      "x는 10입니다.\n",
      "y는 123.46입니다.\n"
     ]
    }
   ],
   "source": [
    "# % 포맷팅\n",
    "\n",
    "x = 10\n",
    "y = 123.456\n",
    "print(\"x는 %d입니다.\" % x)\n",
    "print(\"y는 %.2f입니다.\" % y)"
   ]
  },
  {
   "cell_type": "code",
   "execution_count": 19,
   "metadata": {},
   "outputs": [
    {
     "name": "stdout",
     "output_type": "stream",
     "text": [
      "x는 10, y는 123.456입니다.\n",
      "x는 10, y는 123.456입니다.\n"
     ]
    }
   ],
   "source": [
    "# str.format()\n",
    "print(\"x는 {0}, y는 {1}입니다.\".format(x, y))\n",
    "print(\"x는 {a}, y는 {b}입니다.\".format(a=x, b=y))"
   ]
  },
  {
   "cell_type": "code",
   "execution_count": 21,
   "metadata": {},
   "outputs": [
    {
     "name": "stdout",
     "output_type": "stream",
     "text": [
      "고양이는 겨울철 양식으로 슈크림 붕어빵 100개를 먹었습니다.\n",
      "고양이는 겨울철 양식으로 슈크림 붕어빵 100개를 먹었습니다.\n"
     ]
    }
   ],
   "source": [
    "# f-string\n",
    "\n",
    "food = '슈크림 붕어빵'\n",
    "count = 100\n",
    "\n",
    "result_str = f'고양이는 겨울철 양식으로 {food} {count}개를 먹었습니다.'\n",
    "\n",
    "print(f'고양이는 겨울철 양식으로 {food} {count}개를 먹었습니다.')\n",
    "print(result_str)"
   ]
  },
  {
   "cell_type": "markdown",
   "metadata": {},
   "source": [
    "### **문제 1**\n",
    "\n",
    "아래 조건에 맞게 변수를 선언하고 결과를 출력하세요.\n",
    "\n",
    "1. `greeting_message` 변수에 문자열 `\"Hello\"`를 저장합니다.\n",
    "2. `greeting_target` 변수에 `\"World\"`를 저장합니다.\n",
    "3. 두 문자열을 이어 붙여 `\"HelloWorld\"`를 출력하세요."
   ]
  },
  {
   "cell_type": "code",
   "execution_count": 22,
   "metadata": {},
   "outputs": [
    {
     "name": "stdout",
     "output_type": "stream",
     "text": [
      "HelloWorld\n"
     ]
    }
   ],
   "source": [
    "greeting_message = \"Hello\"\n",
    "greeting_target = \"World\"\n",
    "print(greeting_message + greeting_target)"
   ]
  },
  {
   "cell_type": "markdown",
   "metadata": {},
   "source": [
    "---\n",
    "\n",
    "### **문제 2**\n",
    "\n",
    "1. `age`에 당신의 나이, `city`에 당신의 거주지를 저장합니다.\n",
    "2. f-string을 사용하여 다음 문장과 같은 형태로 출력하세요.\n",
    "    - `\"나는 25살이고, Seoul에 살고 있습니다.\"`"
   ]
  },
  {
   "cell_type": "code",
   "execution_count": 23,
   "metadata": {},
   "outputs": [
    {
     "name": "stdout",
     "output_type": "stream",
     "text": [
      "나는 25살이고, 서울에 살고 있습니다.\n"
     ]
    }
   ],
   "source": [
    "age = 25\n",
    "city = '서울'\n",
    "\n",
    "print(f'나는 {age}살이고, {city}에 살고 있습니다.')"
   ]
  }
 ],
 "metadata": {
  "kernelspec": {
   "display_name": "pystudy_env",
   "language": "python",
   "name": "python3"
  },
  "language_info": {
   "codemirror_mode": {
    "name": "ipython",
    "version": 3
   },
   "file_extension": ".py",
   "mimetype": "text/x-python",
   "name": "python",
   "nbconvert_exporter": "python",
   "pygments_lexer": "ipython3",
   "version": "3.12.9"
  }
 },
 "nbformat": 4,
 "nbformat_minor": 2
}
