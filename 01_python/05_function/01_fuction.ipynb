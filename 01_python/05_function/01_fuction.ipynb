{
 "cells": [
  {
   "cell_type": "markdown",
   "metadata": {},
   "source": [
    "### 함수"
   ]
  },
  {
   "cell_type": "code",
   "execution_count": 3,
   "metadata": {},
   "outputs": [],
   "source": [
    "def print_greeting():\n",
    "    print(\"좋은 아침입니다! 수요일도 화이팅!!!!\")"
   ]
  },
  {
   "cell_type": "code",
   "execution_count": 4,
   "metadata": {},
   "outputs": [
    {
     "name": "stdout",
     "output_type": "stream",
     "text": [
      "좋은 아침입니다! 수요일도 화이팅!!!!\n"
     ]
    }
   ],
   "source": [
    "print_greeting()"
   ]
  },
  {
   "cell_type": "code",
   "execution_count": 5,
   "metadata": {},
   "outputs": [],
   "source": [
    "# 파라미터 X, return O -> \"좋은 아침입니다! 수요일도 화이팅!\" 반환\n",
    "def return_greeting():\n",
    "    return \"좋은 아침입니다! 수요일도 화이팅!\""
   ]
  },
  {
   "cell_type": "code",
   "execution_count": null,
   "metadata": {},
   "outputs": [
    {
     "name": "stdout",
     "output_type": "stream",
     "text": [
      "좋은 아침입니다! 수요일도 화이팅!\n"
     ]
    }
   ],
   "source": [
    "# print(return_greeting())\n",
    "\n",
    "greeting = return_greeting()\n",
    "print(greeting)"
   ]
  },
  {
   "cell_type": "code",
   "execution_count": 13,
   "metadata": {},
   "outputs": [],
   "source": [
    "# 파라미터 O, return X -> \"좋은 아침입니다! 수요일도 화이팅!\" 출력, 파라미터로 인사할 사람 이름\n",
    "# \"{이름}님, 좋은 아침입니다! 수요일도 화이팅!!\" 출력\n",
    "\n",
    "def print_name_greeting(name=\"홍길동\"):\n",
    "    print(f'{name}님, 좋은 아침입니다! 수요일도 화이팅!!')"
   ]
  },
  {
   "cell_type": "code",
   "execution_count": 15,
   "metadata": {},
   "outputs": [
    {
     "name": "stdout",
     "output_type": "stream",
     "text": [
      "이현민님, 좋은 아침입니다! 수요일도 화이팅!!\n"
     ]
    }
   ],
   "source": [
    "# print_name_greeting(\"동그라미\")\n",
    "# print_name_greeting()\n",
    "name1 = \"이현민\"\n",
    "print_name_greeting(name1)"
   ]
  },
  {
   "cell_type": "code",
   "execution_count": 16,
   "metadata": {},
   "outputs": [],
   "source": [
    "# 파라미터 O, return O -> 파라미터로 인사할 사람 이름\n",
    "# \"{이름}님, 좋은 아침입니다! 수요일도 화이팅!!\" 반환\n",
    "\n",
    "def return_name_greeting(nick_name):\n",
    "    return f'{nick_name}님, 좋은 아침입니다! 수요일도 화이팅!!'"
   ]
  },
  {
   "cell_type": "code",
   "execution_count": 17,
   "metadata": {},
   "outputs": [
    {
     "name": "stdout",
     "output_type": "stream",
     "text": [
      "아침햇살님, 좋은 아침입니다! 수요일도 화이팅!!\n"
     ]
    }
   ],
   "source": [
    "print(return_name_greeting(\"아침햇살\"))"
   ]
  },
  {
   "cell_type": "code",
   "execution_count": 23,
   "metadata": {},
   "outputs": [],
   "source": [
    "def return_var_greeting(name2, time):\n",
    "    return f'{name2}님, 좋은 {time}입니다.'"
   ]
  },
  {
   "cell_type": "code",
   "execution_count": 31,
   "metadata": {},
   "outputs": [
    {
     "name": "stdout",
     "output_type": "stream",
     "text": [
      "토끼님, 좋은 아침입니다.\n",
      "다람쥐님, 좋은 점심입니다.\n",
      "판다님, 좋은 저녁입니다.\n",
      "고래님, 좋은 새벽입니다.\n"
     ]
    }
   ],
   "source": [
    "print(return_var_greeting('토끼', '아침'))\n",
    "print(return_var_greeting(name2='다람쥐', time='점심'))\n",
    "print(return_var_greeting(time='저녁', name2='판다'))\n",
    "print(return_var_greeting('고래', time='새벽'))\n",
    "# print(return_var_greeting(name2='호랑이', time='오전', '햄버거'))\n",
    "# print(return_var_greeting(time='저녁', '고릴라'))"
   ]
  },
  {
   "cell_type": "markdown",
   "metadata": {},
   "source": [
    "---\n",
    "### 패키징과 언패키징"
   ]
  },
  {
   "cell_type": "code",
   "execution_count": 32,
   "metadata": {},
   "outputs": [],
   "source": [
    "def call_animals(*animal_args):\n",
    "    for animal_name in animal_args:\n",
    "        print(animal_name)"
   ]
  },
  {
   "cell_type": "code",
   "execution_count": 33,
   "metadata": {},
   "outputs": [
    {
     "name": "stdout",
     "output_type": "stream",
     "text": [
      "토끼\n",
      "판다\n",
      "카피바라\n",
      "코알라\n",
      "쿼카\n",
      "양\n",
      "늑대\n"
     ]
    }
   ],
   "source": [
    "call_animals('토끼', '판다', '카피바라', '코알라', '쿼카', '양', '늑대')"
   ]
  },
  {
   "cell_type": "code",
   "execution_count": 34,
   "metadata": {},
   "outputs": [],
   "source": [
    "def multi_sum(num1, num2, num3, num4, num5):\n",
    "    return num1 + num2 + num3 + num4 + num5"
   ]
  },
  {
   "cell_type": "code",
   "execution_count": 35,
   "metadata": {},
   "outputs": [
    {
     "name": "stdout",
     "output_type": "stream",
     "text": [
      "2077\n"
     ]
    }
   ],
   "source": [
    "numbers = [2025, 2, 12, 11, 27]\n",
    "print(multi_sum(*numbers))"
   ]
  }
 ],
 "metadata": {
  "kernelspec": {
   "display_name": "pystudy_env",
   "language": "python",
   "name": "python3"
  },
  "language_info": {
   "codemirror_mode": {
    "name": "ipython",
    "version": 3
   },
   "file_extension": ".py",
   "mimetype": "text/x-python",
   "name": "python",
   "nbconvert_exporter": "python",
   "pygments_lexer": "ipython3",
   "version": "3.12.9"
  }
 },
 "nbformat": 4,
 "nbformat_minor": 2
}
