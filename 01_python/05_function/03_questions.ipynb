{
 "cells": [
  {
   "cell_type": "markdown",
   "metadata": {},
   "source": [
    "### 실습\n",
    "\n",
    "## **문제 1: 자기소개 하기**\n",
    "\n",
    "**\"토끼는 IT 회사 첫 출근 날, 자기소개를 준비했다.\"**\n",
    "\n",
    "1. `introduce()`라는 함수를 만들어 **\"안녕하세요, 저는 토끼 신입사원입니다!\"**라는 메시지를 출력하세요.\n",
    "2. 함수를 호출하여 토끼의 자기소개를 출력하세요."
   ]
  },
  {
   "cell_type": "code",
   "execution_count": 3,
   "metadata": {},
   "outputs": [
    {
     "name": "stdout",
     "output_type": "stream",
     "text": [
      "안녕하세요, 저는 토끼 신입사원입니다!\n"
     ]
    }
   ],
   "source": [
    "def introduce():\n",
    "    print(\"안녕하세요, 저는 토끼 신입사원입니다!\")\n",
    "\n",
    "introduce()"
   ]
  },
  {
   "cell_type": "markdown",
   "metadata": {},
   "source": [
    "---\n",
    "\n",
    "## **문제 2: 출근 체크하기**\n",
    "\n",
    "**\"토끼는 출근할 때 출근부에 이름을 적어야 한다.\"**\n",
    "\n",
    "1. `check_in(name)`이라는 함수를 만들어 매개변수 `name`을 입력받아 다음과 같이 출력하세요.\n",
    "    - **\"[이름]님, 출근 체크 완료!\"**\n",
    "2. 함수를 호출해 **\"토끼\"**를 출근 체크하세요."
   ]
  },
  {
   "cell_type": "code",
   "execution_count": 4,
   "metadata": {},
   "outputs": [
    {
     "name": "stdout",
     "output_type": "stream",
     "text": [
      "토끼님, 출근 체크 완료!\n"
     ]
    }
   ],
   "source": [
    "def check_in(name):\n",
    "    print(f'{name}님, 출근 체크 완료!')\n",
    "\n",
    "check_in(\"토끼\")"
   ]
  },
  {
   "cell_type": "markdown",
   "metadata": {},
   "source": [
    "---\n",
    "\n",
    "## **문제 3: 업무 시간 계산하기**\n",
    "\n",
    "**\"토끼는 오늘 근무한 시간을 계산하고 싶다.\"**\n",
    "\n",
    "1. `work_hours(start, end)`라는 함수를 만들어 매개변수 `start`(출근 시간)와 `end`(퇴근 시간)를 입력받아 근무 시간을 계산하세요.\n",
    "    - 근무 시간 = `end - start`\n",
    "2. 반환된 근무 시간을 출력하세요.\n",
    "    - 출력 예시: **\"오늘 근무한 시간은 [근무 시간]시간입니다.\"**"
   ]
  },
  {
   "cell_type": "code",
   "execution_count": 6,
   "metadata": {},
   "outputs": [
    {
     "name": "stdout",
     "output_type": "stream",
     "text": [
      "오늘 근무한 시간은 9시간 입니다.\n"
     ]
    }
   ],
   "source": [
    "def work_hours(start, end):\n",
    "    return end - start\n",
    "\n",
    "# time = work_hours(9, 18)\n",
    "# print(f'오늘 근무한 시간은 {time}시간 입니다.')\n",
    "\n",
    "print(f'오늘 근무한 시간은 {work_hours(9, 18)}시간 입니다.')"
   ]
  },
  {
   "cell_type": "markdown",
   "metadata": {},
   "source": [
    "---\n",
    "\n",
    "## **문제 4: 점심 메뉴 추천**\n",
    "\n",
    "**\"점심시간, 토끼는 팀원들에게 점심 메뉴를 추천해준다.\"**\n",
    "\n",
    "1. `recommend_menu(*menus)`라는 함수를 만들어 여러 개의 점심 메뉴를 매개변수로 전달받으세요.\n",
    "2. 랜덤하게 하나의 메뉴를 선택하고 반환하세요.\n",
    "    - 출력 예시: **\"오늘의 점심 메뉴는 [선택된 메뉴]입니다!\"**\n",
    "    - 힌트: `random.choice()`를 사용하면 랜덤 선택이 가능합니다. (import random)"
   ]
  },
  {
   "cell_type": "code",
   "execution_count": 7,
   "metadata": {},
   "outputs": [
    {
     "name": "stdout",
     "output_type": "stream",
     "text": [
      "오늘의 점심 메뉴는 육개장입니다!\n"
     ]
    }
   ],
   "source": [
    "import random\n",
    "\n",
    "def recommend_menu(*menus):\n",
    "    return random.choice(menus)\n",
    "\n",
    "recommended_menu = recommend_menu('돈가스', '육개장', '국밥', '짜장면', '샐러드', '숙주삼겹살볶음', '탕수육', '볶음우동') \n",
    "print(f'오늘의 점심 메뉴는 {recommended_menu}입니다!')"
   ]
  },
  {
   "cell_type": "markdown",
   "metadata": {},
   "source": [
    "## **문제 5: 오후 커피 마시기**\n",
    "\n",
    "**\"오후에 졸린 토끼는 커피를 마시려고 한다.\"**\n",
    "\n",
    "1. `coffee_time()`이라는 함수를 만들어 다음과 같은 문자열을 반환하세요.\n",
    "    - **\"오후 3시입니다. 커피 한 잔 하세요!\"**\n",
    "2. 반환된 문자열을 출력하세요."
   ]
  },
  {
   "cell_type": "code",
   "execution_count": 8,
   "metadata": {},
   "outputs": [
    {
     "name": "stdout",
     "output_type": "stream",
     "text": [
      "오후 3시입니다. 커피 한 잔 하세요!\n"
     ]
    }
   ],
   "source": [
    "def coffee_time():\n",
    "    return \"오후 3시입니다. 커피 한 잔 하세요!\"\n",
    "\n",
    "print(coffee_time())"
   ]
  },
  {
   "cell_type": "markdown",
   "metadata": {},
   "source": [
    "---\n",
    "\n",
    "## **문제 6: 업무 성과 분석하기**\n",
    "\n",
    "**\"토끼는 오늘의 업무 성과를 보고해야 한다.\"**\n",
    "\n",
    "1. `work_report(tasks_done)`이라는 함수를 만들어 오늘 처리한 업무 수를 매개변수로 받으세요.\n",
    "2. 함수는 다음 두 값을 반환합니다.\n",
    "    - `tasks_done`: 처리한 업무 수\n",
    "    - `status`: 업무 성과 평가 (10개 이상: \"우수\", 5~9개: \"보통\", 4개 이하: \"노력 필요\")\n",
    "3. 반환된 값을 사용해 다음 메시지를 출력하세요.\n",
    "    - **\"오늘 처리한 업무는 [업무 수]개입니다. 성과 평가: [평가]\"**"
   ]
  },
  {
   "cell_type": "code",
   "execution_count": 9,
   "metadata": {},
   "outputs": [
    {
     "name": "stdout",
     "output_type": "stream",
     "text": [
      "오늘 처리한 업무는 7개입니다. 성과 평가: 보통\n"
     ]
    }
   ],
   "source": [
    "def work_report(tasks_done):\n",
    "\n",
    "    status = ''\n",
    "    if tasks_done >= 10:\n",
    "        status = '우수'\n",
    "    elif tasks_done >= 5:\n",
    "        status = '보통'\n",
    "    else:\n",
    "        status = '노력 필요'\n",
    "\n",
    "    return tasks_done, status\n",
    "\n",
    "result_tasks_done, result_status = work_report(7)\n",
    "\n",
    "print(f'오늘 처리한 업무는 {result_tasks_done}개입니다. 성과 평가: {result_status}')"
   ]
  },
  {
   "cell_type": "markdown",
   "metadata": {},
   "source": [
    "---\n",
    "\n",
    "## **문제 7: 월급 계산 및 세금 공제**\n",
    "\n",
    "**\"토끼는 첫 월급을 계산하고 세금을 공제해야 한다.\"**\n",
    "\n",
    "1. `calculate_salary(base_salary, bonus)`라는 함수를 만들어 기본 월급과 보너스를 매개변수로 받으세요.\n",
    "2. 총 월급을 계산하고, 세금은 총 월급의 10%로 공제하세요.\n",
    "3. 함수는 다음 두 값을 반환합니다.\n",
    "    - `net_salary`: 실수령액 (총 월급 - 세금)\n",
    "    - `tax`: 세금 공제액\n",
    "4. 반환된 값을 사용해 다음 메시지를 출력하세요.\n",
    "    - **\"세전 월급: [총 월급]원, 세금: [세금]원, 실수령액: [실수령액]원\"**"
   ]
  },
  {
   "cell_type": "code",
   "execution_count": 14,
   "metadata": {},
   "outputs": [
    {
     "name": "stdout",
     "output_type": "stream",
     "text": [
      "세전 월급: 5700000원, 세금: 570000원, 실수령액: 5130000원\n"
     ]
    }
   ],
   "source": [
    "def calculate_salary(base_salary, bonus):\n",
    "    total_salary = base_salary + bonus\n",
    "    tax = int(total_salary * 0.1)\n",
    "    net_salary = total_salary - tax\n",
    "\n",
    "    return net_salary, tax\n",
    "\n",
    "result_net_salary, result_tax = calculate_salary(5000000, 700000)\n",
    "\n",
    "print(f'세전 월급: {result_net_salary + result_tax}원, 세금: {result_tax}원, 실수령액: {result_net_salary}원')"
   ]
  },
  {
   "cell_type": "markdown",
   "metadata": {},
   "source": [
    "---\n",
    "\n",
    "**토끼의 한강 나들이**\n",
    "\n",
    "**문제 1: 토끼의 소풍 도시락 계산 \"토끼는 친구들과 함께 먹을 김밥을 준비해요!\"**\n",
    "\n",
    "1. `count_kimbap(friends)`라는 함수를 만들어 매개변수로 친구 수를 입력받으세요.\n",
    "2. 각 친구는 김밥 2줄씩 먹고, 토끼도 2줄을 먹어요.\n",
    "    - 총 필요한 김밥 = (친구 수 + 1) × 2\n",
    "3. 반환 메시지: \"김밥 [총 개수]줄이 필요해요!\"\n",
    "4. 친구 5명인 경우 출력"
   ]
  },
  {
   "cell_type": "code",
   "execution_count": 15,
   "metadata": {},
   "outputs": [
    {
     "name": "stdout",
     "output_type": "stream",
     "text": [
      "김밥 12줄이 필요해요!\n"
     ]
    }
   ],
   "source": [
    "def count_kimbap(friends):\n",
    "    total_kimbap = (friends + 1) * 2\n",
    "    return f'김밥 {total_kimbap}줄이 필요해요!'\n",
    "\n",
    "print(count_kimbap(5))"
   ]
  },
  {
   "cell_type": "markdown",
   "metadata": {},
   "source": [
    "**문제 2: 토끼의 날씨 체크\"토끼는 날씨에 따라 준비물을 챙겨야 해요!\"**\n",
    "\n",
    "1. `check_weather(weather)`라는 함수를 만들어 매개변수로 날씨를 입력받으세요.\n",
    "2. 다음 조건에 따라 준비물 메시지를 반환하세요:\n",
    "    - 맑음: \"선크림을 챙겨가야 해요!\"\n",
    "    - 흐림: \"우산을 챙겨가야 해요!\"\n",
    "    - 비: \"오늘은 실내에서 놀아요!\"\n",
    "3.  \"선크림을 챙겨가야 해요!\" 메세지를 출력하세요."
   ]
  },
  {
   "cell_type": "code",
   "execution_count": 17,
   "metadata": {},
   "outputs": [
    {
     "name": "stdout",
     "output_type": "stream",
     "text": [
      "선크림을 챙겨가야 해요!\n"
     ]
    }
   ],
   "source": [
    "def check_weather(weather):\n",
    "    if weather == '맑음':\n",
    "        return \"선크림을 챙겨가야 해요!\"\n",
    "    elif weather == '흐림':\n",
    "        return \"우산을 챙겨가야 해요!\"\n",
    "    elif weather == '비':\n",
    "        return \"오늘은 실내에서 놀아요!\"\n",
    "    \n",
    "print(check_weather('맑음'))\n"
   ]
  },
  {
   "cell_type": "markdown",
   "metadata": {},
   "source": [
    "---\n",
    "\n",
    "**문제 3: 토끼의 자전거 대여\"토끼는 친구들과 자전거를 빌리려고 해요!\"**\n",
    "\n",
    "1. `rent_time(hour)`라는 함수를 만들어 대여 시간을 입력받으세요.\n",
    "2. 자전거 대여는 1시간에 3000원이에요.\n",
    "    - 총 대여료 = 시간 × 3000\n",
    "3. 반환 메시지: \"[대여 시간]시간 대여하면 [총 금액]원이에요!\""
   ]
  },
  {
   "cell_type": "code",
   "execution_count": 18,
   "metadata": {},
   "outputs": [
    {
     "name": "stdout",
     "output_type": "stream",
     "text": [
      "3시간 대여하면 9000원이에요!\n"
     ]
    }
   ],
   "source": [
    "def rent_hour(hour):\n",
    "    total = hour * 3000\n",
    "    return f'{hour}시간 대여하면 {total}원이에요!'\n",
    "\n",
    "print(rent_hour(3))"
   ]
  }
 ],
 "metadata": {
  "kernelspec": {
   "display_name": "pystudy_env",
   "language": "python",
   "name": "python3"
  },
  "language_info": {
   "codemirror_mode": {
    "name": "ipython",
    "version": 3
   },
   "file_extension": ".py",
   "mimetype": "text/x-python",
   "name": "python",
   "nbconvert_exporter": "python",
   "pygments_lexer": "ipython3",
   "version": "3.12.9"
  }
 },
 "nbformat": 4,
 "nbformat_minor": 2
}
