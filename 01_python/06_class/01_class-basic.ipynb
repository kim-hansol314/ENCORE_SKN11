{
 "cells": [
  {
   "cell_type": "markdown",
   "metadata": {},
   "source": [
    "### 클래스"
   ]
  },
  {
   "cell_type": "code",
   "execution_count": null,
   "metadata": {},
   "outputs": [],
   "source": [
    "name = '이주원'\n",
    "age = 20\n",
    "hobby = ['영화감상']\n",
    "print(f'{name}은 {age}살이고, 취미는 {hobby}입니다.')\n",
    "\n",
    "name = '이주원'\n",
    "age = 20\n",
    "hobby = ['영화감상']\n",
    "print(f'{name}은 {age}살이고, 취미는 {hobby}입니다.')\n",
    "\n",
    "name = '이주원'\n",
    "age = 20\n",
    "hobby = ['영화감상']\n",
    "print(f'{name}은 {age}살이고, 취미는 {hobby}입니다.')\n",
    "\n",
    "name = '이주원'\n",
    "age = 20\n",
    "hobby = ['영화감상']\n",
    "print(f'{name}은 {age}살이고, 취미는 {hobby}입니다.')"
   ]
  },
  {
   "cell_type": "code",
   "execution_count": 47,
   "metadata": {},
   "outputs": [],
   "source": [
    "class Friend:\n",
    "    def __init__(self, name, age, hobby):\n",
    "        self.name = name\n",
    "        self.age = age\n",
    "        self.hobby = hobby\n",
    "\n",
    "    def introduce(self):\n",
    "        print(f'{self.name}은 {self.age}살이고, 취미는 {self.hobby}')"
   ]
  },
  {
   "cell_type": "code",
   "execution_count": 49,
   "metadata": {},
   "outputs": [
    {
     "name": "stdout",
     "output_type": "stream",
     "text": [
      "이현민은 22살이고, 취미는 ['게임']\n",
      "None\n"
     ]
    }
   ],
   "source": [
    "friend1 = Friend('이현민', 22, ['게임'])\n",
    "print(friend1.introduce())"
   ]
  },
  {
   "cell_type": "code",
   "execution_count": 43,
   "metadata": {},
   "outputs": [],
   "source": [
    "class Friend:\n",
    "    def __init__(self, name, age, hobby):\n",
    "        self.name = name\n",
    "        self.age = age\n",
    "        self.hobby = hobby\n",
    "\n",
    "        #인스턴스 속성 name 초기화\n",
    "        #인스턴스 속성 age 초기화\n",
    "        #인스턴스 속성 hobby 초기화\n",
    "\n",
    "    def introduce(self):\n",
    "        print(f'{self.name}은 {self.age}살이고, 취미는 {self.hobby}입니다.')\n",
    "        #self.name, self.age, self.hobby 출력"
   ]
  },
  {
   "cell_type": "code",
   "execution_count": null,
   "metadata": {},
   "outputs": [
    {
     "name": "stdout",
     "output_type": "stream",
     "text": [
      "이현민은 22살이고, 취미는 ['게임']입니다.\n",
      "None\n"
     ]
    }
   ],
   "source": [
    "f1 = Friend('이현민', '22', ['게임'])"
   ]
  },
  {
   "cell_type": "code",
   "execution_count": 1,
   "metadata": {},
   "outputs": [],
   "source": [
    "class Student:\n",
    "\n",
    "    # 1. 클래스 속성\n",
    "    dream = \"취업\"\n",
    "\n",
    "    # 2. 생성자\n",
    "\n",
    "    # 3. 메서드\n",
    "    def study(self):\n",
    "        print('오늘도 열심히 공부하는 11기 학생!')"
   ]
  },
  {
   "cell_type": "code",
   "execution_count": null,
   "metadata": {},
   "outputs": [
    {
     "name": "stdout",
     "output_type": "stream",
     "text": [
      "<__main__.Student object at 0x000001F9B218A780>\n",
      "<__main__.Student object at 0x000001F9B218A150>\n"
     ]
    }
   ],
   "source": [
    "student = Student()\n",
    "student_two = Student()\n",
    "\n",
    "# 생성자 호출 시마다 메모리에 새로운 인스턴스를 할당하므로, 인스턴스의 주소값이 다른 것을 볼 수 있음음\n",
    "print(student)\n",
    "print(student_two)"
   ]
  },
  {
   "cell_type": "code",
   "execution_count": 4,
   "metadata": {},
   "outputs": [],
   "source": [
    "class Student:\n",
    "\n",
    "    # 1. 클래스 속성\n",
    "    dream = \"취업\"\n",
    "\n",
    "    # 2. 생성자\n",
    "    def __init__(self, name, phone):\n",
    "        self.name = name\n",
    "        self.phone = phone\n",
    "\n",
    "    # 3. 메서드\n",
    "    def study(self):\n",
    "        print('오늘도 열심히 공부하는 11기 학생!')"
   ]
  },
  {
   "cell_type": "code",
   "execution_count": 9,
   "metadata": {},
   "outputs": [
    {
     "name": "stdout",
     "output_type": "stream",
     "text": [
      "취업\n",
      "이주원 01077777777\n",
      "오늘도 열심히 공부하는 11기 학생!\n"
     ]
    }
   ],
   "source": [
    "student = Student('이주원', '01077777777')\n",
    "\n",
    "print(student.dream)\n",
    "print(student.name, student.phone)\n",
    "student.study()"
   ]
  },
  {
   "cell_type": "code",
   "execution_count": null,
   "metadata": {},
   "outputs": [],
   "source": [
    "class Student:\n",
    "    # 1. 클래스 속성\n",
    "    dream = [\"취업\"]\n",
    "\n",
    "    # 2. 생성자\n",
    "    def __init__(self, name, phone):\n",
    "        self.name = name\n",
    "        self.phone = phone\n",
    "\n",
    "    # 3. 메서드\n",
    "    def study(self):\n",
    "        print('오늘도 열심히 공부하는 11기 학생!')\n",
    "\n",
    "    def introduce(self):\n",
    "        print(f'저는 {self.name}이구요. 전화번호는 {self.phone}입니다. 제가 이루고 싶은 목표는! {self.dream}')"
   ]
  },
  {
   "cell_type": "code",
   "execution_count": null,
   "metadata": {},
   "outputs": [
    {
     "ename": "TypeError",
     "evalue": "Student.__init__() missing 2 required positional arguments: 'name' and 'phone'",
     "output_type": "error",
     "traceback": [
      "\u001b[1;31m---------------------------------------------------------------------------\u001b[0m",
      "\u001b[1;31mTypeError\u001b[0m                                 Traceback (most recent call last)",
      "Cell \u001b[1;32mIn[31], line 1\u001b[0m\n\u001b[1;32m----> 1\u001b[0m student1 \u001b[38;5;241m=\u001b[39m \u001b[43mStudent\u001b[49m\u001b[43m(\u001b[49m\u001b[43m)\u001b[49m\n\u001b[0;32m      2\u001b[0m \u001b[38;5;66;03m# student2 = Student()\u001b[39;00m\n\u001b[0;32m      4\u001b[0m student1\u001b[38;5;241m.\u001b[39mname(\u001b[38;5;124m'\u001b[39m\u001b[38;5;124m이주원\u001b[39m\u001b[38;5;124m'\u001b[39m)\n",
      "\u001b[1;31mTypeError\u001b[0m: Student.__init__() missing 2 required positional arguments: 'name' and 'phone'"
     ]
    }
   ],
   "source": [
    "student1 = Student('이주원', '01012345678')\n",
    "# student2 = Student()\n",
    "\n",
    "student1.introduce()\n",
    "\n"
   ]
  },
  {
   "cell_type": "code",
   "execution_count": null,
   "metadata": {},
   "outputs": [],
   "source": [
    "class Student:\n",
    "    # 1. 클래스 속성\n",
    "    dream = [\"취업\"]\n",
    "\n",
    "    # 2. 생성자\n",
    "    def __init__(self, name, phone):\n",
    "        self.name = name\n",
    "        self.phone = phone\n",
    "\n",
    "    # 3. 메서드\n",
    "    def study(self):\n",
    "        print('오늘도 열심히 공부하는 11기 학생!')\n",
    "\n",
    "    def introduce(self):\n",
    "        print(f'저는 {self.name}이구요. 전화번호는 {self.phone}입니다. 제가 이루고 싶은 목표는! {self.dream}')"
   ]
  },
  {
   "cell_type": "code",
   "execution_count": 34,
   "metadata": {},
   "outputs": [
    {
     "name": "stdout",
     "output_type": "stream",
     "text": [
      "저는 이주원이구요. 전화번호는 0107777777입니다. 제가 이루고 싶은 목표는! ['취업']\n",
      "None\n"
     ]
    }
   ],
   "source": [
    "student1 = Student()\n",
    "student1.name = '이주원'\n",
    "student1.phone = '0107777777'\n",
    "\n",
    "print(student1.introduce())"
   ]
  },
  {
   "cell_type": "code",
   "execution_count": 110,
   "metadata": {},
   "outputs": [],
   "source": [
    "class Character:\n",
    "\n",
    "    def __init__(self, nickname, type):\n",
    "        self.nickname = nickname\n",
    "        self.__type = type\n",
    "\n",
    "    def get_type(self):\n",
    "        return self.__type\n",
    "    \n",
    "    def set_type(self, type):\n",
    "        character_types = ['전사', '법사', '치유사']\n",
    "        for given_type in character_types:\n",
    "            if(type == given_type):\n",
    "                self.__type = type\n",
    "                return\n",
    "\n",
    "        \n",
    "        raise ValueError(\"잘못된 캐릭터 타입을 선택하였습니다.\")\n",
    "    \n"
   ]
  },
  {
   "cell_type": "code",
   "execution_count": 113,
   "metadata": {},
   "outputs": [
    {
     "name": "stdout",
     "output_type": "stream",
     "text": [
      "산골짜기다람쥐\n",
      "'Character' object has no attribute '__type'\n",
      "전사\n",
      "법사\n",
      "잘못된 캐릭터 타입을 선택하였습니다.\n"
     ]
    }
   ],
   "source": [
    "my_character = Character(\"산골짜기다람쥐\", \"전사\")   \n",
    "print(my_character.nickname)\n",
    "\n",
    "try:\n",
    "    print(my_character.__type)\n",
    "except AttributeError as e:\n",
    "    print(e)\n",
    "\n",
    "\n",
    "print(my_character.get_type())\n",
    "\n",
    "my_character.set_type('법사')\n",
    "print(my_character.get_type())\n",
    "\n",
    "try:\n",
    "    my_character.set_type(\"흑마법사\")\n",
    "except ValueError as e:\n",
    "    print(e)"
   ]
  },
  {
   "cell_type": "code",
   "execution_count": null,
   "metadata": {},
   "outputs": [],
   "source": []
  }
 ],
 "metadata": {
  "kernelspec": {
   "display_name": "pystudy_env",
   "language": "python",
   "name": "python3"
  },
  "language_info": {
   "codemirror_mode": {
    "name": "ipython",
    "version": 3
   },
   "file_extension": ".py",
   "mimetype": "text/x-python",
   "name": "python",
   "nbconvert_exporter": "python",
   "pygments_lexer": "ipython3",
   "version": "3.12.9"
  }
 },
 "nbformat": 4,
 "nbformat_minor": 2
}
