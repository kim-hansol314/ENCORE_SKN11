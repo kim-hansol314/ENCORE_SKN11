{
 "cells": [
  {
   "cell_type": "markdown",
   "metadata": {},
   "source": [
    "상속(Inheritance)"
   ]
  },
  {
   "cell_type": "code",
   "execution_count": 2,
   "metadata": {},
   "outputs": [
    {
     "name": "stdout",
     "output_type": "stream",
     "text": [
      "Hello, This is Python\n",
      "korea\n"
     ]
    }
   ],
   "source": [
    "class Person:\n",
    "    national = 'korea'\n",
    "\n",
    "    def greeting(self):\n",
    "        return 'Hello, This is Python'\n",
    "\n",
    "\n",
    "class Student(Person):\n",
    "    pass\n",
    "\n",
    "student = Student()\n",
    "print(student.greeting())\n",
    "print(student.national)"
   ]
  },
  {
   "cell_type": "code",
   "execution_count": 4,
   "metadata": {},
   "outputs": [
    {
     "name": "stdout",
     "output_type": "stream",
     "text": [
      "Hello. This is Python\n",
      "I am learning Python\n"
     ]
    }
   ],
   "source": [
    "class Person:\n",
    "    national = 'korea'\n",
    "\n",
    "    def greeting(self):\n",
    "        return 'Hello. This is Python'\n",
    "    \n",
    "class Learner:\n",
    "    def greeting(self):\n",
    "        return 'Hello. I am Learner'\n",
    "    \n",
    "    def learn(self):\n",
    "        return 'I am learning Python'\n",
    "    \n",
    "\n",
    "class Student(Person, Learner):\n",
    "    pass\n",
    "\n",
    "student = Student()\n",
    "print(student.greeting())\n",
    "print(student.learn())"
   ]
  },
  {
   "cell_type": "code",
   "execution_count": 38,
   "metadata": {},
   "outputs": [],
   "source": [
    "class Person:\n",
    "\n",
    "    def __init__(self, name, phone):\n",
    "        self.name = name\n",
    "        self.phone = phone\n",
    "\n",
    "    def __str__(self):\n",
    "        return f'<Person {self.name}>'"
   ]
  },
  {
   "cell_type": "code",
   "execution_count": null,
   "metadata": {},
   "outputs": [],
   "source": [
    "class Student(Person):\n",
    "\n",
    "    def __init__(self, name, phone, hobby):\n",
    "        # 1. 부모클래스명.__init__(self, ...)\n",
    "        # Person.__init__(self, name)\n",
    "\n",
    "        # 2. super().__init__(...)\n",
    "        super().__init__(name, phone)\n",
    "\n",
    "        # self.name = name\n",
    "        # self.phone = phone\n",
    "        self.hobby = hobby"
   ]
  },
  {
   "cell_type": "code",
   "execution_count": 41,
   "metadata": {},
   "outputs": [
    {
     "name": "stdout",
     "output_type": "stream",
     "text": [
      "홍길동\n",
      "<Person 홍길동>\n",
      "추영우 01000001111 파이썬 공부하기\n",
      "<Person 추영우>\n",
      "주지훈 01012341234 DB 공부하기\n",
      "<Person 주지훈>\n"
     ]
    }
   ],
   "source": [
    "p1 = Person('홍길동', '01012345678')\n",
    "print(p1.name)\n",
    "print(p1)\n",
    "\n",
    "s1 = Student('추영우', '01000001111', '파이썬 공부하기')\n",
    "s2 = Student('주지훈', '01012341234', 'DB 공부하기')\n",
    "print(s1.name, s1.phone, s1.hobby)\n",
    "print(s1)\n",
    "\n",
    "print(s2.name, s2.phone, s2.hobby)\n",
    "print(s2)"
   ]
  },
  {
   "cell_type": "markdown",
   "metadata": {},
   "source": [
    "---\n",
    "\n",
    "다중 상속"
   ]
  },
  {
   "cell_type": "code",
   "execution_count": 44,
   "metadata": {},
   "outputs": [],
   "source": [
    "class Person:\n",
    "    fingers = 10\n",
    "    eyes = 2\n",
    "\n",
    "    def introduce(self):\n",
    "        return '저는 사람입니다.'\n",
    "    \n",
    "class Animal:\n",
    "    fur = True\n",
    "\n",
    "    def introduce(self):\n",
    "        return '저는 동물입니다.'\n",
    "    \n",
    "\n",
    "class BanInBanSu(Animal, Person):\n",
    "    pass"
   ]
  },
  {
   "cell_type": "code",
   "execution_count": 46,
   "metadata": {},
   "outputs": [
    {
     "name": "stdout",
     "output_type": "stream",
     "text": [
      "10 2 True\n",
      "저는 동물입니다.\n"
     ]
    }
   ],
   "source": [
    "b1 = BanInBanSu()\n",
    "\n",
    "print(b1.fingers, b1.eyes, b1.fur)\n",
    "print(b1.introduce())"
   ]
  },
  {
   "cell_type": "markdown",
   "metadata": {},
   "source": [
    "---\n",
    "\n",
    "오버라이딩"
   ]
  },
  {
   "cell_type": "code",
   "execution_count": 49,
   "metadata": {},
   "outputs": [],
   "source": [
    "class Animal:\n",
    "    species = '동물'\n",
    "\n",
    "    def introduce(self):\n",
    "        print('동물의 왕국에 오신 것을 환영합니다!')\n",
    "\n",
    "\n",
    "class Mammalia(Animal):\n",
    "    species = '포유류'\n",
    "\n",
    "    def has_fur(self):\n",
    "        return True\n",
    "\n",
    "\n",
    "class Rabbit(Mammalia):\n",
    "    name = '토끼'\n",
    "\n",
    "    def eat(self):\n",
    "        print('당근은 정말 맛있어!!!!')\n",
    "\n",
    "\n",
    "class RabbitTeacher(Rabbit):\n",
    "\n",
    "    def introduce(self):\n",
    "        print('안녕하세요 토끼 강사입니다!')"
   ]
  },
  {
   "cell_type": "code",
   "execution_count": 56,
   "metadata": {},
   "outputs": [
    {
     "name": "stdout",
     "output_type": "stream",
     "text": [
      "안녕하세요 토끼 강사입니다!\n",
      "토끼\n",
      "당근은 정말 맛있어!!!!\n",
      "포유류\n",
      "True\n",
      "포유류\n",
      "안녕하세요 토끼 강사입니다!\n"
     ]
    }
   ],
   "source": [
    "rt = RabbitTeacher()\n",
    "\n",
    "rt.introduce()\n",
    "\n",
    "print(rt.name)\n",
    "rt.eat()\n",
    "\n",
    "print(rt.species)\n",
    "print(rt.has_fur())\n",
    "\n",
    "print(rt.species)\n",
    "rt.introduce()"
   ]
  }
 ],
 "metadata": {
  "kernelspec": {
   "display_name": "pystudy_env",
   "language": "python",
   "name": "python3"
  },
  "language_info": {
   "codemirror_mode": {
    "name": "ipython",
    "version": 3
   },
   "file_extension": ".py",
   "mimetype": "text/x-python",
   "name": "python",
   "nbconvert_exporter": "python",
   "pygments_lexer": "ipython3",
   "version": "3.12.9"
  }
 },
 "nbformat": 4,
 "nbformat_minor": 2
}
