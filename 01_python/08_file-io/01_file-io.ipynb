{
 "cells": [
  {
   "cell_type": "markdown",
   "metadata": {},
   "source": [
    "### 파일 입출력"
   ]
  },
  {
   "cell_type": "code",
   "execution_count": null,
   "metadata": {},
   "outputs": [],
   "source": [
    "f1 = open('test.txt', 'w')\n",
    "\n",
    "f1.write('오늘의 점심 메뉴: 고구마와 바나나')\n",
    "f1.write('[오늘의 점심 메뉴]\\n고구마와 바나나')\n",
    "\n",
    "f1.close()"
   ]
  },
  {
   "cell_type": "code",
   "execution_count": 9,
   "metadata": {},
   "outputs": [],
   "source": [
    "f2 = open('our_song.txt', 'w')\n",
    "\n",
    "our_song = ['공주의 규칙\\n', '나를 사랑하기\\n', '남도 사랑하기\\n', \n",
    "            '삶을 사랑하기\\n', '여유 잃지 않기\\n', '미소 잃지 않기\\n']\n",
    "f2.writelines(our_song)\n",
    "\n",
    "f2.close()"
   ]
  },
  {
   "cell_type": "code",
   "execution_count": null,
   "metadata": {},
   "outputs": [],
   "source": [
    "open('our_song.txt', 'r', 'encoding='utf-8)"
   ]
  }
 ],
 "metadata": {
  "kernelspec": {
   "display_name": "pystudy_env",
   "language": "python",
   "name": "python3"
  },
  "language_info": {
   "codemirror_mode": {
    "name": "ipython",
    "version": 3
   },
   "file_extension": ".py",
   "mimetype": "text/x-python",
   "name": "python",
   "nbconvert_exporter": "python",
   "pygments_lexer": "ipython3",
   "version": "3.12.9"
  }
 },
 "nbformat": 4,
 "nbformat_minor": 2
}
