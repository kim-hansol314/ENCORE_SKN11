{
 "cells": [
  {
   "cell_type": "markdown",
   "metadata": {},
   "source": [
    "### 예외처리"
   ]
  },
  {
   "cell_type": "code",
   "execution_count": 1,
   "metadata": {},
   "outputs": [],
   "source": [
    "class NotMyTeacher(Exception):\n",
    "    pass"
   ]
  },
  {
   "cell_type": "code",
   "execution_count": 5,
   "metadata": {},
   "outputs": [
    {
     "name": "stdout",
     "output_type": "stream",
     "text": [
      "훌륭합니다!\n"
     ]
    }
   ],
   "source": [
    "teacher_name = input('당신의 선생님 이름은 무엇입니까?')\n",
    "\n",
    "if teacher_name == '토끼':\n",
    "    print('훌륭합니다!')\n",
    "else:\n",
    "    raise NotMyTeacher(\"선생님 이름도 모르다니...!\")"
   ]
  },
  {
   "cell_type": "code",
   "execution_count": 7,
   "metadata": {},
   "outputs": [
    {
     "name": "stdout",
     "output_type": "stream",
     "text": [
      "훌륭합니다!\n"
     ]
    },
    {
     "ename": "NotMyTeacher",
     "evalue": "선생님 이름도 모르다니...!",
     "output_type": "error",
     "traceback": [
      "\u001b[1;31m---------------------------------------------------------------------------\u001b[0m",
      "\u001b[1;31mNotMyTeacher\u001b[0m                              Traceback (most recent call last)",
      "Cell \u001b[1;32mIn[7], line 8\u001b[0m\n\u001b[0;32m      5\u001b[0m         \u001b[38;5;28;01mraise\u001b[39;00m NotMyTeacher(\u001b[38;5;124m\"\u001b[39m\u001b[38;5;124m선생님 이름도 모르다니...!\u001b[39m\u001b[38;5;124m\"\u001b[39m)\n\u001b[0;32m      7\u001b[0m check_teacher(\u001b[38;5;124m\"\u001b[39m\u001b[38;5;124m토끼\u001b[39m\u001b[38;5;124m\"\u001b[39m)\n\u001b[1;32m----> 8\u001b[0m \u001b[43mcheck_teacher\u001b[49m\u001b[43m(\u001b[49m\u001b[38;5;124;43m\"\u001b[39;49m\u001b[38;5;124;43m판다\u001b[39;49m\u001b[38;5;124;43m\"\u001b[39;49m\u001b[43m)\u001b[49m\n\u001b[0;32m     10\u001b[0m \u001b[38;5;28mprint\u001b[39m(\u001b[38;5;124m\"\u001b[39m\u001b[38;5;124m여기는 출력이 안돼요!!\u001b[39m\u001b[38;5;124m\"\u001b[39m)\n",
      "Cell \u001b[1;32mIn[7], line 5\u001b[0m, in \u001b[0;36mcheck_teacher\u001b[1;34m(teacher_name)\u001b[0m\n\u001b[0;32m      3\u001b[0m     \u001b[38;5;28mprint\u001b[39m(\u001b[38;5;124m'\u001b[39m\u001b[38;5;124m훌륭합니다!\u001b[39m\u001b[38;5;124m'\u001b[39m)\n\u001b[0;32m      4\u001b[0m \u001b[38;5;28;01melse\u001b[39;00m:\n\u001b[1;32m----> 5\u001b[0m     \u001b[38;5;28;01mraise\u001b[39;00m NotMyTeacher(\u001b[38;5;124m\"\u001b[39m\u001b[38;5;124m선생님 이름도 모르다니...!\u001b[39m\u001b[38;5;124m\"\u001b[39m)\n",
      "\u001b[1;31mNotMyTeacher\u001b[0m: 선생님 이름도 모르다니...!"
     ]
    }
   ],
   "source": [
    "def check_teacher(teacher_name):\n",
    "    if teacher_name == '토끼':\n",
    "        print('훌륭합니다!')\n",
    "    else:\n",
    "        raise NotMyTeacher(\"선생님 이름도 모르다니...!\")\n",
    "    \n",
    "check_teacher(\"토끼\")\n",
    "check_teacher(\"판다\")\n",
    "\n",
    "print(\"여기는 출력이 안돼요!!\")"
   ]
  },
  {
   "cell_type": "code",
   "execution_count": 13,
   "metadata": {},
   "outputs": [
    {
     "name": "stdout",
     "output_type": "stream",
     "text": [
      "예외가 발생했습니다!!!!!!!!!!!!!!!!\n",
      "그러나 중단되지는 않았어요!!!!\n"
     ]
    }
   ],
   "source": [
    "def check_teacher(teacher_name):\n",
    "    if teacher_name == '토끼':\n",
    "        print('훌륭합니다!')\n",
    "    else:\n",
    "        raise NotMyTeacher(\"선생님 이름도 모르다니...!\")\n",
    "    \n",
    "try:\n",
    "    check_teacher(\"판다\")\n",
    "    check_teacher(\"토끼\")\n",
    "    print(\"이건 출력되지 않아요!\")\n",
    "except:\n",
    "    print(\"예외가 발생했습니다!!!!!!!!!!!!!!!!\")\n",
    "\n",
    "print(\"그러나 중단되지는 않았어요!!!!\")"
   ]
  },
  {
   "cell_type": "code",
   "execution_count": 14,
   "metadata": {},
   "outputs": [
    {
     "ename": "IndexError",
     "evalue": "list index out of range",
     "output_type": "error",
     "traceback": [
      "\u001b[1;31m---------------------------------------------------------------------------\u001b[0m",
      "\u001b[1;31mIndexError\u001b[0m                                Traceback (most recent call last)",
      "Cell \u001b[1;32mIn[14], line 2\u001b[0m\n\u001b[0;32m      1\u001b[0m test_list \u001b[38;5;241m=\u001b[39m [\u001b[38;5;241m2025\u001b[39m, \u001b[38;5;241m2\u001b[39m, \u001b[38;5;241m17\u001b[39m]\n\u001b[1;32m----> 2\u001b[0m \u001b[38;5;28mprint\u001b[39m(\u001b[43mtest_list\u001b[49m\u001b[43m[\u001b[49m\u001b[38;5;241;43m100\u001b[39;49m\u001b[43m]\u001b[49m)\n",
      "\u001b[1;31mIndexError\u001b[0m: list index out of range"
     ]
    }
   ],
   "source": [
    "test_list = [2025, 2, 17]\n",
    "print(test_list[100])"
   ]
  },
  {
   "cell_type": "code",
   "execution_count": 15,
   "metadata": {},
   "outputs": [
    {
     "ename": "ZeroDivisionError",
     "evalue": "division by zero",
     "output_type": "error",
     "traceback": [
      "\u001b[1;31m---------------------------------------------------------------------------\u001b[0m",
      "\u001b[1;31mZeroDivisionError\u001b[0m                         Traceback (most recent call last)",
      "Cell \u001b[1;32mIn[15], line 1\u001b[0m\n\u001b[1;32m----> 1\u001b[0m \u001b[38;5;28mprint\u001b[39m(\u001b[38;5;241;43m2025\u001b[39;49m\u001b[43m \u001b[49m\u001b[38;5;241;43m/\u001b[39;49m\u001b[43m \u001b[49m\u001b[38;5;241;43m0\u001b[39;49m)\n",
      "\u001b[1;31mZeroDivisionError\u001b[0m: division by zero"
     ]
    }
   ],
   "source": [
    "print(2025 / 0)"
   ]
  },
  {
   "cell_type": "code",
   "execution_count": 17,
   "metadata": {},
   "outputs": [
    {
     "name": "stdout",
     "output_type": "stream",
     "text": [
      "2\n",
      "0으로는 나눌 수 없습니다.\n"
     ]
    }
   ],
   "source": [
    "try:\n",
    "    test_list = [2025, 2, 17]\n",
    "    print(test_list[1])\n",
    "\n",
    "    print(2025 / 0)\n",
    "except IndexError:\n",
    "    print('인덱싱 범위를 초과했습니다.')\n",
    "except ZeroDivisionError:\n",
    "    print('0으로는 나눌 수 없습니다.')\n"
   ]
  },
  {
   "cell_type": "code",
   "execution_count": null,
   "metadata": {},
   "outputs": [],
   "source": [
    "try:\n",
    "    idx = int(input('index 숫자: '))\n",
    "    test_list = [2025, 2, 17]\n",
    "    print(test_list[idx])\n",
    "\n",
    "    num = int(input('나누는 수: '))\n",
    "    print(2025 / num)\n",
    "\n",
    "except IndexError:\n",
    "    print('인덱싱 범위를 초과했습니다.')\n",
    "\n",
    "except ZeroDivisionError:\n",
    "    print('0으로는 나눌 수 없습니다.')\n",
    "\n",
    "else:\n",
    "    print('else는 언제 실행될까요? 예외가 발생하지 않았을 때! (try 구문 내 코드가 정상 작동했을 때)')\n",
    "\n",
    "finally:\n",
    "    print('finally는 언제 실행될까요? 언제나!')"
   ]
  }
 ],
 "metadata": {
  "kernelspec": {
   "display_name": "pystudy_env",
   "language": "python",
   "name": "python3"
  },
  "language_info": {
   "codemirror_mode": {
    "name": "ipython",
    "version": 3
   },
   "file_extension": ".py",
   "mimetype": "text/x-python",
   "name": "python",
   "nbconvert_exporter": "python",
   "pygments_lexer": "ipython3",
   "version": "3.12.9"
  }
 },
 "nbformat": 4,
 "nbformat_minor": 2
}
