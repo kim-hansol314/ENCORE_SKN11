{
 "cells": [
  {
   "cell_type": "markdown",
   "metadata": {},
   "source": [
    "# Data Science\n",
    "- 방대한 양의 데이터를 수집, 분석, 시각화하여 유의미한 정보를 추출하는 것\n",
    "- 파이썬 패키지로는 numpy, pandas, matplotlib, seaborn 등이 주로 사용됨"
   ]
  },
  {
   "cell_type": "markdown",
   "metadata": {},
   "source": [
    "---"
   ]
  },
  {
   "cell_type": "markdown",
   "metadata": {},
   "source": [
    "# numpy\n",
    "- 대규모의 다차원 배열, 수치 연산을 지원하는 라이브러리"
   ]
  },
  {
   "cell_type": "code",
   "execution_count": 2,
   "metadata": {},
   "outputs": [
    {
     "name": "stdout",
     "output_type": "stream",
     "text": [
      "Requirement already satisfied: numpy in c:\\users\\playdata\\anaconda3\\envs\\pystudy_env\\lib\\site-packages (2.2.3)\n"
     ]
    }
   ],
   "source": [
    "!pip install numpy"
   ]
  },
  {
   "cell_type": "code",
   "execution_count": 1,
   "metadata": {},
   "outputs": [
    {
     "name": "stdout",
     "output_type": "stream",
     "text": [
      "Package                   Version\n",
      "------------------------- --------------\n",
      "altair                    5.5.0\n",
      "anyio                     4.8.0\n",
      "argon2-cffi               23.1.0\n",
      "argon2-cffi-bindings      21.2.0\n",
      "arrow                     1.3.0\n",
      "asttokens                 3.0.0\n",
      "async-lru                 2.0.4\n",
      "attrs                     25.1.0\n",
      "babel                     2.17.0\n",
      "beautifulsoup4            4.13.3\n",
      "bleach                    6.2.0\n",
      "blinker                   1.9.0\n",
      "cachetools                5.5.1\n",
      "certifi                   2025.1.31\n",
      "cffi                      1.17.1\n",
      "charset-normalizer        3.4.1\n",
      "click                     8.1.8\n",
      "colorama                  0.4.6\n",
      "comm                      0.2.2\n",
      "contourpy                 1.3.1\n",
      "cycler                    0.12.1\n",
      "debugpy                   1.8.12\n",
      "decorator                 5.1.1\n",
      "defusedxml                0.7.1\n",
      "executing                 2.2.0\n",
      "fastjsonschema            2.21.1\n",
      "fonttools                 4.56.0\n",
      "fqdn                      1.5.1\n",
      "gitdb                     4.0.12\n",
      "GitPython                 3.1.44\n",
      "h11                       0.14.0\n",
      "httpcore                  1.0.7\n",
      "httpx                     0.28.1\n",
      "idna                      3.10\n",
      "ipykernel                 6.29.5\n",
      "ipython                   8.32.0\n",
      "ipywidgets                8.1.5\n",
      "isoduration               20.11.0\n",
      "jedi                      0.19.2\n",
      "Jinja2                    3.1.5\n",
      "json5                     0.10.0\n",
      "jsonpointer               3.0.0\n",
      "jsonschema                4.23.0\n",
      "jsonschema-specifications 2024.10.1\n",
      "jupyter                   1.1.1\n",
      "jupyter_client            8.6.3\n",
      "jupyter-console           6.6.3\n",
      "jupyter_core              5.7.2\n",
      "jupyter-events            0.12.0\n",
      "jupyter-lsp               2.2.5\n",
      "jupyter_server            2.15.0\n",
      "jupyter_server_terminals  0.5.3\n",
      "jupyterlab                4.3.5\n",
      "jupyterlab_pygments       0.3.0\n",
      "jupyterlab_server         2.27.3\n",
      "jupyterlab_widgets        3.0.13\n",
      "kiwisolver                1.4.8\n",
      "markdown-it-py            3.0.0\n",
      "MarkupSafe                3.0.2\n",
      "matplotlib                3.10.0\n",
      "matplotlib-inline         0.1.7\n",
      "mdurl                     0.1.2\n",
      "mistune                   3.1.1\n",
      "mysql-connector-python    9.2.0\n",
      "narwhals                  1.26.0\n",
      "nbclient                  0.10.2\n",
      "nbconvert                 7.16.6\n",
      "nbformat                  5.10.4\n",
      "nest-asyncio              1.6.0\n",
      "notebook                  7.3.2\n",
      "notebook_shim             0.2.4\n",
      "numpy                     2.2.3\n",
      "outcome                   1.3.0.post0\n",
      "overrides                 7.7.0\n",
      "packaging                 24.2\n",
      "pandas                    2.2.3\n",
      "pandocfilters             1.5.1\n",
      "parso                     0.8.4\n",
      "pillow                    11.1.0\n",
      "pip                       25.0\n",
      "platformdirs              4.3.6\n",
      "prometheus_client         0.21.1\n",
      "prompt_toolkit            3.0.50\n",
      "protobuf                  5.29.3\n",
      "psutil                    6.1.1\n",
      "pure_eval                 0.2.3\n",
      "pyarrow                   19.0.0\n",
      "pycparser                 2.22\n",
      "pydeck                    0.9.1\n",
      "Pygments                  2.19.1\n",
      "pyparsing                 3.2.1\n",
      "PySocks                   1.7.1\n",
      "python-dateutil           2.9.0.post0\n",
      "python-json-logger        3.2.1\n",
      "pytz                      2025.1\n",
      "pywin32                   308\n",
      "pywinpty                  2.0.15\n",
      "PyYAML                    6.0.2\n",
      "pyzmq                     26.2.1\n",
      "referencing               0.36.2\n",
      "requests                  2.32.3\n",
      "rfc3339-validator         0.1.4\n",
      "rfc3986-validator         0.1.1\n",
      "rich                      13.9.4\n",
      "rpds-py                   0.22.3\n",
      "selenium                  4.29.0\n",
      "Send2Trash                1.8.3\n",
      "setuptools                75.8.0\n",
      "six                       1.17.0\n",
      "smmap                     5.0.2\n",
      "sniffio                   1.3.1\n",
      "sortedcontainers          2.4.0\n",
      "soupsieve                 2.6\n",
      "stack-data                0.6.3\n",
      "streamlit                 1.42.0\n",
      "tenacity                  9.0.0\n",
      "terminado                 0.18.1\n",
      "tinycss2                  1.4.0\n",
      "toml                      0.10.2\n",
      "tornado                   6.4.2\n",
      "traitlets                 5.14.3\n",
      "trio                      0.29.0\n",
      "trio-websocket            0.12.1\n",
      "types-python-dateutil     2.9.0.20241206\n",
      "typing_extensions         4.12.2\n",
      "tzdata                    2025.1\n",
      "uri-template              1.3.0\n",
      "urllib3                   2.3.0\n",
      "watchdog                  6.0.0\n",
      "wcwidth                   0.2.13\n",
      "webcolors                 24.11.1\n",
      "webencodings              0.5.1\n",
      "websocket-client          1.8.0\n",
      "wheel                     0.45.1\n",
      "widgetsnbextension        4.0.13\n",
      "wsproto                   1.2.0\n"
     ]
    }
   ],
   "source": [
    "!pip list"
   ]
  },
  {
   "cell_type": "markdown",
   "metadata": {},
   "source": [
    "---"
   ]
  },
  {
   "cell_type": "markdown",
   "metadata": {},
   "source": [
    "### ndarray 다차원 배열 생성"
   ]
  },
  {
   "cell_type": "code",
   "execution_count": 1,
   "metadata": {},
   "outputs": [],
   "source": [
    "import numpy as np"
   ]
  },
  {
   "cell_type": "code",
   "execution_count": 4,
   "metadata": {},
   "outputs": [
    {
     "name": "stdout",
     "output_type": "stream",
     "text": [
      "[2025    2   27   11    5] <class 'numpy.ndarray'>\n",
      "[2025, 2, 27, 11, 5] <class 'list'>\n"
     ]
    }
   ],
   "source": [
    "arr = np.array([2025, 2, 27, 11, 5])\n",
    "today_arr = [2025, 2, 27, 11, 5]\n",
    "\n",
    "print(arr, type(arr))\n",
    "print(today_arr, type(today_arr))"
   ]
  },
  {
   "cell_type": "code",
   "execution_count": 5,
   "metadata": {},
   "outputs": [
    {
     "name": "stdout",
     "output_type": "stream",
     "text": [
      "[1 2 3 4 5] <class 'numpy.ndarray'>\n"
     ]
    }
   ],
   "source": [
    "arr = np.array((1, 2, 3, 4, 5))\n",
    "print(arr, type(arr))"
   ]
  },
  {
   "cell_type": "code",
   "execution_count": null,
   "metadata": {},
   "outputs": [
    {
     "name": "stdout",
     "output_type": "stream",
     "text": [
      "(5,)\n",
      "1\n",
      "5\n",
      "int64\n"
     ]
    }
   ],
   "source": [
    "arr = np.array([2025, 2, 27, 11, 14])\n",
    "\n",
    "# ndarray 구조\n",
    "print(arr.shape)    # 형태        \n",
    "print(arr.ndim)     # 깊이\n",
    "print(arr.size)     # 요소의 갯수\n",
    "print(arr.dtype)    # 요소의 자료형"
   ]
  },
  {
   "cell_type": "code",
   "execution_count": 27,
   "metadata": {},
   "outputs": [
    {
     "name": "stdout",
     "output_type": "stream",
     "text": [
      "[[1 2 3]\n",
      " [4 5 6]]\n",
      "[[1, 2, 3], [4, 5, 6]]\n",
      "(2, 3)\n",
      "2\n",
      "6\n",
      "int64\n"
     ]
    }
   ],
   "source": [
    "arr_2d = np.array([[1, 2, 3], [4, 5, 6]])\n",
    "print(arr_2d)\n",
    "print([[1, 2, 3], [4, 5, 6]])\n",
    "\n",
    "print(arr_2d.shape)     # 형태: (2, 3)\n",
    "print(arr_2d.ndim)      # 깊이: 2\n",
    "print(arr_2d.size)      # 요소의 갯수: 6\n",
    "print(arr_2d.dtype)     # 요소의 자료형: int64"
   ]
  },
  {
   "cell_type": "code",
   "execution_count": null,
   "metadata": {},
   "outputs": [
    {
     "name": "stdout",
     "output_type": "stream",
     "text": [
      "int64\n",
      "float64\n",
      "bool\n",
      "<U9\n"
     ]
    }
   ],
   "source": [
    "arr_int = np.array([2025, 2, 26])\n",
    "print(arr_int.dtype)    # int64\n",
    "\n",
    "arr_float = np.array([1.234, 3.456, 9.876, 10]) # ndarray는 하나의 타입만 저장 가능\n",
    "print(arr_float.dtype)  # float64\n",
    "\n",
    "arr_bool = np.array([True, False, True, False])\n",
    "print(arr_bool.dtype)   # bool\n",
    "\n",
    "arr_str = np.array(['Hello', 'World', 'numpy-lib', 'great'])\n",
    "print(arr_str.dtype)    # <U9 : 유니코드 9글자까지 저장 가능한 문자열"
   ]
  },
  {
   "cell_type": "code",
   "execution_count": 23,
   "metadata": {},
   "outputs": [
    {
     "data": {
      "text/plain": [
       "(array([ 1,  5,  9, 10]), dtype('int64'))"
      ]
     },
     "execution_count": 23,
     "metadata": {},
     "output_type": "execute_result"
    }
   ],
   "source": [
    "# 형변환\n",
    "arr = np.array([1.234, 5.678, 9, 10])\n",
    "arr = np.array([1.234, 5.678, 9, 10], dtype=float)\n",
    "arr = np.array([1.234, 5.678, 9, 10], dtype=int)\n",
    "\n",
    "arr = np.array([1.234, 5.678, 9, 10])\n",
    "arr = arr.astype(int)\n",
    "\n",
    "arr, arr.dtype "
   ]
  },
  {
   "cell_type": "markdown",
   "metadata": {},
   "source": [
    "#### python list와 ndarray의 차이\n",
    "- ndarray는 동일한 자료형만 저장 가능\n",
    "- ndarray는 다차원인 경우, 중첩 배열은 동일한 크기만 허용\n",
    "    - python list: len()\n",
    "    - ndarray: ndarray.shape, ndarray.ndim, ndarray.size"
   ]
  },
  {
   "cell_type": "code",
   "execution_count": null,
   "metadata": {},
   "outputs": [
    {
     "name": "stdout",
     "output_type": "stream",
     "text": [
      "[2025, 2, 27, 'numpy', True]\n",
      "5\n"
     ]
    }
   ],
   "source": [
    "my_list = [2025, 2, 27, 'numpy', True]\n",
    "\n",
    "my_list = [[1, 2, 3], [4, 5], [6]]\n",
    "print(my_list)\n",
    "print(len(my_list))\n",
    "print(len(my_list[0]))"
   ]
  },
  {
   "cell_type": "code",
   "execution_count": null,
   "metadata": {},
   "outputs": [
    {
     "name": "stdout",
     "output_type": "stream",
     "text": [
      "[[1, 2, 3], [4, 5], [6]]\n",
      "['2025' '2' '27' 'numpy' 'True']\n",
      "(5,)\n",
      "1\n",
      "5\n",
      "<U21\n"
     ]
    }
   ],
   "source": [
    "arr = np.array([2025, 2, 27, 'numpy', True])\n",
    "# arr = np.array([[1, 2, 3], [4, 5], [6]])\n",
    "\n",
    "print(arr)\n",
    "print(arr.shape)\n",
    "print(arr.ndim)\n",
    "print(arr.size)\n",
    "print(arr.dtype)"
   ]
  },
  {
   "cell_type": "markdown",
   "metadata": {},
   "source": [
    "##### 특정 수로 초기화된 ndarray 생성"
   ]
  },
  {
   "cell_type": "code",
   "execution_count": 51,
   "metadata": {},
   "outputs": [
    {
     "name": "stdout",
     "output_type": "stream",
     "text": [
      "[[0. 0. 0.]\n",
      " [0. 0. 0.]\n",
      " [0. 0. 0.]]\n",
      "[[1. 1.]\n",
      " [1. 1.]\n",
      " [1. 1.]\n",
      " [1. 1.]\n",
      " [1. 1.]]\n",
      "[[7]\n",
      " [7]\n",
      " [7]\n",
      " [7]]\n",
      "[9 9 9 9]\n"
     ]
    }
   ],
   "source": [
    "# zeros\n",
    "arr = np.zeros((3, 3)) # shape 전달\n",
    "print(arr)\n",
    "\n",
    "# ones\n",
    "arr = np.ones((5, 2))\n",
    "print(arr)\n",
    "\n",
    "# full\n",
    "arr = np.full((4, 1), 7)\n",
    "print(arr)\n",
    "arr = np.full((4,), 9)\n",
    "print(arr)"
   ]
  },
  {
   "cell_type": "code",
   "execution_count": 53,
   "metadata": {},
   "outputs": [
    {
     "name": "stdout",
     "output_type": "stream",
     "text": [
      "(2, 2)\n",
      "[[0 0]\n",
      " [0 0]]\n",
      "[[1 1]\n",
      " [1 1]]\n",
      "[[9 9]\n",
      " [9 9]]\n"
     ]
    }
   ],
   "source": [
    "arr = np.array([[10, 20], [30, 40]])\n",
    "print(arr.shape)\n",
    "\n",
    "# zeros_like\n",
    "print(np.zeros_like(arr))\n",
    "\n",
    "# ones_like\n",
    "print(np.ones_like(arr))\n",
    "\n",
    "# full_like\n",
    "print(np.full_like(arr, 9))"
   ]
  },
  {
   "cell_type": "markdown",
   "metadata": {},
   "source": [
    "##### 수열 생성\n",
    "- np.arange(start, end, step)\n",
    "    - start : 시작하는 숫자\n",
    "    - end : 끝나는 숫자 + 1\n",
    "    - step : start~end 증가하는 간격"
   ]
  },
  {
   "cell_type": "code",
   "execution_count": 56,
   "metadata": {},
   "outputs": [
    {
     "name": "stdout",
     "output_type": "stream",
     "text": [
      "[0 1 2 3 4 5 6 7 8 9]\n"
     ]
    }
   ],
   "source": [
    "arr = np.arange(1, 10)\n",
    "arr = np.arange(1, 10, .1)\n",
    "arr = np.arange(10)\n",
    "print(arr)"
   ]
  },
  {
   "cell_type": "markdown",
   "metadata": {},
   "source": [
    "- np.linspace(start, end, num)\n",
    "    - start : 시작하는 숫자\n",
    "    - end : 끝나는 숫자\n",
    "    - num : 결과로 만들어진 수열의 요소 갯수"
   ]
  },
  {
   "cell_type": "code",
   "execution_count": null,
   "metadata": {},
   "outputs": [
    {
     "ename": "TypeError",
     "evalue": "linspace() missing 1 required positional argument: 'stop'",
     "output_type": "error",
     "traceback": [
      "\u001b[1;31m---------------------------------------------------------------------------\u001b[0m",
      "\u001b[1;31mTypeError\u001b[0m                                 Traceback (most recent call last)",
      "Cell \u001b[1;32mIn[59], line 3\u001b[0m\n\u001b[0;32m      1\u001b[0m arr \u001b[38;5;241m=\u001b[39m np\u001b[38;5;241m.\u001b[39mlinspace(\u001b[38;5;241m0\u001b[39m, \u001b[38;5;241m10\u001b[39m, \u001b[38;5;241m5\u001b[39m)\n\u001b[0;32m      2\u001b[0m arr \u001b[38;5;241m=\u001b[39m np\u001b[38;5;241m.\u001b[39mlinspace(\u001b[38;5;241m0\u001b[39m, \u001b[38;5;241m10\u001b[39m)\n\u001b[1;32m----> 3\u001b[0m arr \u001b[38;5;241m=\u001b[39m \u001b[43mnp\u001b[49m\u001b[38;5;241;43m.\u001b[39;49m\u001b[43mlinspace\u001b[49m\u001b[43m(\u001b[49m\u001b[38;5;241;43m10\u001b[39;49m\u001b[43m)\u001b[49m\n\u001b[0;32m      4\u001b[0m \u001b[38;5;28mprint\u001b[39m(arr)\n",
      "\u001b[1;31mTypeError\u001b[0m: linspace() missing 1 required positional argument: 'stop'"
     ]
    }
   ],
   "source": [
    "arr = np.linspace(0, 10, 5)\n",
    "arr = np.linspace(0, 10)\n",
    "# arr = np.linspace(10) TypeError: linspace() missing 1 required positional argument: 'stop'\n",
    "print(arr)"
   ]
  },
  {
   "cell_type": "markdown",
   "metadata": {},
   "source": [
    "- np.logspace(start_exp, end_exp, num, base)\n",
    "    - start_exp : 시작 지수\n",
    "    - end_exp : 끝 지수\n",
    "    - num : 결과로 만들어진 수열의 요소 갯수\n",
    "    - base : 밑 (기본값 = 10)"
   ]
  },
  {
   "cell_type": "markdown",
   "metadata": {},
   "source": [
    "- [참고] 지수 | 로그 \n",
    "    - 지수 : 거듭제곱 $a^x=b$에서 x\n",
    "    - 밑 : 거듭제곱될 수 $a^x=b$에서 a\n",
    "    - 로그 : 밑과 거듭제곱 결과로부터 지수를 반환 $log_a{b} = x$\n",
    "    - 자연로그 : 밑이 자연상수e (2.718...)인 로그\n",
    "    - 상용로그 : 밑이 10인 로그"
   ]
  },
  {
   "cell_type": "code",
   "execution_count": 60,
   "metadata": {},
   "outputs": [
    {
     "name": "stdout",
     "output_type": "stream",
     "text": [
      "[  10.           46.41588834  215.443469   1000.        ]\n"
     ]
    }
   ],
   "source": [
    "arr = np.logspace(1, 3, 4)\n",
    "print(arr)"
   ]
  },
  {
   "cell_type": "markdown",
   "metadata": {},
   "source": [
    "---"
   ]
  },
  {
   "cell_type": "markdown",
   "metadata": {},
   "source": [
    "### ndarray indexing & slicing"
   ]
  },
  {
   "cell_type": "code",
   "execution_count": 66,
   "metadata": {},
   "outputs": [
    {
     "name": "stdout",
     "output_type": "stream",
     "text": [
      "[ 1  2  3  4  5  6  7  8  9 10]\n",
      "2 4 10\n",
      "10 6\n"
     ]
    }
   ],
   "source": [
    "# 1차원 배열 인덱싱\n",
    "arr = np.arange(1, 11)\n",
    "print(arr)\n",
    "print(arr[1], arr[3], arr[9]) \n",
    "print(arr[-1], arr[-5])"
   ]
  },
  {
   "cell_type": "code",
   "execution_count": 72,
   "metadata": {},
   "outputs": [
    {
     "name": "stdout",
     "output_type": "stream",
     "text": [
      "[[10 20 30]\n",
      " [40 50 60]]\n",
      "10 20 30\n"
     ]
    }
   ],
   "source": [
    "# 2차원 배열 인덱싱\n",
    "arr_2d = np.array([[10, 20, 30], [40, 50, 60]])\n",
    "# print(arr_2d.shape)\n",
    "print(arr_2d)\n",
    "\n",
    "# print(arr_2d[0])\n",
    "print(arr_2d[0][0], arr_2d[0, 1], arr_2d[(0, 2)])"
   ]
  },
  {
   "cell_type": "code",
   "execution_count": 74,
   "metadata": {},
   "outputs": [
    {
     "name": "stdout",
     "output_type": "stream",
     "text": [
      "[[11 22 33]\n",
      " [44 55 66]\n",
      " [77 88 99]]\n",
      "44\n",
      "88\n",
      "88\n"
     ]
    }
   ],
   "source": [
    "arr = np.array([[11, 22, 33], [44, 55, 66], [77, 88, 99]])\n",
    "print(arr)\n",
    "print(arr[1, 0]) # 44\n",
    "print(arr[2, 1]) # 88\n",
    "print(arr[-1, -2]) # 88 (음수 인덱스 활용)"
   ]
  },
  {
   "cell_type": "code",
   "execution_count": 76,
   "metadata": {},
   "outputs": [
    {
     "name": "stdout",
     "output_type": "stream",
     "text": [
      "[ 1  2  3  4  5  6  7  8  9 10]\n",
      "[3 4 5 6 7]\n",
      "[1 3 5 7 9]\n",
      "[ 5  6  7  8  9 10]\n",
      "[1 2 3 4 5 6 7]\n",
      "[1 2 3 4 5 6 7]\n",
      "[10  9  8  7  6  5  4  3  2  1]\n"
     ]
    }
   ],
   "source": [
    "# 1차원 배열 슬라이싱\n",
    "arr = np.arange(1, 11)\n",
    "print(arr)\n",
    "print(arr[2:7]) #[3 4 5 6 7]\n",
    "print(arr[::2]) #[1 3 5 7 9]\n",
    "print(arr[4:]) #[5 6 7 8 9 10]\n",
    "print(arr[:7]) #[1 2 3 4 5 6 7]\n",
    "print(arr[:-3]) #[1 2 3 4 5 6 7]\n",
    "print(arr[::-1]) #[10 9 8 7 6 5 4 3 2 1]"
   ]
  },
  {
   "cell_type": "code",
   "execution_count": null,
   "metadata": {},
   "outputs": [
    {
     "name": "stdout",
     "output_type": "stream",
     "text": [
      "[[10 20 30]\n",
      " [40 50 60]\n",
      " [70 80 90]]\n",
      "[[20]\n",
      " [50]]\n",
      "[[10 20 30]\n",
      " [40 50 60]]\n",
      "[[10 20 30]\n",
      " [40 50 60]]\n",
      "[[20 30]\n",
      " [50 60]\n",
      " [80 90]]\n",
      "[[10]\n",
      " [40]] (2, 1)\n",
      "[10 40] (2,)\n"
     ]
    }
   ],
   "source": [
    "# 2차원 배열 슬라이싱\n",
    "arr = np.array([[10, 20, 30], [40, 50, 60], [70, 80, 90]])\n",
    "print(arr)\n",
    "print(arr[0:2, 1:2])    # [행 슬라이싱, 열 슬라이싱]\n",
    "# 1\n",
    "# [[10 20 30]\n",
    "#  [40 50 60]]\n",
    "print(arr[0:2, :])\n",
    "print(arr[0:2])\n",
    "\n",
    "# # 2\n",
    "# [[20 30]\n",
    "#  [50 60]\n",
    "#  [80 90]]\n",
    "\n",
    "print(arr[:, 1:])\n",
    "\n",
    "# 슬라이싱 = shape 유지 (차원 유지)\n",
    "print(arr[:-1, 0:1], arr[:-1, 0:1].shape)\n",
    "\n",
    "# index 접근 -> 값을 꺼내서 반환 (차원 제거)\n",
    "print(arr[:-1, 0], arr[:-1, 0].shape)"
   ]
  },
  {
   "cell_type": "code",
   "execution_count": 15,
   "metadata": {},
   "outputs": [
    {
     "name": "stdout",
     "output_type": "stream",
     "text": [
      "[ 5 10 15 20 25 30]\n",
      "[10 20 30]\n",
      "[10 20 30]\n"
     ]
    }
   ],
   "source": [
    "# 1차원 배열 fancy indexing\n",
    "arr = np.arange(5, 31, 5)\n",
    "print(arr)\n",
    "print(arr[[1, 3, 5]])\n",
    "\n",
    "indices = [1, 3, 5]\n",
    "print(arr[indices])"
   ]
  },
  {
   "cell_type": "code",
   "execution_count": null,
   "metadata": {},
   "outputs": [
    {
     "name": "stdout",
     "output_type": "stream",
     "text": [
      "[15 35]\n"
     ]
    }
   ],
   "source": [
    "# 2차원 배열 fancy indexing\n",
    "arr = np.array([\n",
    "    [5, 10, 15, 20],\n",
    "    [25, 30, 35, 40],\n",
    "    [45, 50, 55, 60]\n",
    "])\n",
    "\n",
    "# [10 35]\n",
    "indices1 = [0, 1] # 1행 2열\n",
    "indices2 = [1, 2] # 2행 3열\n",
    "print(arr[indices1, indices2])\n",
    "print(arr[[0, 1], [1, 2]])"
   ]
  },
  {
   "cell_type": "code",
   "execution_count": null,
   "metadata": {},
   "outputs": [
    {
     "name": "stdout",
     "output_type": "stream",
     "text": [
      "[15 35 55]\n"
     ]
    }
   ],
   "source": [
    "# 2차원 배열 fancy indexing\n",
    "arr = np.array([\n",
    "    [5, 10, 15, 20],\n",
    "    [25, 30, 35, 40],\n",
    "    [45, 50, 55, 60]\n",
    "])\n",
    "\n",
    "\n",
    "indices1 = [0, 1, 2] \n",
    "indices2 = [2, 2, 2] \n",
    "print(arr[indices1, indices2])  # [15 35 55]"
   ]
  },
  {
   "cell_type": "code",
   "execution_count": 89,
   "metadata": {},
   "outputs": [
    {
     "name": "stdout",
     "output_type": "stream",
     "text": [
      "[1 2 3 4 5]\n",
      "[1 5]\n"
     ]
    }
   ],
   "source": [
    "# boolean indexing\n",
    "arr = np.arange(1, 6)\n",
    "print(arr)\n",
    "\n",
    "bools = [True, False, False, False, True]\n",
    "print(arr[bools])"
   ]
  },
  {
   "cell_type": "code",
   "execution_count": 91,
   "metadata": {},
   "outputs": [
    {
     "name": "stdout",
     "output_type": "stream",
     "text": [
      "[12 15 18 21 24 27]\n",
      "[ 6 12 18 24]\n"
     ]
    }
   ],
   "source": [
    "# 2차원 배열 boolean indexing\n",
    "arr = np.array([\n",
    "    [3, 6, 9],\n",
    "    [12, 15, 18],\n",
    "    [21, 24, 27]\n",
    "])\n",
    "\n",
    "print(arr[arr > 10])\n",
    "print(arr[arr % 2 == 0])"
   ]
  },
  {
   "cell_type": "markdown",
   "metadata": {},
   "source": [
    "- np.all() : ndarray의 모든 요소가 조건을 만족할 때 True 반환\n",
    "- np.any() : ndarray의 모든 요소 중 하나라도 조건을 만족할 때 True 반환"
   ]
  },
  {
   "cell_type": "code",
   "execution_count": 7,
   "metadata": {},
   "outputs": [
    {
     "name": "stdout",
     "output_type": "stream",
     "text": [
      "모든 수는 양수입니다.\n"
     ]
    }
   ],
   "source": [
    "arr = np.array([10, 20, 30, 40, 50])\n",
    "\n",
    "is_all_positive = np.all(arr > 0)\n",
    "\n",
    "if is_all_positive:\n",
    "    print('모든 수는 양수입니다.')\n",
    "else:\n",
    "    print('모든 수가 양수는 아닙니다.')"
   ]
  },
  {
   "cell_type": "code",
   "execution_count": 8,
   "metadata": {},
   "outputs": [
    {
     "name": "stdout",
     "output_type": "stream",
     "text": [
      "양수가 포함되어 있습니다.\n"
     ]
    }
   ],
   "source": [
    "has_positive = np.any(arr > 0)\n",
    "\n",
    "if has_positive:\n",
    "    print('양수가 포함되어 있습니다.')\n",
    "else:\n",
    "    print('모든 수가 음수입니다.')"
   ]
  }
 ],
 "metadata": {
  "kernelspec": {
   "display_name": "pystudy_env",
   "language": "python",
   "name": "python3"
  },
  "language_info": {
   "codemirror_mode": {
    "name": "ipython",
    "version": 3
   },
   "file_extension": ".py",
   "mimetype": "text/x-python",
   "name": "python",
   "nbconvert_exporter": "python",
   "pygments_lexer": "ipython3",
   "version": "3.12.9"
  }
 },
 "nbformat": 4,
 "nbformat_minor": 2
}
