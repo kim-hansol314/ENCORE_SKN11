{
 "cells": [
  {
   "cell_type": "markdown",
   "metadata": {},
   "source": [
    "# 지도학습 분류 미리보기"
   ]
  },
  {
   "cell_type": "code",
   "execution_count": 166,
   "metadata": {},
   "outputs": [],
   "source": [
    "# !pip install scikit-learn"
   ]
  },
  {
   "cell_type": "code",
   "execution_count": 167,
   "metadata": {},
   "outputs": [],
   "source": [
    "import numpy as np\n",
    "import pandas as pd\n",
    "import matplotlib.pyplot as plt"
   ]
  },
  {
   "cell_type": "code",
   "execution_count": 168,
   "metadata": {},
   "outputs": [],
   "source": [
    "import matplotlib.font_manager as fm\n",
    "import matplotlib\n",
    "\n",
    "font_path = 'C:\\\\Windows\\\\Fonts\\\\gulim.ttc'\n",
    "font = fm.FontProperties(fname=font_path).get_name()\n",
    "matplotlib.rc('font', family=font)"
   ]
  },
  {
   "cell_type": "markdown",
   "metadata": {},
   "source": [
    "### 생선 이진분류 - 도미(bream) or 빙어(smelt)\n",
    "- 이진분류는 0, 1로 구분\n",
    "- 도미야? (1), 도미가 아니야? (0)"
   ]
  },
  {
   "cell_type": "code",
   "execution_count": 169,
   "metadata": {},
   "outputs": [
    {
     "data": {
      "text/plain": [
       "(35, 35)"
      ]
     },
     "execution_count": 169,
     "metadata": {},
     "output_type": "execute_result"
    }
   ],
   "source": [
    "# 도미\n",
    "bream_length = [25.4, 26.3, 26.5, 29.0, 29.0, 29.7, 29.7, 30.0, 30.0, 30.7, 31.0, 31.0, 31.5, 32.0, 32.0, 32.0, 33.0, 33.0, 33.5, 33.5, 34.0, 34.0, 34.5, 35.0, 35.0, 35.0, 35.0, 36.0, 36.0, 37.0, 38.5, 38.5, 39.5, 41.0, 41.0]\n",
    "bream_weight = [242.0, 290.0, 340.0, 363.0, 430.0, 450.0, 500.0, 390.0, 450.0, 500.0, 475.0, 500.0, 500.0, 340.0, 600.0, 600.0, 700.0, 700.0, 610.0, 650.0, 575.0, 685.0, 620.0, 680.0, 700.0, 725.0, 720.0, 714.0, 850.0, 1000.0, 920.0, 955.0, 925.0, 975.0, 950.0]\n",
    "len(bream_length), len(bream_weight)"
   ]
  },
  {
   "cell_type": "code",
   "execution_count": 170,
   "metadata": {},
   "outputs": [
    {
     "data": {
      "text/plain": [
       "(14, 14)"
      ]
     },
     "execution_count": 170,
     "metadata": {},
     "output_type": "execute_result"
    }
   ],
   "source": [
    "# 빙어\n",
    "smelt_length = [9.8, 10.5, 10.6, 11.0, 11.2, 11.3, 11.8, 11.8, 12.0, 12.2, 12.4, 13.0, 14.3, 15.0]\n",
    "smelt_weight = [6.7, 7.5, 7.0, 9.7, 9.8, 8.7, 10.0, 9.9, 9.8, 12.2, 13.4, 12.2, 19.7, 19.9]\n",
    "len(smelt_length), len(smelt_weight)"
   ]
  },
  {
   "cell_type": "code",
   "execution_count": 171,
   "metadata": {},
   "outputs": [
    {
     "data": {
      "image/png": "[encoded data removed]",
      "text/plain": [
       "<Figure size 640x480 with 1 Axes>"
      ]
     },
     "metadata": {},
     "output_type": "display_data"
    }
   ],
   "source": [
    "# 데이터 분포 확인 (산점도)\n",
    "plt.scatter(bream_length, bream_weight, label='도미')\n",
    "plt.scatter(smelt_length, smelt_weight, label='빙어')\n",
    "plt.xlabel('length')\n",
    "plt.ylabel('weight')\n",
    "plt.legend()\n",
    "plt.show()"
   ]
  },
  {
   "cell_type": "markdown",
   "metadata": {},
   "source": [
    "##### 데이터 전처리\n",
    "- 모델이 원하는 형태로 데이터 가공\n",
    "    - 입력(특성): [길이, 무게] 2차원 배열\n",
    "    - 결과(정답): 도미 or 빙어 -> 1, 0 으로 구성된 1차원 배열"
   ]
  },
  {
   "cell_type": "code",
   "execution_count": 172,
   "metadata": {},
   "outputs": [
    {
     "data": {
      "text/plain": [
       "[1,\n",
       " 1,\n",
       " 1,\n",
       " 1,\n",
       " 1,\n",
       " 1,\n",
       " 1,\n",
       " 1,\n",
       " 1,\n",
       " 1,\n",
       " 1,\n",
       " 1,\n",
       " 1,\n",
       " 1,\n",
       " 1,\n",
       " 1,\n",
       " 1,\n",
       " 1,\n",
       " 1,\n",
       " 1,\n",
       " 1,\n",
       " 1,\n",
       " 1,\n",
       " 1,\n",
       " 1,\n",
       " 1,\n",
       " 1,\n",
       " 1,\n",
       " 1,\n",
       " 1,\n",
       " 1,\n",
       " 1,\n",
       " 1,\n",
       " 1,\n",
       " 1,\n",
       " 0,\n",
       " 0,\n",
       " 0,\n",
       " 0,\n",
       " 0,\n",
       " 0,\n",
       " 0,\n",
       " 0,\n",
       " 0,\n",
       " 0,\n",
       " 0,\n",
       " 0,\n",
       " 0,\n",
       " 0]"
      ]
     },
     "execution_count": 172,
     "metadata": {},
     "output_type": "execute_result"
    }
   ],
   "source": [
    "fish_length = bream_length + smelt_length\n",
    "fish_weight = bream_weight + smelt_weight\n",
    "len(fish_length), len(fish_weight)\n",
    "\n",
    "# 훈련 입력 데이터\n",
    "train_input = []\n",
    "for l, w in zip(fish_length, fish_weight):\n",
    "    train_input.append([l, w])\n",
    "train_input\n",
    "\n",
    "# 훈련 정답 데이터\n",
    "train_label = [1] * len(bream_length) + [0] * len(smelt_length)\n",
    "train_label"
   ]
  },
  {
   "cell_type": "markdown",
   "metadata": {},
   "source": [
    "##### k-최근접 이웃 분류 모델"
   ]
  },
  {
   "cell_type": "code",
   "execution_count": 173,
   "metadata": {},
   "outputs": [],
   "source": [
    "from sklearn.neighbors import KNeighborsClassifier"
   ]
  },
  {
   "cell_type": "code",
   "execution_count": 174,
   "metadata": {},
   "outputs": [
    {
     "data": {
      "text/plain": [
       "array([1, 0])"
      ]
     },
     "execution_count": 174,
     "metadata": {},
     "output_type": "execute_result"
    }
   ],
   "source": [
    "kn = KNeighborsClassifier()\n",
    "\n",
    "# fit(훈련/학습) - score(평가) - predict(예측)\n",
    "# 최근접 이웃 모델의 훈련은 별도의 연산 없이 모델이 데이터를 로드하면 끝\n",
    "kn.fit(train_input, train_label)    # 입력 데이터, 정답 데이터\n",
    "kn.score(train_input, train_label)  # 100%\n",
    "kn.predict([[30, 500], [10, 5]])"
   ]
  },
  {
   "cell_type": "code",
   "execution_count": 175,
   "metadata": {},
   "outputs": [
    {
     "name": "stdout",
     "output_type": "stream",
     "text": [
      "[[ 0.3         0.7         1.          1.5        25.01999201]]\n",
      "[[ 6  9 11 12 10]]\n",
      "[[[ 29.7 500. ]\n",
      "  [ 30.7 500. ]\n",
      "  [ 31.  500. ]\n",
      "  [ 31.5 500. ]\n",
      "  [ 31.  475. ]]]\n",
      "[[1 1 1 1 1]]\n"
     ]
    }
   ],
   "source": [
    "# 최근접 이웃 모델의 작동 원리\n",
    "# - 주어진 데이터와 가장 가까운 k개의 이웃을 찾고, 이웃 데이터를 이용해 예측\n",
    "# - distances : 모델 데이터포인트와의 거리 (유클리드 거리 측정 방식)\n",
    "# - index : 모델 데이터포인트의 인덱스\n",
    "distances, index = kn.kneighbors([[30, 500]])\n",
    "print(distances)\n",
    "print(index)\n",
    "\n",
    "print(np.array(train_input)[index])\n",
    "print(np.array(train_label)[index])"
   ]
  },
  {
   "cell_type": "code",
   "execution_count": 176,
   "metadata": {},
   "outputs": [
    {
     "data": {
      "image/png": "[encoded data removed]",
      "text/plain": [
       "<Figure size 640x480 with 1 Axes>"
      ]
     },
     "metadata": {},
     "output_type": "display_data"
    }
   ],
   "source": [
    "train_input = np.array(train_input)\n",
    "\n",
    "plt.scatter(bream_length, bream_weight, label='도미')\n",
    "plt.scatter(smelt_length, smelt_weight, label='빙어')\n",
    "plt.scatter(30, 500, label='예측', marker='^')\n",
    "plt.scatter(train_input[index, 0], train_input[index, 1], label='최근접이웃', marker='x')\n",
    "plt.xlabel('length')\n",
    "plt.ylabel('weight')\n",
    "plt.legend()\n",
    "plt.show()"
   ]
  },
  {
   "cell_type": "code",
   "execution_count": 177,
   "metadata": {},
   "outputs": [
    {
     "data": {
      "text/plain": [
       "0.7142857142857143"
      ]
     },
     "execution_count": 177,
     "metadata": {},
     "output_type": "execute_result"
    }
   ],
   "source": [
    "# k 개수 변경\n",
    "kn49 = KNeighborsClassifier(n_neighbors=49)\n",
    "\n",
    "kn49.fit(train_input, train_label)\n",
    "kn49.score(train_input, train_label)"
   ]
  },
  {
   "cell_type": "markdown",
   "metadata": {},
   "source": [
    "##### 훈련데이터-테스트(평가)데이터 분리"
   ]
  },
  {
   "cell_type": "code",
   "execution_count": 178,
   "metadata": {},
   "outputs": [],
   "source": [
    "fish_input = []\n",
    "for l, w in zip(fish_length, fish_weight):\n",
    "    fish_input.append([l, w])\n",
    "\n",
    "fish_label = [1] * len(bream_length) + [0] * len(smelt_length)"
   ]
  },
  {
   "cell_type": "code",
   "execution_count": 179,
   "metadata": {},
   "outputs": [
    {
     "data": {
      "text/plain": [
       "0.0"
      ]
     },
     "execution_count": 179,
     "metadata": {},
     "output_type": "execute_result"
    }
   ],
   "source": [
    "# sampling 편향 : 데이터가 한쪽으로 치우친 현상\n",
    "# train 데이터는 전부 다 도미, test 데이터는 전부 다 빙어\n",
    "train_input = fish_input[:35]\n",
    "train_label = fish_label[:35]   # 1\n",
    "\n",
    "test_input = fish_input[35:]\n",
    "test_label = fish_label[35:]    # 0\n",
    "\n",
    "kn = KNeighborsClassifier()\n",
    "kn.fit(train_input, train_label)\n",
    "kn.score(test_input, test_label)"
   ]
  },
  {
   "cell_type": "code",
   "execution_count": 180,
   "metadata": {},
   "outputs": [
    {
     "data": {
      "text/plain": [
       "(24, 11)"
      ]
     },
     "execution_count": 180,
     "metadata": {},
     "output_type": "execute_result"
    }
   ],
   "source": [
    "from sklearn.model_selection import train_test_split\n",
    "train_input, test_input, train_label, test_label = train_test_split(fish_input, fish_label, test_size=0.3, stratify=fish_label, random_state=42)\n",
    "\n",
    "train_input, test_input, train_label, test_label\n",
    "sum(train_label), sum(test_label)"
   ]
  },
  {
   "cell_type": "code",
   "execution_count": 181,
   "metadata": {},
   "outputs": [
    {
     "data": {
      "text/plain": [
       "0.3142857142857143"
      ]
     },
     "execution_count": 181,
     "metadata": {},
     "output_type": "execute_result"
    }
   ],
   "source": [
    "11/35"
   ]
  },
  {
   "cell_type": "code",
   "execution_count": 182,
   "metadata": {},
   "outputs": [
    {
     "data": {
      "image/png": "[encoded data removed]",
      "text/plain": [
       "<Figure size 640x480 with 1 Axes>"
      ]
     },
     "metadata": {},
     "output_type": "display_data"
    }
   ],
   "source": [
    "train_input = np.array(train_input)\n",
    "test_input = np.array(test_input)\n",
    "\n",
    "plt.scatter(train_input[:, 0], train_input[:, 1], label='훈련')\n",
    "plt.scatter(test_input[:, 0], test_input[:, 1], label='평가')\n",
    "plt.xlabel('length')\n",
    "plt.ylabel('weight')\n",
    "plt.legend()\n",
    "plt.show()"
   ]
  },
  {
   "cell_type": "code",
   "execution_count": 183,
   "metadata": {},
   "outputs": [
    {
     "data": {
      "text/plain": [
       "1.0"
      ]
     },
     "execution_count": 183,
     "metadata": {},
     "output_type": "execute_result"
    }
   ],
   "source": [
    "kn.fit(train_input, train_label)\n",
    "kn.score(test_input, test_label)"
   ]
  },
  {
   "cell_type": "markdown",
   "metadata": {},
   "source": [
    "##### 정규화\n",
    "- 데이터포인트의 값의 범위를 재정의하는 것\n",
    "    - StandardScaler\n",
    "    - MinMaxScaler"
   ]
  },
  {
   "cell_type": "code",
   "execution_count": 184,
   "metadata": {},
   "outputs": [
    {
     "data": {
      "text/plain": [
       "array([0])"
      ]
     },
     "execution_count": 184,
     "metadata": {},
     "output_type": "execute_result"
    }
   ],
   "source": [
    "kn = KNeighborsClassifier()\n",
    "kn.fit(train_input, train_label)\n",
    "kn.score(test_input, test_label)\n",
    "\n",
    "predict_input = [25, 150]\n",
    "kn.predict([predict_input])"
   ]
  },
  {
   "cell_type": "code",
   "execution_count": 185,
   "metadata": {},
   "outputs": [
    {
     "data": {
      "image/png": "[encoded data removed]",
      "text/plain": [
       "<Figure size 640x480 with 1 Axes>"
      ]
     },
     "metadata": {},
     "output_type": "display_data"
    }
   ],
   "source": [
    "plt.scatter(train_input[:, 0], train_input[:, 1], label='훈련')\n",
    "# plt.scatter(test_input[:, 0], test_input[:, 1], label='평가')\n",
    "plt.scatter(predict_input[0], predict_input[1], label='예측', marker='D')\n",
    "plt.xlabel('length')\n",
    "plt.ylabel('weight')\n",
    "plt.xlim((0, 1000))\n",
    "plt.legend()\n",
    "plt.show()"
   ]
  },
  {
   "cell_type": "code",
   "execution_count": 186,
   "metadata": {},
   "outputs": [
    {
     "data": {
      "text/plain": [
       "array([[0, 0, 0, 0, 0]])"
      ]
     },
     "execution_count": 186,
     "metadata": {},
     "output_type": "execute_result"
    }
   ],
   "source": [
    "distances, index = kn.kneighbors([predict_input])\n",
    "np.array(train_label)[index]"
   ]
  },
  {
   "cell_type": "markdown",
   "metadata": {},
   "source": [
    "##### 표준 점수 (z-score)\n",
    "- 평균에서 얼마나 떨어져 있는지를 표준편차 단위로 계산한 값\n",
    "$$\n",
    "    표준 점수 = \\frac{데이터포인트 - 평균}{표준편차}\n",
    "$$"
   ]
  },
  {
   "cell_type": "code",
   "execution_count": 187,
   "metadata": {},
   "outputs": [
    {
     "data": {
      "text/plain": [
       "(array([ 27.02352941, 445.60294118]), array([ 10.0816099 , 319.21122132]))"
      ]
     },
     "execution_count": 187,
     "metadata": {},
     "output_type": "execute_result"
    }
   ],
   "source": [
    "mean = np.mean(train_input, axis=0)\n",
    "std = np.std(train_input, axis=0)\n",
    "mean, std"
   ]
  },
  {
   "cell_type": "code",
   "execution_count": 188,
   "metadata": {},
   "outputs": [
    {
     "data": {
      "text/plain": [
       "array([[-1.4703534 , -1.35773091],\n",
       "       [ 0.49361864,  0.48368306],\n",
       "       [ 0.74159491,  0.54633749],\n",
       "       [ 0.36467098,  0.17041086],\n",
       "       [ 0.49361864,  0.48368306],\n",
       "       [ 0.79119016,  0.85960969],\n",
       "       [-1.55962486, -1.36869543],\n",
       "       [ 0.89038067,  0.84081336],\n",
       "       [ 0.19604712, -0.04887968],\n",
       "       [-1.56954391, -1.36524944],\n",
       "       [ 0.26548048,  0.17041086],\n",
       "       [-1.4901915 , -1.36524944],\n",
       "       [ 0.39442813,  0.09209281],\n",
       "       [ 0.98957118,  1.73677184],\n",
       "       [ 0.19604712, -0.25877205],\n",
       "       [ 0.59280915,  0.79695525],\n",
       "       [-1.26205334, -1.33423549],\n",
       "       [ 0.44402339,  0.17041086],\n",
       "       [ 1.23754745,  1.50181769],\n",
       "       [-1.70841062, -1.37496088],\n",
       "       [ 0.89038067,  1.26686354],\n",
       "       [-1.63897726, -1.3724547 ],\n",
       "       [ 0.6424044 ,  0.51501027],\n",
       "       [-1.62905821, -1.37402106],\n",
       "       [ 0.79119016,  0.79695525],\n",
       "       [ 0.79119016,  0.8752733 ],\n",
       "       [-1.391001  , -1.35773091],\n",
       "       [ 0.29523763,  0.01377476],\n",
       "       [ 0.59280915,  0.79695525],\n",
       "       [-1.19261998, -1.33360895],\n",
       "       [ 0.49361864, -0.33082465],\n",
       "       [ 0.6424044 ,  0.64031915],\n",
       "       [ 0.29523763, -0.17418855],\n",
       "       [ 1.38633321,  1.65845379]])"
      ]
     },
     "execution_count": 188,
     "metadata": {},
     "output_type": "execute_result"
    }
   ],
   "source": [
    "train_scaled = (train_input - mean) / std\n",
    "train_scaled"
   ]
  },
  {
   "cell_type": "code",
   "execution_count": 189,
   "metadata": {},
   "outputs": [
    {
     "data": {
      "text/plain": [
       "array([[-1.58938201, -1.36556271],\n",
       "       [-1.51002961, -1.36493617],\n",
       "       [ 1.13835694,  1.59579935],\n",
       "       [ 0.79119016,  0.73430081],\n",
       "       [ 0.69199966,  0.40536501],\n",
       "       [-1.4505153 , -1.35397164],\n",
       "       [-0.07176725, -0.48746075],\n",
       "       [ 1.38633321,  1.58013574],\n",
       "       [-0.16103871, -0.6378314 ],\n",
       "       [ 0.69199966,  0.74996442],\n",
       "       [ 0.39442813,  0.17041086],\n",
       "       [ 1.13835694,  1.48615408],\n",
       "       [ 0.26548048,  0.01377476],\n",
       "       [-1.51002961, -1.3646229 ],\n",
       "       [-0.05192915, -0.33082465]])"
      ]
     },
     "execution_count": 189,
     "metadata": {},
     "output_type": "execute_result"
    }
   ],
   "source": [
    "test_scaled = (test_input - mean) / std\n",
    "test_scaled"
   ]
  },
  {
   "cell_type": "code",
   "execution_count": 190,
   "metadata": {},
   "outputs": [
    {
     "data": {
      "text/plain": [
       "1.0"
      ]
     },
     "execution_count": 190,
     "metadata": {},
     "output_type": "execute_result"
    }
   ],
   "source": [
    "kn.fit(train_scaled, train_label)\n",
    "kn.score(test_scaled, test_label)"
   ]
  },
  {
   "cell_type": "code",
   "execution_count": 191,
   "metadata": {},
   "outputs": [
    {
     "data": {
      "text/plain": [
       "array([-0.20071491, -0.92604182])"
      ]
     },
     "execution_count": 191,
     "metadata": {},
     "output_type": "execute_result"
    }
   ],
   "source": [
    "# 훈련, 데스트, 예측 데이터 모두 동일한 방식으로 스케일링을 적용해야 함\n",
    "predict_scaled = (predict_input - mean) / std \n",
    "predict_scaled"
   ]
  },
  {
   "cell_type": "code",
   "execution_count": 192,
   "metadata": {},
   "outputs": [
    {
     "data": {
      "text/plain": [
       "array([1])"
      ]
     },
     "execution_count": 192,
     "metadata": {},
     "output_type": "execute_result"
    }
   ],
   "source": [
    "kn.predict([predict_input])"
   ]
  },
  {
   "cell_type": "code",
   "execution_count": 193,
   "metadata": {},
   "outputs": [
    {
     "data": {
      "image/png": "[encoded data removed]",
      "text/plain": [
       "<Figure size 640x480 with 1 Axes>"
      ]
     },
     "metadata": {},
     "output_type": "display_data"
    }
   ],
   "source": [
    "plt.scatter(train_scaled[:, 0], train_scaled[:, 1], label='훈련')\n",
    "plt.scatter(test_scaled[:, 0], test_scaled[:, 1], label='평가')\n",
    "plt.scatter(predict_scaled[0], predict_scaled[1], label='예측', marker='D')\n",
    "plt.xlabel('length')\n",
    "plt.ylabel('weight')\n",
    "plt.legend()\n",
    "plt.show()"
   ]
  },
  {
   "cell_type": "code",
   "execution_count": 194,
   "metadata": {},
   "outputs": [
    {
     "data": {
      "text/plain": [
       "array([[-1.4703534 , -1.35773091],\n",
       "       [ 0.49361864,  0.48368306],\n",
       "       [ 0.74159491,  0.54633749],\n",
       "       [ 0.36467098,  0.17041086],\n",
       "       [ 0.49361864,  0.48368306],\n",
       "       [ 0.79119016,  0.85960969],\n",
       "       [-1.55962486, -1.36869543],\n",
       "       [ 0.89038067,  0.84081336],\n",
       "       [ 0.19604712, -0.04887968],\n",
       "       [-1.56954391, -1.36524944],\n",
       "       [ 0.26548048,  0.17041086],\n",
       "       [-1.4901915 , -1.36524944],\n",
       "       [ 0.39442813,  0.09209281],\n",
       "       [ 0.98957118,  1.73677184],\n",
       "       [ 0.19604712, -0.25877205],\n",
       "       [ 0.59280915,  0.79695525],\n",
       "       [-1.26205334, -1.33423549],\n",
       "       [ 0.44402339,  0.17041086],\n",
       "       [ 1.23754745,  1.50181769],\n",
       "       [-1.70841062, -1.37496088],\n",
       "       [ 0.89038067,  1.26686354],\n",
       "       [-1.63897726, -1.3724547 ],\n",
       "       [ 0.6424044 ,  0.51501027],\n",
       "       [-1.62905821, -1.37402106],\n",
       "       [ 0.79119016,  0.79695525],\n",
       "       [ 0.79119016,  0.8752733 ],\n",
       "       [-1.391001  , -1.35773091],\n",
       "       [ 0.29523763,  0.01377476],\n",
       "       [ 0.59280915,  0.79695525],\n",
       "       [-1.19261998, -1.33360895],\n",
       "       [ 0.49361864, -0.33082465],\n",
       "       [ 0.6424044 ,  0.64031915],\n",
       "       [ 0.29523763, -0.17418855],\n",
       "       [ 1.38633321,  1.65845379]])"
      ]
     },
     "execution_count": 194,
     "metadata": {},
     "output_type": "execute_result"
    }
   ],
   "source": [
    "# StandardScaler\n",
    "from sklearn.preprocessing import StandardScaler\n",
    "std_scaler = StandardScaler()\n",
    "train_scaled = std_scaler.fit_transform(train_input)\n",
    "train_scaled"
   ]
  },
  {
   "cell_type": "markdown",
   "metadata": {},
   "source": [
    "##### 이진분류 정리"
   ]
  },
  {
   "cell_type": "code",
   "execution_count": 195,
   "metadata": {},
   "outputs": [],
   "source": [
    "# 머신러닝 파이프라인에 따라 위에서 해본 이진분류를 하나의 코드 셀에 정리해 봅시다!"
   ]
  },
  {
   "cell_type": "markdown",
   "metadata": {},
   "source": [
    "---"
   ]
  },
  {
   "cell_type": "markdown",
   "metadata": {},
   "source": [
    "### 생선 다중분류\n",
    "- 다중분류 클래스 값의 크기와 같은 배열 형태로 결과를 도출"
   ]
  },
  {
   "cell_type": "code",
   "execution_count": 196,
   "metadata": {},
   "outputs": [
    {
     "data": {
      "text/html": [
       "<div>\n",
       "<style scoped>\n",
       "    .dataframe tbody tr th:only-of-type {\n",
       "        vertical-align: middle;\n",
       "    }\n",
       "\n",
       "    .dataframe tbody tr th {\n",
       "        vertical-align: top;\n",
       "    }\n",
       "\n",
       "    .dataframe thead th {\n",
       "        text-align: right;\n",
       "    }\n",
       "</style>\n",
       "<table border=\"1\" class=\"dataframe\">\n",
       "  <thead>\n",
       "    <tr style=\"text-align: right;\">\n",
       "      <th></th>\n",
       "      <th>Species</th>\n",
       "      <th>Weight</th>\n",
       "      <th>Length</th>\n",
       "      <th>Diagonal</th>\n",
       "      <th>Height</th>\n",
       "      <th>Width</th>\n",
       "    </tr>\n",
       "  </thead>\n",
       "  <tbody>\n",
       "    <tr>\n",
       "      <th>0</th>\n",
       "      <td>Bream</td>\n",
       "      <td>242.0</td>\n",
       "      <td>25.4</td>\n",
       "      <td>30.0</td>\n",
       "      <td>11.5200</td>\n",
       "      <td>4.0200</td>\n",
       "    </tr>\n",
       "    <tr>\n",
       "      <th>1</th>\n",
       "      <td>Bream</td>\n",
       "      <td>290.0</td>\n",
       "      <td>26.3</td>\n",
       "      <td>31.2</td>\n",
       "      <td>12.4800</td>\n",
       "      <td>4.3056</td>\n",
       "    </tr>\n",
       "    <tr>\n",
       "      <th>2</th>\n",
       "      <td>Bream</td>\n",
       "      <td>340.0</td>\n",
       "      <td>26.5</td>\n",
       "      <td>31.1</td>\n",
       "      <td>12.3778</td>\n",
       "      <td>4.6961</td>\n",
       "    </tr>\n",
       "    <tr>\n",
       "      <th>3</th>\n",
       "      <td>Bream</td>\n",
       "      <td>363.0</td>\n",
       "      <td>29.0</td>\n",
       "      <td>33.5</td>\n",
       "      <td>12.7300</td>\n",
       "      <td>4.4555</td>\n",
       "    </tr>\n",
       "    <tr>\n",
       "      <th>4</th>\n",
       "      <td>Bream</td>\n",
       "      <td>430.0</td>\n",
       "      <td>29.0</td>\n",
       "      <td>34.0</td>\n",
       "      <td>12.4440</td>\n",
       "      <td>5.1340</td>\n",
       "    </tr>\n",
       "    <tr>\n",
       "      <th>...</th>\n",
       "      <td>...</td>\n",
       "      <td>...</td>\n",
       "      <td>...</td>\n",
       "      <td>...</td>\n",
       "      <td>...</td>\n",
       "      <td>...</td>\n",
       "    </tr>\n",
       "    <tr>\n",
       "      <th>154</th>\n",
       "      <td>Smelt</td>\n",
       "      <td>12.2</td>\n",
       "      <td>12.2</td>\n",
       "      <td>13.4</td>\n",
       "      <td>2.0904</td>\n",
       "      <td>1.3936</td>\n",
       "    </tr>\n",
       "    <tr>\n",
       "      <th>155</th>\n",
       "      <td>Smelt</td>\n",
       "      <td>13.4</td>\n",
       "      <td>12.4</td>\n",
       "      <td>13.5</td>\n",
       "      <td>2.4300</td>\n",
       "      <td>1.2690</td>\n",
       "    </tr>\n",
       "    <tr>\n",
       "      <th>156</th>\n",
       "      <td>Smelt</td>\n",
       "      <td>12.2</td>\n",
       "      <td>13.0</td>\n",
       "      <td>13.8</td>\n",
       "      <td>2.2770</td>\n",
       "      <td>1.2558</td>\n",
       "    </tr>\n",
       "    <tr>\n",
       "      <th>157</th>\n",
       "      <td>Smelt</td>\n",
       "      <td>19.7</td>\n",
       "      <td>14.3</td>\n",
       "      <td>15.2</td>\n",
       "      <td>2.8728</td>\n",
       "      <td>2.0672</td>\n",
       "    </tr>\n",
       "    <tr>\n",
       "      <th>158</th>\n",
       "      <td>Smelt</td>\n",
       "      <td>19.9</td>\n",
       "      <td>15.0</td>\n",
       "      <td>16.2</td>\n",
       "      <td>2.9322</td>\n",
       "      <td>1.8792</td>\n",
       "    </tr>\n",
       "  </tbody>\n",
       "</table>\n",
       "<p>159 rows × 6 columns</p>\n",
       "</div>"
      ],
      "text/plain": [
       "    Species  Weight  Length  Diagonal   Height   Width\n",
       "0     Bream   242.0    25.4      30.0  11.5200  4.0200\n",
       "1     Bream   290.0    26.3      31.2  12.4800  4.3056\n",
       "2     Bream   340.0    26.5      31.1  12.3778  4.6961\n",
       "3     Bream   363.0    29.0      33.5  12.7300  4.4555\n",
       "4     Bream   430.0    29.0      34.0  12.4440  5.1340\n",
       "..      ...     ...     ...       ...      ...     ...\n",
       "154   Smelt    12.2    12.2      13.4   2.0904  1.3936\n",
       "155   Smelt    13.4    12.4      13.5   2.4300  1.2690\n",
       "156   Smelt    12.2    13.0      13.8   2.2770  1.2558\n",
       "157   Smelt    19.7    14.3      15.2   2.8728  2.0672\n",
       "158   Smelt    19.9    15.0      16.2   2.9322  1.8792\n",
       "\n",
       "[159 rows x 6 columns]"
      ]
     },
     "execution_count": 196,
     "metadata": {},
     "output_type": "execute_result"
    }
   ],
   "source": [
    "df = pd.read_csv('./data/fish.csv')\n",
    "df"
   ]
  },
  {
   "cell_type": "code",
   "execution_count": 197,
   "metadata": {},
   "outputs": [
    {
     "data": {
      "text/plain": [
       "Species\n",
       "Perch        56\n",
       "Bream        35\n",
       "Roach        20\n",
       "Pike         17\n",
       "Smelt        14\n",
       "Parkki       11\n",
       "Whitefish     6\n",
       "Name: count, dtype: int64"
      ]
     },
     "execution_count": 197,
     "metadata": {},
     "output_type": "execute_result"
    }
   ],
   "source": [
    "df['Species'].value_counts()"
   ]
  },
  {
   "cell_type": "code",
   "execution_count": 198,
   "metadata": {},
   "outputs": [
    {
     "data": {
      "text/plain": [
       "array(['Bream', 'Roach', 'Whitefish', 'Parkki', 'Perch', 'Pike', 'Smelt'],\n",
       "      dtype=object)"
      ]
     },
     "execution_count": 198,
     "metadata": {},
     "output_type": "execute_result"
    }
   ],
   "source": [
    "df['Species'].unique()"
   ]
  },
  {
   "cell_type": "code",
   "execution_count": 199,
   "metadata": {},
   "outputs": [
    {
     "name": "stdout",
     "output_type": "stream",
     "text": [
      "<class 'pandas.core.frame.DataFrame'>\n",
      "RangeIndex: 159 entries, 0 to 158\n",
      "Data columns (total 6 columns):\n",
      " #   Column    Non-Null Count  Dtype  \n",
      "---  ------    --------------  -----  \n",
      " 0   Species   159 non-null    object \n",
      " 1   Weight    159 non-null    float64\n",
      " 2   Length    159 non-null    float64\n",
      " 3   Diagonal  159 non-null    float64\n",
      " 4   Height    159 non-null    float64\n",
      " 5   Width     159 non-null    float64\n",
      "dtypes: float64(5), object(1)\n",
      "memory usage: 7.6+ KB\n"
     ]
    }
   ],
   "source": [
    "df.info()"
   ]
  },
  {
   "cell_type": "code",
   "execution_count": 200,
   "metadata": {},
   "outputs": [
    {
     "data": {
      "text/html": [
       "<div>\n",
       "<style scoped>\n",
       "    .dataframe tbody tr th:only-of-type {\n",
       "        vertical-align: middle;\n",
       "    }\n",
       "\n",
       "    .dataframe tbody tr th {\n",
       "        vertical-align: top;\n",
       "    }\n",
       "\n",
       "    .dataframe thead th {\n",
       "        text-align: right;\n",
       "    }\n",
       "</style>\n",
       "<table border=\"1\" class=\"dataframe\">\n",
       "  <thead>\n",
       "    <tr style=\"text-align: right;\">\n",
       "      <th></th>\n",
       "      <th>Weight</th>\n",
       "      <th>Length</th>\n",
       "      <th>Diagonal</th>\n",
       "      <th>Height</th>\n",
       "      <th>Width</th>\n",
       "    </tr>\n",
       "  </thead>\n",
       "  <tbody>\n",
       "    <tr>\n",
       "      <th>count</th>\n",
       "      <td>159.000000</td>\n",
       "      <td>159.000000</td>\n",
       "      <td>159.000000</td>\n",
       "      <td>159.000000</td>\n",
       "      <td>159.000000</td>\n",
       "    </tr>\n",
       "    <tr>\n",
       "      <th>mean</th>\n",
       "      <td>398.326415</td>\n",
       "      <td>28.415723</td>\n",
       "      <td>31.227044</td>\n",
       "      <td>8.970994</td>\n",
       "      <td>4.417486</td>\n",
       "    </tr>\n",
       "    <tr>\n",
       "      <th>std</th>\n",
       "      <td>357.978317</td>\n",
       "      <td>10.716328</td>\n",
       "      <td>11.610246</td>\n",
       "      <td>4.286208</td>\n",
       "      <td>1.685804</td>\n",
       "    </tr>\n",
       "    <tr>\n",
       "      <th>min</th>\n",
       "      <td>0.000000</td>\n",
       "      <td>8.400000</td>\n",
       "      <td>8.800000</td>\n",
       "      <td>1.728400</td>\n",
       "      <td>1.047600</td>\n",
       "    </tr>\n",
       "    <tr>\n",
       "      <th>25%</th>\n",
       "      <td>120.000000</td>\n",
       "      <td>21.000000</td>\n",
       "      <td>23.150000</td>\n",
       "      <td>5.944800</td>\n",
       "      <td>3.385650</td>\n",
       "    </tr>\n",
       "    <tr>\n",
       "      <th>50%</th>\n",
       "      <td>273.000000</td>\n",
       "      <td>27.300000</td>\n",
       "      <td>29.400000</td>\n",
       "      <td>7.786000</td>\n",
       "      <td>4.248500</td>\n",
       "    </tr>\n",
       "    <tr>\n",
       "      <th>75%</th>\n",
       "      <td>650.000000</td>\n",
       "      <td>35.500000</td>\n",
       "      <td>39.650000</td>\n",
       "      <td>12.365900</td>\n",
       "      <td>5.584500</td>\n",
       "    </tr>\n",
       "    <tr>\n",
       "      <th>max</th>\n",
       "      <td>1650.000000</td>\n",
       "      <td>63.400000</td>\n",
       "      <td>68.000000</td>\n",
       "      <td>18.957000</td>\n",
       "      <td>8.142000</td>\n",
       "    </tr>\n",
       "  </tbody>\n",
       "</table>\n",
       "</div>"
      ],
      "text/plain": [
       "            Weight      Length    Diagonal      Height       Width\n",
       "count   159.000000  159.000000  159.000000  159.000000  159.000000\n",
       "mean    398.326415   28.415723   31.227044    8.970994    4.417486\n",
       "std     357.978317   10.716328   11.610246    4.286208    1.685804\n",
       "min       0.000000    8.400000    8.800000    1.728400    1.047600\n",
       "25%     120.000000   21.000000   23.150000    5.944800    3.385650\n",
       "50%     273.000000   27.300000   29.400000    7.786000    4.248500\n",
       "75%     650.000000   35.500000   39.650000   12.365900    5.584500\n",
       "max    1650.000000   63.400000   68.000000   18.957000    8.142000"
      ]
     },
     "execution_count": 200,
     "metadata": {},
     "output_type": "execute_result"
    }
   ],
   "source": [
    "df.describe()"
   ]
  },
  {
   "cell_type": "code",
   "execution_count": 201,
   "metadata": {},
   "outputs": [
    {
     "data": {
      "text/html": [
       "<div>\n",
       "<style scoped>\n",
       "    .dataframe tbody tr th:only-of-type {\n",
       "        vertical-align: middle;\n",
       "    }\n",
       "\n",
       "    .dataframe tbody tr th {\n",
       "        vertical-align: top;\n",
       "    }\n",
       "\n",
       "    .dataframe thead th {\n",
       "        text-align: right;\n",
       "    }\n",
       "</style>\n",
       "<table border=\"1\" class=\"dataframe\">\n",
       "  <thead>\n",
       "    <tr style=\"text-align: right;\">\n",
       "      <th></th>\n",
       "      <th>Weight</th>\n",
       "      <th>Length</th>\n",
       "      <th>Diagonal</th>\n",
       "      <th>Height</th>\n",
       "      <th>Width</th>\n",
       "    </tr>\n",
       "  </thead>\n",
       "  <tbody>\n",
       "    <tr>\n",
       "      <th>count</th>\n",
       "      <td>158.000000</td>\n",
       "      <td>158.000000</td>\n",
       "      <td>158.000000</td>\n",
       "      <td>158.000000</td>\n",
       "      <td>158.000000</td>\n",
       "    </tr>\n",
       "    <tr>\n",
       "      <th>mean</th>\n",
       "      <td>400.847468</td>\n",
       "      <td>28.465823</td>\n",
       "      <td>31.280380</td>\n",
       "      <td>8.986790</td>\n",
       "      <td>4.424232</td>\n",
       "    </tr>\n",
       "    <tr>\n",
       "      <th>std</th>\n",
       "      <td>357.697796</td>\n",
       "      <td>10.731707</td>\n",
       "      <td>11.627605</td>\n",
       "      <td>4.295191</td>\n",
       "      <td>1.689010</td>\n",
       "    </tr>\n",
       "    <tr>\n",
       "      <th>min</th>\n",
       "      <td>5.900000</td>\n",
       "      <td>8.400000</td>\n",
       "      <td>8.800000</td>\n",
       "      <td>1.728400</td>\n",
       "      <td>1.047600</td>\n",
       "    </tr>\n",
       "    <tr>\n",
       "      <th>25%</th>\n",
       "      <td>121.250000</td>\n",
       "      <td>21.000000</td>\n",
       "      <td>23.200000</td>\n",
       "      <td>5.940600</td>\n",
       "      <td>3.398650</td>\n",
       "    </tr>\n",
       "    <tr>\n",
       "      <th>50%</th>\n",
       "      <td>281.500000</td>\n",
       "      <td>27.400000</td>\n",
       "      <td>29.700000</td>\n",
       "      <td>7.789000</td>\n",
       "      <td>4.277050</td>\n",
       "    </tr>\n",
       "    <tr>\n",
       "      <th>75%</th>\n",
       "      <td>650.000000</td>\n",
       "      <td>35.750000</td>\n",
       "      <td>39.675000</td>\n",
       "      <td>12.371850</td>\n",
       "      <td>5.586750</td>\n",
       "    </tr>\n",
       "    <tr>\n",
       "      <th>max</th>\n",
       "      <td>1650.000000</td>\n",
       "      <td>63.400000</td>\n",
       "      <td>68.000000</td>\n",
       "      <td>18.957000</td>\n",
       "      <td>8.142000</td>\n",
       "    </tr>\n",
       "  </tbody>\n",
       "</table>\n",
       "</div>"
      ],
      "text/plain": [
       "            Weight      Length    Diagonal      Height       Width\n",
       "count   158.000000  158.000000  158.000000  158.000000  158.000000\n",
       "mean    400.847468   28.465823   31.280380    8.986790    4.424232\n",
       "std     357.697796   10.731707   11.627605    4.295191    1.689010\n",
       "min       5.900000    8.400000    8.800000    1.728400    1.047600\n",
       "25%     121.250000   21.000000   23.200000    5.940600    3.398650\n",
       "50%     281.500000   27.400000   29.700000    7.789000    4.277050\n",
       "75%     650.000000   35.750000   39.675000   12.371850    5.586750\n",
       "max    1650.000000   63.400000   68.000000   18.957000    8.142000"
      ]
     },
     "execution_count": 201,
     "metadata": {},
     "output_type": "execute_result"
    }
   ],
   "source": [
    "# df[df['Weight'] == 0].index # Weight가 0인 생선 = 40번 index\n",
    "df = df.drop(40).reset_index(drop=True)\n",
    "df.describe()"
   ]
  },
  {
   "cell_type": "markdown",
   "metadata": {},
   "source": [
    "##### 데이터 전처리\n",
    "- 훈련 데이터의 규격 : input + label (numpy ndarray)\n",
    "- 훈련 데이터/테스트(평가) 데이터 분리\n",
    "- 정규화 (컬럼값 사이의 차이를 완화)"
   ]
  },
  {
   "cell_type": "code",
   "execution_count": 202,
   "metadata": {},
   "outputs": [
    {
     "data": {
      "text/plain": [
       "((158, 5), (158,))"
      ]
     },
     "execution_count": 202,
     "metadata": {},
     "output_type": "execute_result"
    }
   ],
   "source": [
    "# 입력-라벨 데이터 분리\n",
    "fish_input = df[['Weight', 'Length', 'Diagonal', 'Height', 'Width']].to_numpy()\n",
    "fish_label = df['Species'].to_numpy()\n",
    "\n",
    "fish_input.shape, fish_label.shape"
   ]
  },
  {
   "cell_type": "code",
   "execution_count": 203,
   "metadata": {},
   "outputs": [
    {
     "data": {
      "text/plain": [
       "((142, 5), (16, 5), (142,), (16,))"
      ]
     },
     "execution_count": 203,
     "metadata": {},
     "output_type": "execute_result"
    }
   ],
   "source": [
    "# 훈련-테스트 데이터 분리\n",
    "train_input, test_input, train_label, test_label = train_test_split(fish_input, fish_label, test_size=.10, random_state=0)\n",
    "train_input.shape, test_input.shape, train_label.shape, test_label.shape"
   ]
  },
  {
   "cell_type": "code",
   "execution_count": 204,
   "metadata": {},
   "outputs": [],
   "source": [
    "# 정규화\n",
    "standard_scaler = StandardScaler()\n",
    "standard_scaler.fit(train_input)    # 훈련 데이터 기준 평균/표준편차 작업\n",
    "train_scaled = standard_scaler.transform(train_input)   # 정규화 반영 -> 훈련 데이터\n",
    "test_scaled = standard_scaler.transform(test_input)     # 정규화 반영 -> 테스트 데이터"
   ]
  },
  {
   "cell_type": "markdown",
   "metadata": {},
   "source": [
    "##### 훈련"
   ]
  },
  {
   "cell_type": "code",
   "execution_count": 205,
   "metadata": {},
   "outputs": [
    {
     "data": {
      "text/html": [
       "<style>#sk-container-id-2 {\n",
       "  /* Definition of color scheme common for light and dark mode */\n",
       "  --sklearn-color-text: #000;\n",
       "  --sklearn-color-text-muted: #666;\n",
       "  --sklearn-color-line: gray;\n",
       "  /* Definition of color scheme for unfitted estimators */\n",
       "  --sklearn-color-unfitted-level-0: #fff5e6;\n",
       "  --sklearn-color-unfitted-level-1: #f6e4d2;\n",
       "  --sklearn-color-unfitted-level-2: #ffe0b3;\n",
       "  --sklearn-color-unfitted-level-3: chocolate;\n",
       "  /* Definition of color scheme for fitted estimators */\n",
       "  --sklearn-color-fitted-level-0: #f0f8ff;\n",
       "  --sklearn-color-fitted-level-1: #d4ebff;\n",
       "  --sklearn-color-fitted-level-2: #b3dbfd;\n",
       "  --sklearn-color-fitted-level-3: cornflowerblue;\n",
       "\n",
       "  /* Specific color for light theme */\n",
       "  --sklearn-color-text-on-default-background: var(--sg-text-color, var(--theme-code-foreground, var(--jp-content-font-color1, black)));\n",
       "  --sklearn-color-background: var(--sg-background-color, var(--theme-background, var(--jp-layout-color0, white)));\n",
       "  --sklearn-color-border-box: var(--sg-text-color, var(--theme-code-foreground, var(--jp-content-font-color1, black)));\n",
       "  --sklearn-color-icon: #696969;\n",
       "\n",
       "  @media (prefers-color-scheme: dark) {\n",
       "    /* Redefinition of color scheme for dark theme */\n",
       "    --sklearn-color-text-on-default-background: var(--sg-text-color, var(--theme-code-foreground, var(--jp-content-font-color1, white)));\n",
       "    --sklearn-color-background: var(--sg-background-color, var(--theme-background, var(--jp-layout-color0, #111)));\n",
       "    --sklearn-color-border-box: var(--sg-text-color, var(--theme-code-foreground, var(--jp-content-font-color1, white)));\n",
       "    --sklearn-color-icon: #878787;\n",
       "  }\n",
       "}\n",
       "\n",
       "#sk-container-id-2 {\n",
       "  color: var(--sklearn-color-text);\n",
       "}\n",
       "\n",
       "#sk-container-id-2 pre {\n",
       "  padding: 0;\n",
       "}\n",
       "\n",
       "#sk-container-id-2 input.sk-hidden--visually {\n",
       "  border: 0;\n",
       "  clip: rect(1px 1px 1px 1px);\n",
       "  clip: rect(1px, 1px, 1px, 1px);\n",
       "  height: 1px;\n",
       "  margin: -1px;\n",
       "  overflow: hidden;\n",
       "  padding: 0;\n",
       "  position: absolute;\n",
       "  width: 1px;\n",
       "}\n",
       "\n",
       "#sk-container-id-2 div.sk-dashed-wrapped {\n",
       "  border: 1px dashed var(--sklearn-color-line);\n",
       "  margin: 0 0.4em 0.5em 0.4em;\n",
       "  box-sizing: border-box;\n",
       "  padding-bottom: 0.4em;\n",
       "  background-color: var(--sklearn-color-background);\n",
       "}\n",
       "\n",
       "#sk-container-id-2 div.sk-container {\n",
       "  /* jupyter's `normalize.less` sets `[hidden] { display: none; }`\n",
       "     but bootstrap.min.css set `[hidden] { display: none !important; }`\n",
       "     so we also need the `!important` here to be able to override the\n",
       "     default hidden behavior on the sphinx rendered scikit-learn.org.\n",
       "     See: https://github.com/scikit-learn/scikit-learn/issues/21755 */\n",
       "  display: inline-block !important;\n",
       "  position: relative;\n",
       "}\n",
       "\n",
       "#sk-container-id-2 div.sk-text-repr-fallback {\n",
       "  display: none;\n",
       "}\n",
       "\n",
       "div.sk-parallel-item,\n",
       "div.sk-serial,\n",
       "div.sk-item {\n",
       "  /* draw centered vertical line to link estimators */\n",
       "  background-image: linear-gradient(var(--sklearn-color-text-on-default-background), var(--sklearn-color-text-on-default-background));\n",
       "  background-size: 2px 100%;\n",
       "  background-repeat: no-repeat;\n",
       "  background-position: center center;\n",
       "}\n",
       "\n",
       "/* Parallel-specific style estimator block */\n",
       "\n",
       "#sk-container-id-2 div.sk-parallel-item::after {\n",
       "  content: \"\";\n",
       "  width: 100%;\n",
       "  border-bottom: 2px solid var(--sklearn-color-text-on-default-background);\n",
       "  flex-grow: 1;\n",
       "}\n",
       "\n",
       "#sk-container-id-2 div.sk-parallel {\n",
       "  display: flex;\n",
       "  align-items: stretch;\n",
       "  justify-content: center;\n",
       "  background-color: var(--sklearn-color-background);\n",
       "  position: relative;\n",
       "}\n",
       "\n",
       "#sk-container-id-2 div.sk-parallel-item {\n",
       "  display: flex;\n",
       "  flex-direction: column;\n",
       "}\n",
       "\n",
       "#sk-container-id-2 div.sk-parallel-item:first-child::after {\n",
       "  align-self: flex-end;\n",
       "  width: 50%;\n",
       "}\n",
       "\n",
       "#sk-container-id-2 div.sk-parallel-item:last-child::after {\n",
       "  align-self: flex-start;\n",
       "  width: 50%;\n",
       "}\n",
       "\n",
       "#sk-container-id-2 div.sk-parallel-item:only-child::after {\n",
       "  width: 0;\n",
       "}\n",
       "\n",
       "/* Serial-specific style estimator block */\n",
       "\n",
       "#sk-container-id-2 div.sk-serial {\n",
       "  display: flex;\n",
       "  flex-direction: column;\n",
       "  align-items: center;\n",
       "  background-color: var(--sklearn-color-background);\n",
       "  padding-right: 1em;\n",
       "  padding-left: 1em;\n",
       "}\n",
       "\n",
       "\n",
       "/* Toggleable style: style used for estimator/Pipeline/ColumnTransformer box that is\n",
       "clickable and can be expanded/collapsed.\n",
       "- Pipeline and ColumnTransformer use this feature and define the default style\n",
       "- Estimators will overwrite some part of the style using the `sk-estimator` class\n",
       "*/\n",
       "\n",
       "/* Pipeline and ColumnTransformer style (default) */\n",
       "\n",
       "#sk-container-id-2 div.sk-toggleable {\n",
       "  /* Default theme specific background. It is overwritten whether we have a\n",
       "  specific estimator or a Pipeline/ColumnTransformer */\n",
       "  background-color: var(--sklearn-color-background);\n",
       "}\n",
       "\n",
       "/* Toggleable label */\n",
       "#sk-container-id-2 label.sk-toggleable__label {\n",
       "  cursor: pointer;\n",
       "  display: flex;\n",
       "  width: 100%;\n",
       "  margin-bottom: 0;\n",
       "  padding: 0.5em;\n",
       "  box-sizing: border-box;\n",
       "  text-align: center;\n",
       "  align-items: start;\n",
       "  justify-content: space-between;\n",
       "  gap: 0.5em;\n",
       "}\n",
       "\n",
       "#sk-container-id-2 label.sk-toggleable__label .caption {\n",
       "  font-size: 0.6rem;\n",
       "  font-weight: lighter;\n",
       "  color: var(--sklearn-color-text-muted);\n",
       "}\n",
       "\n",
       "#sk-container-id-2 label.sk-toggleable__label-arrow:before {\n",
       "  /* Arrow on the left of the label */\n",
       "  content: \"▸\";\n",
       "  float: left;\n",
       "  margin-right: 0.25em;\n",
       "  color: var(--sklearn-color-icon);\n",
       "}\n",
       "\n",
       "#sk-container-id-2 label.sk-toggleable__label-arrow:hover:before {\n",
       "  color: var(--sklearn-color-text);\n",
       "}\n",
       "\n",
       "/* Toggleable content - dropdown */\n",
       "\n",
       "#sk-container-id-2 div.sk-toggleable__content {\n",
       "  max-height: 0;\n",
       "  max-width: 0;\n",
       "  overflow: hidden;\n",
       "  text-align: left;\n",
       "  /* unfitted */\n",
       "  background-color: var(--sklearn-color-unfitted-level-0);\n",
       "}\n",
       "\n",
       "#sk-container-id-2 div.sk-toggleable__content.fitted {\n",
       "  /* fitted */\n",
       "  background-color: var(--sklearn-color-fitted-level-0);\n",
       "}\n",
       "\n",
       "#sk-container-id-2 div.sk-toggleable__content pre {\n",
       "  margin: 0.2em;\n",
       "  border-radius: 0.25em;\n",
       "  color: var(--sklearn-color-text);\n",
       "  /* unfitted */\n",
       "  background-color: var(--sklearn-color-unfitted-level-0);\n",
       "}\n",
       "\n",
       "#sk-container-id-2 div.sk-toggleable__content.fitted pre {\n",
       "  /* unfitted */\n",
       "  background-color: var(--sklearn-color-fitted-level-0);\n",
       "}\n",
       "\n",
       "#sk-container-id-2 input.sk-toggleable__control:checked~div.sk-toggleable__content {\n",
       "  /* Expand drop-down */\n",
       "  max-height: 200px;\n",
       "  max-width: 100%;\n",
       "  overflow: auto;\n",
       "}\n",
       "\n",
       "#sk-container-id-2 input.sk-toggleable__control:checked~label.sk-toggleable__label-arrow:before {\n",
       "  content: \"▾\";\n",
       "}\n",
       "\n",
       "/* Pipeline/ColumnTransformer-specific style */\n",
       "\n",
       "#sk-container-id-2 div.sk-label input.sk-toggleable__control:checked~label.sk-toggleable__label {\n",
       "  color: var(--sklearn-color-text);\n",
       "  background-color: var(--sklearn-color-unfitted-level-2);\n",
       "}\n",
       "\n",
       "#sk-container-id-2 div.sk-label.fitted input.sk-toggleable__control:checked~label.sk-toggleable__label {\n",
       "  background-color: var(--sklearn-color-fitted-level-2);\n",
       "}\n",
       "\n",
       "/* Estimator-specific style */\n",
       "\n",
       "/* Colorize estimator box */\n",
       "#sk-container-id-2 div.sk-estimator input.sk-toggleable__control:checked~label.sk-toggleable__label {\n",
       "  /* unfitted */\n",
       "  background-color: var(--sklearn-color-unfitted-level-2);\n",
       "}\n",
       "\n",
       "#sk-container-id-2 div.sk-estimator.fitted input.sk-toggleable__control:checked~label.sk-toggleable__label {\n",
       "  /* fitted */\n",
       "  background-color: var(--sklearn-color-fitted-level-2);\n",
       "}\n",
       "\n",
       "#sk-container-id-2 div.sk-label label.sk-toggleable__label,\n",
       "#sk-container-id-2 div.sk-label label {\n",
       "  /* The background is the default theme color */\n",
       "  color: var(--sklearn-color-text-on-default-background);\n",
       "}\n",
       "\n",
       "/* On hover, darken the color of the background */\n",
       "#sk-container-id-2 div.sk-label:hover label.sk-toggleable__label {\n",
       "  color: var(--sklearn-color-text);\n",
       "  background-color: var(--sklearn-color-unfitted-level-2);\n",
       "}\n",
       "\n",
       "/* Label box, darken color on hover, fitted */\n",
       "#sk-container-id-2 div.sk-label.fitted:hover label.sk-toggleable__label.fitted {\n",
       "  color: var(--sklearn-color-text);\n",
       "  background-color: var(--sklearn-color-fitted-level-2);\n",
       "}\n",
       "\n",
       "/* Estimator label */\n",
       "\n",
       "#sk-container-id-2 div.sk-label label {\n",
       "  font-family: monospace;\n",
       "  font-weight: bold;\n",
       "  display: inline-block;\n",
       "  line-height: 1.2em;\n",
       "}\n",
       "\n",
       "#sk-container-id-2 div.sk-label-container {\n",
       "  text-align: center;\n",
       "}\n",
       "\n",
       "/* Estimator-specific */\n",
       "#sk-container-id-2 div.sk-estimator {\n",
       "  font-family: monospace;\n",
       "  border: 1px dotted var(--sklearn-color-border-box);\n",
       "  border-radius: 0.25em;\n",
       "  box-sizing: border-box;\n",
       "  margin-bottom: 0.5em;\n",
       "  /* unfitted */\n",
       "  background-color: var(--sklearn-color-unfitted-level-0);\n",
       "}\n",
       "\n",
       "#sk-container-id-2 div.sk-estimator.fitted {\n",
       "  /* fitted */\n",
       "  background-color: var(--sklearn-color-fitted-level-0);\n",
       "}\n",
       "\n",
       "/* on hover */\n",
       "#sk-container-id-2 div.sk-estimator:hover {\n",
       "  /* unfitted */\n",
       "  background-color: var(--sklearn-color-unfitted-level-2);\n",
       "}\n",
       "\n",
       "#sk-container-id-2 div.sk-estimator.fitted:hover {\n",
       "  /* fitted */\n",
       "  background-color: var(--sklearn-color-fitted-level-2);\n",
       "}\n",
       "\n",
       "/* Specification for estimator info (e.g. \"i\" and \"?\") */\n",
       "\n",
       "/* Common style for \"i\" and \"?\" */\n",
       "\n",
       ".sk-estimator-doc-link,\n",
       "a:link.sk-estimator-doc-link,\n",
       "a:visited.sk-estimator-doc-link {\n",
       "  float: right;\n",
       "  font-size: smaller;\n",
       "  line-height: 1em;\n",
       "  font-family: monospace;\n",
       "  background-color: var(--sklearn-color-background);\n",
       "  border-radius: 1em;\n",
       "  height: 1em;\n",
       "  width: 1em;\n",
       "  text-decoration: none !important;\n",
       "  margin-left: 0.5em;\n",
       "  text-align: center;\n",
       "  /* unfitted */\n",
       "  border: var(--sklearn-color-unfitted-level-1) 1pt solid;\n",
       "  color: var(--sklearn-color-unfitted-level-1);\n",
       "}\n",
       "\n",
       ".sk-estimator-doc-link.fitted,\n",
       "a:link.sk-estimator-doc-link.fitted,\n",
       "a:visited.sk-estimator-doc-link.fitted {\n",
       "  /* fitted */\n",
       "  border: var(--sklearn-color-fitted-level-1) 1pt solid;\n",
       "  color: var(--sklearn-color-fitted-level-1);\n",
       "}\n",
       "\n",
       "/* On hover */\n",
       "div.sk-estimator:hover .sk-estimator-doc-link:hover,\n",
       ".sk-estimator-doc-link:hover,\n",
       "div.sk-label-container:hover .sk-estimator-doc-link:hover,\n",
       ".sk-estimator-doc-link:hover {\n",
       "  /* unfitted */\n",
       "  background-color: var(--sklearn-color-unfitted-level-3);\n",
       "  color: var(--sklearn-color-background);\n",
       "  text-decoration: none;\n",
       "}\n",
       "\n",
       "div.sk-estimator.fitted:hover .sk-estimator-doc-link.fitted:hover,\n",
       ".sk-estimator-doc-link.fitted:hover,\n",
       "div.sk-label-container:hover .sk-estimator-doc-link.fitted:hover,\n",
       ".sk-estimator-doc-link.fitted:hover {\n",
       "  /* fitted */\n",
       "  background-color: var(--sklearn-color-fitted-level-3);\n",
       "  color: var(--sklearn-color-background);\n",
       "  text-decoration: none;\n",
       "}\n",
       "\n",
       "/* Span, style for the box shown on hovering the info icon */\n",
       ".sk-estimator-doc-link span {\n",
       "  display: none;\n",
       "  z-index: 9999;\n",
       "  position: relative;\n",
       "  font-weight: normal;\n",
       "  right: .2ex;\n",
       "  padding: .5ex;\n",
       "  margin: .5ex;\n",
       "  width: min-content;\n",
       "  min-width: 20ex;\n",
       "  max-width: 50ex;\n",
       "  color: var(--sklearn-color-text);\n",
       "  box-shadow: 2pt 2pt 4pt #999;\n",
       "  /* unfitted */\n",
       "  background: var(--sklearn-color-unfitted-level-0);\n",
       "  border: .5pt solid var(--sklearn-color-unfitted-level-3);\n",
       "}\n",
       "\n",
       ".sk-estimator-doc-link.fitted span {\n",
       "  /* fitted */\n",
       "  background: var(--sklearn-color-fitted-level-0);\n",
       "  border: var(--sklearn-color-fitted-level-3);\n",
       "}\n",
       "\n",
       ".sk-estimator-doc-link:hover span {\n",
       "  display: block;\n",
       "}\n",
       "\n",
       "/* \"?\"-specific style due to the `<a>` HTML tag */\n",
       "\n",
       "#sk-container-id-2 a.estimator_doc_link {\n",
       "  float: right;\n",
       "  font-size: 1rem;\n",
       "  line-height: 1em;\n",
       "  font-family: monospace;\n",
       "  background-color: var(--sklearn-color-background);\n",
       "  border-radius: 1rem;\n",
       "  height: 1rem;\n",
       "  width: 1rem;\n",
       "  text-decoration: none;\n",
       "  /* unfitted */\n",
       "  color: var(--sklearn-color-unfitted-level-1);\n",
       "  border: var(--sklearn-color-unfitted-level-1) 1pt solid;\n",
       "}\n",
       "\n",
       "#sk-container-id-2 a.estimator_doc_link.fitted {\n",
       "  /* fitted */\n",
       "  border: var(--sklearn-color-fitted-level-1) 1pt solid;\n",
       "  color: var(--sklearn-color-fitted-level-1);\n",
       "}\n",
       "\n",
       "/* On hover */\n",
       "#sk-container-id-2 a.estimator_doc_link:hover {\n",
       "  /* unfitted */\n",
       "  background-color: var(--sklearn-color-unfitted-level-3);\n",
       "  color: var(--sklearn-color-background);\n",
       "  text-decoration: none;\n",
       "}\n",
       "\n",
       "#sk-container-id-2 a.estimator_doc_link.fitted:hover {\n",
       "  /* fitted */\n",
       "  background-color: var(--sklearn-color-fitted-level-3);\n",
       "}\n",
       "</style><div id=\"sk-container-id-2\" class=\"sk-top-container\"><div class=\"sk-text-repr-fallback\"><pre>KNeighborsClassifier(n_neighbors=7)</pre><b>In a Jupyter environment, please rerun this cell to show the HTML representation or trust the notebook. <br />On GitHub, the HTML representation is unable to render, please try loading this page with nbviewer.org.</b></div><div class=\"sk-container\" hidden><div class=\"sk-item\"><div class=\"sk-estimator fitted sk-toggleable\"><input class=\"sk-toggleable__control sk-hidden--visually\" id=\"sk-estimator-id-2\" type=\"checkbox\" checked><label for=\"sk-estimator-id-2\" class=\"sk-toggleable__label fitted sk-toggleable__label-arrow\"><div><div>KNeighborsClassifier</div></div><div><a class=\"sk-estimator-doc-link fitted\" rel=\"noreferrer\" target=\"_blank\" href=\"https://scikit-learn.org/1.6/modules/generated/sklearn.neighbors.KNeighborsClassifier.html\">?<span>Documentation for KNeighborsClassifier</span></a><span class=\"sk-estimator-doc-link fitted\">i<span>Fitted</span></span></div></label><div class=\"sk-toggleable__content fitted\"><pre>KNeighborsClassifier(n_neighbors=7)</pre></div> </div></div></div></div>"
      ],
      "text/plain": [
       "KNeighborsClassifier(n_neighbors=7)"
      ]
     },
     "execution_count": 205,
     "metadata": {},
     "output_type": "execute_result"
    }
   ],
   "source": [
    "kn = KNeighborsClassifier(n_neighbors=7)\n",
    "kn.fit(train_scaled, train_label)"
   ]
  },
  {
   "cell_type": "code",
   "execution_count": 206,
   "metadata": {},
   "outputs": [
    {
     "data": {
      "text/plain": [
       "array([[-2.36306956e-01,  6.76343006e-01,  7.08519057e-01,\n",
       "        -6.71430898e-01,  2.30468738e-02],\n",
       "       [-5.88599673e-01, -2.83008776e-01, -3.74726203e-01,\n",
       "        -5.56040991e-01, -3.95072820e-01],\n",
       "       [ 3.43340885e+00,  3.07472246e+00,  2.92785081e+00,\n",
       "         1.68844327e-01,  1.07273073e+00],\n",
       "       [-2.18692320e-01,  4.79675891e-03,  3.96929443e-03,\n",
       "        -1.96877826e-02,  2.00340601e-01],\n",
       "       [-7.06030578e-01, -5.22846721e-01, -5.06829283e-01,\n",
       "        -5.30696954e-01, -6.08934870e-01],\n",
       "       [ 1.74533958e+00,  1.25195407e+00,  1.33380697e+00,\n",
       "         2.24118377e+00,  1.43262745e+00],\n",
       "       [ 1.81873389e+00,  1.15601890e+00,  1.12244204e+00,\n",
       "         8.00495699e-01,  1.30001508e+00],\n",
       "       [ 2.04058940e-01,  1.96667115e-01,  3.82664792e-01,\n",
       "         1.17914249e+00,  2.97100501e-01],\n",
       "       [-7.94103758e-01, -6.85936524e-01, -6.74159852e-01,\n",
       "        -6.18380440e-01, -5.66759007e-01],\n",
       "       [-8.88048482e-01, -8.77806880e-01, -8.41490420e-01,\n",
       "        -7.54183192e-01, -8.59842479e-01],\n",
       "       [-2.36306956e-01, -6.23578658e-02, -1.80975018e-01,\n",
       "        -1.24045580e-01,  4.72187005e-01],\n",
       "       [ 7.91213469e-01,  5.32440239e-01,  6.99712185e-01,\n",
       "         1.28668836e+00,  8.24328616e-01],\n",
       "       [-1.09736907e+00, -1.74122348e+00, -1.75740511e+00,\n",
       "        -1.63418319e+00, -1.96751069e+00],\n",
       "       [ 3.91948390e-01,  4.65285614e-01,  2.85789199e-01,\n",
       "         2.67468179e-01,  9.97565824e-01],\n",
       "       [-2.65664682e-01, -1.87073597e-01, -1.36940658e-01,\n",
       "         2.97276778e-03,  9.00987408e-02],\n",
       "       [-3.24380135e-01, -1.87073597e-01, -1.80975018e-01,\n",
       "        -1.10880443e-01, -5.85607367e-02],\n",
       "       [ 9.38002101e-01,  4.84472650e-01,  6.64484696e-01,\n",
       "         1.37535808e+00,  5.60535595e-01],\n",
       "       [-2.36306956e-01,  8.96993916e-01,  7.96587777e-01,\n",
       "        -5.90696954e-01, -1.94454111e-01],\n",
       "       [ 3.80205299e-01,  1.39585684e+00,  1.29857948e+00,\n",
       "        -4.67623560e-01,  6.75492695e-02],\n",
       "       [ 7.03140290e-01,  6.28375417e-01,  7.87780905e-01,\n",
       "         1.52726175e+00,  5.57373896e-01],\n",
       "       [-6.76672852e-01, -4.74879132e-01, -5.50863643e-01,\n",
       "        -8.36086861e-01, -4.29374265e-01],\n",
       "       [-6.17957399e-01, -6.95530042e-01, -6.65352980e-01,\n",
       "         1.22055336e-01, -5.57989768e-01],\n",
       "       [ 9.38002101e-01,  7.72278184e-01,  6.64484696e-01,\n",
       "         4.00289279e-01,  1.42874989e+00],\n",
       "       [-6.17957399e-01, -4.26911543e-01, -5.06829283e-01,\n",
       "        -5.93770348e-01, -3.70316126e-01],\n",
       "       [ 9.79102918e-01,  7.72278184e-01,  9.46304601e-01,\n",
       "         1.75531221e+00,  8.98240772e-01],\n",
       "       [ 8.93965511e-01,  8.20245773e-01,  7.26132801e-01,\n",
       "         4.62651664e-01,  1.50224447e+00],\n",
       "       [ 1.34901027e+00,  6.76343006e-01,  5.76415976e-01,\n",
       "         6.01963590e-01,  2.05804718e+00],\n",
       "       [-7.64746031e-01, -5.70814310e-01, -6.38932363e-01,\n",
       "        -6.31614385e-01, -5.59719754e-01],\n",
       "       [ 6.73782563e-01,  5.32440239e-01,  6.90905313e-01,\n",
       "         1.55255992e+00,  4.70099091e-01],\n",
       "       [-8.52819210e-01, -9.83335576e-01, -9.64786628e-01,\n",
       "        -3.34550166e-01, -9.97883422e-01],\n",
       "       [ 1.58387208e+00,  1.01211613e+00,  1.17528327e+00,\n",
       "         2.10391312e+00,  1.16955028e+00],\n",
       "       [-1.09971769e+00, -1.87553273e+00, -1.93354255e+00,\n",
       "        -1.54858686e+00, -1.75251520e+00],\n",
       "       [-9.40892390e-01, -1.19439297e+00, -1.17615156e+00,\n",
       "        -5.24458422e-01, -1.21192444e+00],\n",
       "       [-1.18876050e-01, -1.39106008e-01,  3.03899105e-02,\n",
       "         8.05954415e-01,  2.08990530e-01],\n",
       "       [-1.08856175e+00, -1.62610127e+00, -1.65172265e+00,\n",
       "        -1.52932080e+00, -1.76921851e+00],\n",
       "       [-6.91351715e-01, -5.70814310e-01, -5.68477387e-01,\n",
       "        -5.11453835e-01, -4.76024229e-01],\n",
       "       [-1.08122232e+00, -1.43423091e+00, -1.49319895e+00,\n",
       "        -1.51074282e+00, -1.84330963e+00],\n",
       "       [ 2.77453257e-01,  2.92602293e-01,  4.79540384e-01,\n",
       "         1.23829386e+00,  4.52441304e-01],\n",
       "       [-7.64746031e-01, -5.70814310e-01, -6.38932363e-01,\n",
       "        -7.39412549e-01, -4.89625498e-01],\n",
       "       [ 1.45343488e-01,  9.64148540e-01,  8.58235881e-01,\n",
       "        -3.60972184e-01,  1.37643526e-01],\n",
       "       [-1.08826818e+00, -1.53016609e+00, -1.54604018e+00,\n",
       "        -1.52739420e+00, -1.90737876e+00],\n",
       "       [-1.09502045e+00, -1.67406886e+00, -1.68695013e+00,\n",
       "        -1.58069695e+00, -1.90045882e+00],\n",
       "       [-1.09149753e+00, -1.59732072e+00, -1.59888141e+00,\n",
       "        -1.57927493e+00, -1.82577115e+00],\n",
       "       [-7.50067168e-01, -6.66749488e-01, -7.27001084e-01,\n",
       "        -7.27371265e-01, -4.04617570e-01],\n",
       "       [-6.91351715e-01, -3.78943954e-01, -4.62794923e-01,\n",
       "        -5.70834569e-01, -3.10661440e-01],\n",
       "       [-1.07769939e+00, -1.49179202e+00, -1.51961957e+00,\n",
       "        -1.47565108e+00, -1.83543521e+00],\n",
       "       [-7.35388305e-01, -5.22846721e-01, -5.94898003e-01,\n",
       "        -6.89871265e-01, -4.30567359e-01],\n",
       "       [ 2.21673576e-01,  1.39585684e+00,  1.29857948e+00,\n",
       "        -3.63265762e-01, -1.38793769e-02],\n",
       "       [-7.94103758e-01, -5.70814310e-01, -6.38932363e-01,\n",
       "        -7.66362091e-01, -2.09248474e-01],\n",
       "       [ 1.52515663e+00,  1.15601890e+00,  1.03437332e+00,\n",
       "         6.57376434e-01,  1.71759788e+00],\n",
       "       [ 1.81873389e+00,  1.53975961e+00,  1.39545507e+00,\n",
       "         8.31413130e-01,  1.93879746e+00],\n",
       "       [-5.88599673e-01, -2.63821740e-01, -2.51429994e-01,\n",
       "        -4.07623560e-01, -2.62341144e-01],\n",
       "       [-4.56489904e-01, -3.78943954e-01, -4.62794923e-01,\n",
       "        -3.60284111e-01, -3.71509219e-01],\n",
       "       [-9.99607843e-01, -1.24236056e+00, -1.29944777e+00,\n",
       "        -1.15592631e+00, -1.14165122e+00],\n",
       "       [-6.76672852e-01, -7.62684666e-01, -7.35807956e-01,\n",
       "         6.64249254e-03, -6.28143679e-01],\n",
       "       [-4.77040312e-01, -1.39106008e-01, -2.42623122e-01,\n",
       "        -3.88953836e-01, -1.20362991e-01],\n",
       "       [-3.53737861e-01, -4.31708302e-02, -1.63361274e-01,\n",
       "        -3.89137322e-01, -6.42254112e-03],\n",
       "       [-3.15572817e-01, -2.83008776e-01, -2.42623122e-01,\n",
       "         5.10128728e-01, -1.20362991e-01],\n",
       "       [-5.29884220e-01, -4.26911543e-01, -3.48305587e-01,\n",
       "        -3.36476772e-01, -1.30384979e-01],\n",
       "       [-6.44379353e-01, -4.36505061e-01, -3.57112459e-01,\n",
       "        -4.46912551e-01, -4.26272221e-01],\n",
       "       [-1.18876050e-01,  3.88537472e-01,  5.76415976e-01,\n",
       "         1.15804157e+00,  4.33709732e-01],\n",
       "       [ 1.81873389e+00,  1.49179202e+00,  1.34261384e+00,\n",
       "         8.57835149e-01,  2.26463135e+00],\n",
       "       [-2.36306956e-01,  7.19513836e-02, -5.76788098e-02,\n",
       "        -2.93265763e-01,  1.72780136e-01],\n",
       "       [ 5.71030521e-01,  5.80407828e-01,  7.70167161e-01,\n",
       "         1.43684891e+00,  7.30014557e-01],\n",
       "       [ 6.44424837e-01,  3.88537472e-01,  5.67609104e-01,\n",
       "         1.50783515e+00,  7.36278299e-01],\n",
       "       [-8.82176937e-01, -8.58619844e-01, -9.29559140e-01,\n",
       "        -7.40375852e-01, -7.72865947e-01],\n",
       "       [-3.18508590e-01, -9.11384192e-02, -1.36444496e-02,\n",
       "        -6.78529199e-02,  2.55222912e-01],\n",
       "       [-8.23461484e-01, -9.54555023e-01, -1.01762786e+00,\n",
       "        -8.35192365e-01, -6.10963129e-01],\n",
       "       [-5.13532793e-02,  1.00731937e-01,  2.41754839e-01,\n",
       "         8.86734231e-01,  6.54613555e-02],\n",
       "       [-1.05861687e+00, -1.24236056e+00, -1.28183402e+00,\n",
       "        -1.36046759e+00, -1.47142232e+00],\n",
       "       [ 3.72698611e+00,  3.40090207e+00,  3.28012569e+00,\n",
       "         4.46825976e-01,  1.86971733e+00],\n",
       "       [ 3.50847573e-01,  1.67886562e-01,  3.29823559e-01,\n",
       "         1.21918836e+00,  5.56419421e-01],\n",
       "       [-5.29884220e-01, -4.74879132e-01, -4.36374307e-01,\n",
       "         3.39899372e-01, -4.06944103e-01],\n",
       "       [ 1.81873389e+00,  1.44382443e+00,  1.27215887e+00,\n",
       "         7.03890195e-01,  1.74873763e+00],\n",
       "       [-7.35388305e-01, -6.37968935e-01, -7.00580468e-01,\n",
       "        -5.68770348e-01, -4.84256576e-01],\n",
       "       [-1.77591503e-01,  1.96667115e-01,  7.44242706e-02,\n",
       "        -2.86293286e-01,  2.54029818e-01],\n",
       "       [ 3.50847573e-01,  3.40569882e-01,  4.97154128e-01,\n",
       "         1.12278928e+00,  1.32635053e-02],\n",
       "       [ 5.47544340e-01,  1.73162997e+00,  1.58039939e+00,\n",
       "        -2.45834570e-01,  3.12730029e-01],\n",
       "       [ 6.44424837e-01,  3.88537472e-01,  5.67609104e-01,\n",
       "         1.39691771e+00,  4.92171324e-01],\n",
       "       [-1.05920403e+00, -1.30951518e+00, -1.36990274e+00,\n",
       "        -1.37409145e+00, -1.35927151e+00],\n",
       "       [-6.76672852e-01, -5.22846721e-01, -5.94898003e-01,\n",
       "        -4.75192367e-01, -4.30567359e-01],\n",
       "       [ 4.68278478e-01,  1.44382443e+00,  1.32500010e+00,\n",
       "        -2.47210717e-01,  4.67593594e-01],\n",
       "       [-6.47315126e-01, -5.22846721e-01, -5.06829283e-01,\n",
       "        -5.65100624e-01, -3.25575111e-01],\n",
       "       [ 3.50847573e-01,  2.92602293e-01,  4.79540384e-01,\n",
       "         1.26320212e+00,  2.79681333e-01],\n",
       "       [ 2.11231116e+00,  1.44382443e+00,  1.29857948e+00,\n",
       "         8.36848910e-01,  1.83183661e+00],\n",
       "       [ 4.68278478e-01,  2.92602293e-01,  2.85789199e-01,\n",
       "         4.31229646e-01,  1.32208732e+00],\n",
       "       [-7.64746031e-01, -6.66749488e-01, -6.21318619e-01,\n",
       "        -6.30559339e-01, -6.27248858e-01],\n",
       "       [-7.06030578e-01, -6.95530042e-01, -6.65352980e-01,\n",
       "        -7.48253969e-02, -6.27189204e-01],\n",
       "       [-2.65664682e-01, -1.58293044e-01,  3.91967825e-02,\n",
       "         8.29394782e-01, -2.39610188e-02],\n",
       "       [-2.36306956e-01,  5.80407828e-01,  6.20450336e-01,\n",
       "        -7.23862091e-01, -1.12011335e-01],\n",
       "       [-1.09648834e+00, -1.66447534e+00, -1.68695013e+00,\n",
       "        -1.63656851e+00, -1.90737876e+00],\n",
       "       [-6.76672852e-01, -5.70814310e-01, -5.33249899e-01,\n",
       "        -7.01683192e-01, -3.52777648e-01],\n",
       "       [-3.83095588e-01,  4.79675891e-03, -1.19326914e-01,\n",
       "        -2.39320809e-01, -8.44508704e-02],\n",
       "       [ 1.45343488e-01,  1.00731937e-01,  2.85789199e-01,\n",
       "         8.21137901e-01,  4.70218400e-01],\n",
       "       [ 3.50847573e-01,  1.63569479e+00,  1.51875128e+00,\n",
       "        -4.36660257e-01,  3.28240247e-01],\n",
       "       [ 9.38002101e-01,  4.84472650e-01,  6.82098440e-01,\n",
       "         1.39315625e+00,  5.08099126e-01],\n",
       "       [-3.83095588e-01, -4.31708302e-02, -1.63361274e-01,\n",
       "        -3.62623561e-01,  1.31499093e-01],\n",
       "       [-8.61626528e-01, -7.81871702e-01, -7.53421700e-01,\n",
       "        -7.44779522e-01, -6.98655517e-01],\n",
       "       [ 2.04058940e-01,  1.67886562e-01,  3.47437303e-01,\n",
       "         1.08682597e+00,  3.46971819e-01],\n",
       "       [ 2.79125820e-02,  3.59756918e-01,  3.73857920e-01,\n",
       "         1.42468180e-01,  6.02055256e-01],\n",
       "       [-1.08797460e+00, -1.54935313e+00, -1.55484705e+00,\n",
       "        -1.52521530e+00, -1.89693919e+00],\n",
       "       [ 1.37836800e+00,  1.15601890e+00,  1.01675958e+00,\n",
       "         7.02926893e-01,  1.64684743e+00],\n",
       "       [-4.06581769e-01, -2.44634704e-01, -6.64856818e-02,\n",
       "         6.09211297e-01, -1.94334802e-01],\n",
       "       [ 1.67194526e+00,  1.25195407e+00,  1.38664820e+00,\n",
       "         2.00909661e+00,  1.20784859e+00],\n",
       "       [ 1.37836800e+00,  7.72278184e-01,  9.55111473e-01,\n",
       "         1.84077092e+00,  1.10518288e+00],\n",
       "       [-3.24380135e-01, -1.39106008e-01, -1.28133786e-01,\n",
       "        -1.64779525e-01, -5.80238445e-02],\n",
       "       [ 9.08644374e-01,  8.68213362e-01,  7.52553417e-01,\n",
       "         3.91711298e-01,  1.20552206e+00],\n",
       "       [-9.11534663e-01, -1.01211613e+00, -1.07927596e+00,\n",
       "        -9.80696952e-01, -8.37710590e-01],\n",
       "       [-9.99607843e-01, -1.32870222e+00, -1.28183402e+00,\n",
       "        -1.08179787e+00, -1.23948490e+00],\n",
       "       [ 8.79286648e-01,  6.76343006e-01,  8.67042753e-01,\n",
       "         1.51485349e+00,  1.06473700e+00],\n",
       "       [ 7.91213469e-01,  1.06008372e+00,  9.37497729e-01,\n",
       "         5.21275517e-01,  9.88617621e-01],\n",
       "       [-9.65846457e-01, -1.12723834e+00, -1.19376530e+00,\n",
       "        -9.79687777e-01, -1.02258046e+00],\n",
       "       [ 1.68662412e+00,  1.01211613e+00,  1.16647640e+00,\n",
       "         2.11471588e+00,  1.16101966e+00],\n",
       "       [-1.04197187e-01,  1.01211613e+00,  9.02270241e-01,\n",
       "        -5.66018055e-01, -2.19986317e-01],\n",
       "       [-5.29884220e-01,  4.17318025e-01,  3.56244175e-01,\n",
       "        -7.55926311e-01, -5.78749599e-01],\n",
       "       [ 1.14350619e+00,  1.92350032e+00,  1.80057119e+00,\n",
       "        -2.71522644e-01,  6.14582740e-01],\n",
       "       [ 1.59855095e+00,  1.10805131e+00,  1.28096574e+00,\n",
       "         2.26843147e+00,  1.43405916e+00],\n",
       "       [ 1.81873389e+00,  8.68213362e-01,  1.04318019e+00,\n",
       "         2.31494523e+00,  1.34654574e+00],\n",
       "       [-5.38691538e-01, -2.25447669e-01, -3.30691843e-01,\n",
       "        -5.28174018e-01, -6.36910397e-02],\n",
       "       [-7.79424894e-01, -6.66749488e-01, -7.27001084e-01,\n",
       "        -6.75765761e-01, -6.19374440e-01],\n",
       "       [-8.67498074e-01, -8.01058738e-01, -8.76717908e-01,\n",
       "        -8.54641907e-01, -7.80859675e-01],\n",
       "       [ 1.52515663e+00,  1.06008372e+00,  9.37497729e-01,\n",
       "         5.21275517e-01,  1.87771106e+00],\n",
       "       [-1.08122232e+00, -1.51097906e+00, -1.52842644e+00,\n",
       "        -1.55354099e+00, -1.76110547e+00],\n",
       "       [-1.02309402e+00, -1.36707629e+00, -1.41393710e+00,\n",
       "        -1.22381622e+00, -1.39983670e+00],\n",
       "       [-8.88048482e-01, -8.87400398e-01, -1.00001412e+00,\n",
       "        -8.40513466e-01, -7.29198717e-01],\n",
       "       [ 1.01139642e+00,  6.76343006e-01,  8.93463369e-01,\n",
       "         1.71930303e+00,  1.01856427e+00],\n",
       "       [-7.94103758e-01, -6.66749488e-01, -7.27001084e-01,\n",
       "        -7.27371265e-01, -4.71729092e-01],\n",
       "       [-1.08826818e+00, -1.60691423e+00, -1.61649516e+00,\n",
       "        -1.55519236e+00, -1.83054353e+00],\n",
       "       [-1.08768102e+00, -1.54935313e+00, -1.55484705e+00,\n",
       "        -1.52521530e+00, -1.82660632e+00],\n",
       "       [-7.64746031e-01, -7.62684666e-01, -7.53421700e-01,\n",
       "        -6.07302458e-01, -4.60275392e-01],\n",
       "       [ 1.23157937e+00,  8.10652255e-01,  7.78974033e-01,\n",
       "         6.64532397e-01,  1.32900726e+00],\n",
       "       [ 2.55267705e+00,  2.69098175e+00,  2.54915531e+00,\n",
       "         4.17995701e-01,  1.57436698e+00],\n",
       "       [-7.20709442e-01, -5.70814310e-01, -6.38932363e-01,\n",
       "        -6.85513467e-01, -4.89625498e-01],\n",
       "       [-2.36306956e-01, -1.87073597e-01, -1.54554402e-01,\n",
       "         5.74348912e-01, -6.66737740e-02],\n",
       "       [-7.35388305e-01, -5.70814310e-01, -6.38932363e-01,\n",
       "        -6.31614385e-01, -4.89625498e-01],\n",
       "       [-9.14470436e-01, -9.35367987e-01, -9.20752268e-01,\n",
       "        -8.17784109e-01, -9.09176904e-01],\n",
       "       [ 8.93965511e-01,  5.80407828e-01,  7.43746545e-01,\n",
       "         1.63526634e+00,  6.11242078e-01],\n",
       "       [ 3.50847573e-01,  2.63821740e-01,  4.79540384e-01,\n",
       "         1.22999111e+00,  3.66061318e-01],\n",
       "       [-3.39058998e-01, -4.31708302e-02, -1.63361274e-01,\n",
       "        -4.15651083e-01, -6.42254112e-03],\n",
       "       [-6.91351715e-01, -6.18781899e-01, -5.86091131e-01,\n",
       "         2.00128730e-01, -7.09095087e-01],\n",
       "       [ 1.29029482e+00,  1.06008372e+00,  9.28690857e-01,\n",
       "         8.18225057e-01,  1.79300141e+00],\n",
       "       [-6.20893172e-01, -3.78943954e-01, -3.13078099e-01,\n",
       "        -3.04917139e-01, -3.04576662e-01]])"
      ]
     },
     "execution_count": 206,
     "metadata": {},
     "output_type": "execute_result"
    }
   ],
   "source": [
    "kn._fit_X"
   ]
  },
  {
   "cell_type": "code",
   "execution_count": 207,
   "metadata": {},
   "outputs": [
    {
     "data": {
      "text/plain": [
       "array(['Bream', 'Parkki', 'Perch', 'Pike', 'Roach', 'Smelt', 'Whitefish'],\n",
       "      dtype=object)"
      ]
     },
     "execution_count": 207,
     "metadata": {},
     "output_type": "execute_result"
    }
   ],
   "source": [
    "kn.classes_"
   ]
  },
  {
   "cell_type": "markdown",
   "metadata": {},
   "source": [
    "##### 평가"
   ]
  },
  {
   "cell_type": "code",
   "execution_count": 208,
   "metadata": {},
   "outputs": [
    {
     "data": {
      "text/plain": [
       "0.875"
      ]
     },
     "execution_count": 208,
     "metadata": {},
     "output_type": "execute_result"
    }
   ],
   "source": [
    "kn.score(test_scaled, test_label)"
   ]
  },
  {
   "cell_type": "markdown",
   "metadata": {},
   "source": [
    "##### 다중분류 작동 방식\n"
   ]
  },
  {
   "cell_type": "code",
   "execution_count": 209,
   "metadata": {},
   "outputs": [
    {
     "data": {
      "text/plain": [
       "array(['Perch', 'Perch', 'Perch', 'Perch', 'Perch'], dtype=object)"
      ]
     },
     "execution_count": 209,
     "metadata": {},
     "output_type": "execute_result"
    }
   ],
   "source": [
    "# 예측 Prediction\n",
    "kn.predict(test_scaled[5:10])"
   ]
  },
  {
   "cell_type": "code",
   "execution_count": 210,
   "metadata": {},
   "outputs": [
    {
     "data": {
      "text/plain": [
       "array(['Perch', 'Perch', 'Pike', 'Perch', 'Perch'], dtype=object)"
      ]
     },
     "execution_count": 210,
     "metadata": {},
     "output_type": "execute_result"
    }
   ],
   "source": [
    "test_label[5:10]"
   ]
  },
  {
   "cell_type": "code",
   "execution_count": 211,
   "metadata": {},
   "outputs": [
    {
     "name": "stdout",
     "output_type": "stream",
     "text": [
      "['Bream' 'Parkki' 'Perch' 'Pike' 'Roach' 'Smelt' 'Whitefish']\n"
     ]
    },
    {
     "data": {
      "text/plain": [
       "array([[0.        , 0.        , 0.85714286, 0.        , 0.        ,\n",
       "        0.        , 0.14285714],\n",
       "       [0.        , 0.        , 0.71428571, 0.        , 0.        ,\n",
       "        0.        , 0.28571429],\n",
       "       [0.        , 0.        , 0.42857143, 0.42857143, 0.        ,\n",
       "        0.        , 0.14285714],\n",
       "       [0.        , 0.        , 0.71428571, 0.        , 0.14285714,\n",
       "        0.        , 0.14285714],\n",
       "       [0.        , 0.        , 0.71428571, 0.        , 0.28571429,\n",
       "        0.        , 0.        ]])"
      ]
     },
     "execution_count": 211,
     "metadata": {},
     "output_type": "execute_result"
    }
   ],
   "source": [
    "print(kn.classes_)\n",
    "kn.predict_proba(test_scaled[5:10])"
   ]
  },
  {
   "cell_type": "code",
   "execution_count": 212,
   "metadata": {},
   "outputs": [
    {
     "data": {
      "text/plain": [
       "(array([[0.91101148, 1.22823945, 1.54569749, 1.58666383, 1.59724465,\n",
       "         1.68338757, 1.72850434]]),\n",
       " array([[115, 131,  73,  50,  77,  84,   6]]))"
      ]
     },
     "execution_count": 212,
     "metadata": {},
     "output_type": "execute_result"
    }
   ],
   "source": [
    "distance, index = kn.kneighbors(test_scaled[7:8])\n",
    "distance, index"
   ]
  },
  {
   "cell_type": "code",
   "execution_count": 213,
   "metadata": {},
   "outputs": [
    {
     "data": {
      "text/plain": [
       "array([['Pike', 'Pike', 'Perch', 'Perch', 'Pike', 'Perch', 'Whitefish']],\n",
       "      dtype=object)"
      ]
     },
     "execution_count": 213,
     "metadata": {},
     "output_type": "execute_result"
    }
   ],
   "source": [
    "train_label[index]"
   ]
  }
 ],
 "metadata": {
  "kernelspec": {
   "display_name": "pystudy_env",
   "language": "python",
   "name": "python3"
  },
  "language_info": {
   "codemirror_mode": {
    "name": "ipython",
    "version": 3
   },
   "file_extension": ".py",
   "mimetype": "text/x-python",
   "name": "python",
   "nbconvert_exporter": "python",
   "pygments_lexer": "ipython3",
   "version": "3.12.9"
  }
 },
 "nbformat": 4,
 "nbformat_minor": 2
}
