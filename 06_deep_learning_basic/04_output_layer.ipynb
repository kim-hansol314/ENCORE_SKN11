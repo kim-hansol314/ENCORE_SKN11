{
 "cells": [
  {
   "cell_type": "markdown",
   "metadata": {},
   "source": [
    "# 출력층 설계 (Output layer)"
   ]
  },
  {
   "cell_type": "code",
   "execution_count": 1,
   "metadata": {},
   "outputs": [
    {
     "name": "stdout",
     "output_type": "stream",
     "text": [
      "Collecting torch\n",
      "  Downloading torch-2.6.0-cp312-cp312-win_amd64.whl.metadata (28 kB)\n",
      "Collecting torchvision\n",
      "  Downloading torchvision-0.21.0-cp312-cp312-win_amd64.whl.metadata (6.3 kB)\n",
      "Collecting torchaudio\n",
      "  Downloading torchaudio-2.6.0-cp312-cp312-win_amd64.whl.metadata (6.7 kB)\n",
      "Collecting filelock (from torch)\n",
      "  Downloading filelock-3.18.0-py3-none-any.whl.metadata (2.9 kB)\n",
      "Requirement already satisfied: typing-extensions>=4.10.0 in c:\\users\\playdata\\anaconda3\\envs\\pystudy_env\\lib\\site-packages (from torch) (4.12.2)\n",
      "Collecting networkx (from torch)\n",
      "  Downloading networkx-3.4.2-py3-none-any.whl.metadata (6.3 kB)\n",
      "Requirement already satisfied: jinja2 in c:\\users\\playdata\\anaconda3\\envs\\pystudy_env\\lib\\site-packages (from torch) (3.1.5)\n",
      "Collecting fsspec (from torch)\n",
      "  Downloading fsspec-2025.3.0-py3-none-any.whl.metadata (11 kB)\n",
      "Requirement already satisfied: setuptools in c:\\users\\playdata\\anaconda3\\envs\\pystudy_env\\lib\\site-packages (from torch) (75.8.0)\n",
      "Collecting sympy==1.13.1 (from torch)\n",
      "  Downloading sympy-1.13.1-py3-none-any.whl.metadata (12 kB)\n",
      "Collecting mpmath<1.4,>=1.1.0 (from sympy==1.13.1->torch)\n",
      "  Downloading mpmath-1.3.0-py3-none-any.whl.metadata (8.6 kB)\n",
      "Requirement already satisfied: numpy in c:\\users\\playdata\\anaconda3\\envs\\pystudy_env\\lib\\site-packages (from torchvision) (2.2.3)\n",
      "Requirement already satisfied: pillow!=8.3.*,>=5.3.0 in c:\\users\\playdata\\anaconda3\\envs\\pystudy_env\\lib\\site-packages (from torchvision) (11.1.0)\n",
      "Requirement already satisfied: MarkupSafe>=2.0 in c:\\users\\playdata\\anaconda3\\envs\\pystudy_env\\lib\\site-packages (from jinja2->torch) (3.0.2)\n",
      "Downloading torch-2.6.0-cp312-cp312-win_amd64.whl (204.1 MB)\n",
      "   ---------------------------------------- 0.0/204.1 MB ? eta -:--:--\n",
      "   ---------------------------------------- 1.8/204.1 MB 11.2 MB/s eta 0:00:19\n",
      "    --------------------------------------- 3.1/204.1 MB 10.8 MB/s eta 0:00:19\n",
      "   - -------------------------------------- 5.2/204.1 MB 9.1 MB/s eta 0:00:22\n",
      "   - -------------------------------------- 8.1/204.1 MB 10.3 MB/s eta 0:00:20\n",
      "   -- ------------------------------------- 11.8/204.1 MB 11.9 MB/s eta 0:00:17\n",
      "   -- ------------------------------------- 14.9/204.1 MB 12.5 MB/s eta 0:00:16\n",
      "   --- ------------------------------------ 18.1/204.1 MB 13.4 MB/s eta 0:00:14\n",
      "   --- ------------------------------------ 19.1/204.1 MB 12.5 MB/s eta 0:00:15\n",
      "   ---- ----------------------------------- 21.8/204.1 MB 12.0 MB/s eta 0:00:16\n",
      "   ---- ----------------------------------- 24.1/204.1 MB 12.3 MB/s eta 0:00:15\n",
      "   ----- ---------------------------------- 26.5/204.1 MB 12.0 MB/s eta 0:00:15\n",
      "   ----- ---------------------------------- 29.1/204.1 MB 12.1 MB/s eta 0:00:15\n",
      "   ------ --------------------------------- 33.0/204.1 MB 12.6 MB/s eta 0:00:14\n",
      "   ------- -------------------------------- 36.2/204.1 MB 12.7 MB/s eta 0:00:14\n",
      "   ------- -------------------------------- 37.0/204.1 MB 12.7 MB/s eta 0:00:14\n",
      "   ------- -------------------------------- 37.5/204.1 MB 11.5 MB/s eta 0:00:15\n",
      "   ------- -------------------------------- 38.5/204.1 MB 11.2 MB/s eta 0:00:15\n",
      "   ------- -------------------------------- 39.8/204.1 MB 10.8 MB/s eta 0:00:16\n",
      "   -------- ------------------------------- 40.9/204.1 MB 10.5 MB/s eta 0:00:16\n",
      "   -------- ------------------------------- 43.0/204.1 MB 10.5 MB/s eta 0:00:16\n",
      "   -------- ------------------------------- 45.6/204.1 MB 10.6 MB/s eta 0:00:16\n",
      "   --------- ------------------------------ 49.0/204.1 MB 10.8 MB/s eta 0:00:15\n",
      "   --------- ------------------------------ 50.3/204.1 MB 10.8 MB/s eta 0:00:15\n",
      "   ---------- ----------------------------- 51.4/204.1 MB 10.4 MB/s eta 0:00:15\n",
      "   ---------- ----------------------------- 53.5/204.1 MB 10.4 MB/s eta 0:00:15\n",
      "   ----------- ---------------------------- 56.9/204.1 MB 10.6 MB/s eta 0:00:14\n",
      "   ----------- ---------------------------- 58.7/204.1 MB 10.6 MB/s eta 0:00:14\n",
      "   ----------- ---------------------------- 60.8/204.1 MB 10.5 MB/s eta 0:00:14\n",
      "   ------------ --------------------------- 62.1/204.1 MB 10.4 MB/s eta 0:00:14\n",
      "   ------------ --------------------------- 64.2/204.1 MB 10.4 MB/s eta 0:00:14\n",
      "   ------------- -------------------------- 66.6/204.1 MB 10.4 MB/s eta 0:00:14\n",
      "   ------------- -------------------------- 70.0/204.1 MB 10.5 MB/s eta 0:00:13\n",
      "   -------------- ------------------------- 72.4/204.1 MB 10.6 MB/s eta 0:00:13\n",
      "   -------------- ------------------------- 75.2/204.1 MB 10.7 MB/s eta 0:00:13\n",
      "   --------------- ------------------------ 77.9/204.1 MB 10.8 MB/s eta 0:00:12\n",
      "   --------------- ------------------------ 80.7/204.1 MB 10.8 MB/s eta 0:00:12\n",
      "   ---------------- ----------------------- 83.1/204.1 MB 10.8 MB/s eta 0:00:12\n",
      "   ---------------- ----------------------- 85.2/204.1 MB 10.8 MB/s eta 0:00:12\n",
      "   ----------------- ---------------------- 87.0/204.1 MB 10.7 MB/s eta 0:00:11\n",
      "   ----------------- ---------------------- 89.7/204.1 MB 10.8 MB/s eta 0:00:11\n",
      "   ----------------- ---------------------- 91.5/204.1 MB 10.7 MB/s eta 0:00:11\n",
      "   ------------------ --------------------- 93.8/204.1 MB 10.8 MB/s eta 0:00:11\n",
      "   ------------------- -------------------- 97.5/204.1 MB 10.9 MB/s eta 0:00:10\n",
      "   ------------------- -------------------- 97.8/204.1 MB 10.9 MB/s eta 0:00:10\n",
      "   ------------------- -------------------- 99.9/204.1 MB 10.6 MB/s eta 0:00:10\n",
      "   ------------------- ------------------- 102.5/204.1 MB 10.7 MB/s eta 0:00:10\n",
      "   -------------------- ------------------ 105.1/204.1 MB 10.8 MB/s eta 0:00:10\n",
      "   -------------------- ------------------ 108.0/204.1 MB 10.8 MB/s eta 0:00:09\n",
      "   -------------------- ------------------ 109.8/204.1 MB 10.8 MB/s eta 0:00:09\n",
      "   --------------------- ----------------- 110.6/204.1 MB 10.6 MB/s eta 0:00:09\n",
      "   --------------------- ----------------- 112.7/204.1 MB 10.6 MB/s eta 0:00:09\n",
      "   ---------------------- ---------------- 115.3/204.1 MB 10.6 MB/s eta 0:00:09\n",
      "   ---------------------- ---------------- 117.7/204.1 MB 10.6 MB/s eta 0:00:09\n",
      "   ---------------------- ---------------- 119.0/204.1 MB 10.6 MB/s eta 0:00:08\n",
      "   ----------------------- --------------- 121.4/204.1 MB 10.6 MB/s eta 0:00:08\n",
      "   ----------------------- --------------- 123.7/204.1 MB 10.6 MB/s eta 0:00:08\n",
      "   ----------------------- --------------- 125.3/204.1 MB 10.6 MB/s eta 0:00:08\n",
      "   ------------------------ -------------- 126.9/204.1 MB 10.5 MB/s eta 0:00:08\n",
      "   ------------------------ -------------- 128.2/204.1 MB 10.4 MB/s eta 0:00:08\n",
      "   ------------------------ -------------- 129.5/204.1 MB 10.4 MB/s eta 0:00:08\n",
      "   ------------------------- ------------- 131.6/204.1 MB 10.4 MB/s eta 0:00:07\n",
      "   ------------------------- ------------- 133.7/204.1 MB 10.3 MB/s eta 0:00:07\n",
      "   ------------------------- ------------- 134.7/204.1 MB 10.3 MB/s eta 0:00:07\n",
      "   ------------------------- ------------- 136.1/204.1 MB 10.2 MB/s eta 0:00:07\n",
      "   -------------------------- ------------ 137.6/204.1 MB 10.2 MB/s eta 0:00:07\n",
      "   -------------------------- ------------ 139.2/204.1 MB 10.2 MB/s eta 0:00:07\n",
      "   -------------------------- ------------ 140.0/204.1 MB 10.1 MB/s eta 0:00:07\n",
      "   --------------------------- ----------- 141.8/204.1 MB 10.0 MB/s eta 0:00:07\n",
      "   --------------------------- ----------- 142.9/204.1 MB 10.0 MB/s eta 0:00:07\n",
      "   ---------------------------- ----------- 144.4/204.1 MB 9.9 MB/s eta 0:00:07\n",
      "   ---------------------------- ----------- 146.5/204.1 MB 9.9 MB/s eta 0:00:06\n",
      "   ---------------------------- ----------- 147.3/204.1 MB 9.8 MB/s eta 0:00:06\n",
      "   ----------------------------- ---------- 148.9/204.1 MB 9.8 MB/s eta 0:00:06\n",
      "   ----------------------------- ---------- 150.7/204.1 MB 9.8 MB/s eta 0:00:06\n",
      "   ----------------------------- ---------- 152.6/204.1 MB 9.8 MB/s eta 0:00:06\n",
      "   ------------------------------ --------- 154.1/204.1 MB 9.7 MB/s eta 0:00:06\n",
      "   ------------------------------ --------- 155.2/204.1 MB 9.7 MB/s eta 0:00:06\n",
      "   ------------------------------ --------- 156.8/204.1 MB 9.7 MB/s eta 0:00:05\n",
      "   ------------------------------- -------- 158.3/204.1 MB 9.6 MB/s eta 0:00:05\n",
      "   ------------------------------- -------- 159.6/204.1 MB 9.6 MB/s eta 0:00:05\n",
      "   ------------------------------- -------- 160.4/204.1 MB 9.5 MB/s eta 0:00:05\n",
      "   ------------------------------- -------- 162.3/204.1 MB 9.5 MB/s eta 0:00:05\n",
      "   -------------------------------- ------- 164.1/204.1 MB 9.5 MB/s eta 0:00:05\n",
      "   -------------------------------- ------- 165.2/204.1 MB 9.4 MB/s eta 0:00:05\n",
      "   -------------------------------- ------- 167.2/204.1 MB 9.4 MB/s eta 0:00:04\n",
      "   --------------------------------- ------ 168.6/204.1 MB 9.4 MB/s eta 0:00:04\n",
      "   --------------------------------- ------ 169.9/204.1 MB 9.4 MB/s eta 0:00:04\n",
      "   --------------------------------- ------ 171.7/204.1 MB 9.3 MB/s eta 0:00:04\n",
      "   --------------------------------- ------ 173.3/204.1 MB 9.3 MB/s eta 0:00:04\n",
      "   ---------------------------------- ----- 175.4/204.1 MB 9.3 MB/s eta 0:00:04\n",
      "   ---------------------------------- ----- 178.0/204.1 MB 9.4 MB/s eta 0:00:03\n",
      "   ----------------------------------- ---- 180.9/204.1 MB 9.4 MB/s eta 0:00:03\n",
      "   ----------------------------------- ---- 183.0/204.1 MB 9.4 MB/s eta 0:00:03\n",
      "   ------------------------------------ --- 185.3/204.1 MB 9.4 MB/s eta 0:00:02\n",
      "   ------------------------------------ --- 186.9/204.1 MB 9.4 MB/s eta 0:00:02\n",
      "   ------------------------------------ --- 188.5/204.1 MB 9.4 MB/s eta 0:00:02\n",
      "   ------------------------------------- -- 190.8/204.1 MB 9.4 MB/s eta 0:00:02\n",
      "   ------------------------------------- -- 193.2/204.1 MB 9.4 MB/s eta 0:00:02\n",
      "   -------------------------------------- - 195.0/204.1 MB 9.4 MB/s eta 0:00:01\n",
      "   -------------------------------------- - 196.3/204.1 MB 9.4 MB/s eta 0:00:01\n",
      "   -------------------------------------- - 198.7/204.1 MB 9.4 MB/s eta 0:00:01\n",
      "   ---------------------------------------  200.5/204.1 MB 9.4 MB/s eta 0:00:01\n",
      "   ---------------------------------------  202.9/204.1 MB 9.4 MB/s eta 0:00:01\n",
      "   ---------------------------------------  203.9/204.1 MB 9.4 MB/s eta 0:00:01\n",
      "   ---------------------------------------  203.9/204.1 MB 9.4 MB/s eta 0:00:01\n",
      "   ---------------------------------------- 204.1/204.1 MB 9.3 MB/s eta 0:00:00\n",
      "Downloading sympy-1.13.1-py3-none-any.whl (6.2 MB)\n",
      "   ---------------------------------------- 0.0/6.2 MB ? eta -:--:--\n",
      "   -------- ------------------------------- 1.3/6.2 MB 5.6 MB/s eta 0:00:01\n",
      "   ------------- -------------------------- 2.1/6.2 MB 5.1 MB/s eta 0:00:01\n",
      "   ------------------ --------------------- 2.9/6.2 MB 4.3 MB/s eta 0:00:01\n",
      "   ------------------------- -------------- 3.9/6.2 MB 4.9 MB/s eta 0:00:01\n",
      "   ------------------------------ --------- 4.7/6.2 MB 4.5 MB/s eta 0:00:01\n",
      "   ------------------------------------- -- 5.8/6.2 MB 4.5 MB/s eta 0:00:01\n",
      "   -------------------------------------- - 6.0/6.2 MB 4.1 MB/s eta 0:00:01\n",
      "   ---------------------------------------- 6.2/6.2 MB 4.0 MB/s eta 0:00:00\n",
      "Downloading torchvision-0.21.0-cp312-cp312-win_amd64.whl (1.6 MB)\n",
      "   ---------------------------------------- 0.0/1.6 MB ? eta -:--:--\n",
      "   --------------------------------- ------ 1.3/1.6 MB 8.4 MB/s eta 0:00:01\n",
      "   ---------------------------------------- 1.6/1.6 MB 6.0 MB/s eta 0:00:00\n",
      "Downloading torchaudio-2.6.0-cp312-cp312-win_amd64.whl (2.4 MB)\n",
      "   ---------------------------------------- 0.0/2.4 MB ? eta -:--:--\n",
      "   ---------------------------------- ----- 2.1/2.4 MB 14.7 MB/s eta 0:00:01\n",
      "   ---------------------------------------- 2.4/2.4 MB 10.7 MB/s eta 0:00:00\n",
      "Downloading filelock-3.18.0-py3-none-any.whl (16 kB)\n",
      "Downloading fsspec-2025.3.0-py3-none-any.whl (193 kB)\n",
      "Downloading networkx-3.4.2-py3-none-any.whl (1.7 MB)\n",
      "   ---------------------------------------- 0.0/1.7 MB ? eta -:--:--\n",
      "   ------------------ --------------------- 0.8/1.7 MB 5.6 MB/s eta 0:00:01\n",
      "   ---------------------------------------- 1.7/1.7 MB 5.5 MB/s eta 0:00:00\n",
      "Downloading mpmath-1.3.0-py3-none-any.whl (536 kB)\n",
      "   ---------------------------------------- 0.0/536.2 kB ? eta -:--:--\n",
      "   ---------------------------------------- 536.2/536.2 kB 5.8 MB/s eta 0:00:00\n",
      "Installing collected packages: mpmath, sympy, networkx, fsspec, filelock, torch, torchvision, torchaudio\n",
      "Successfully installed filelock-3.18.0 fsspec-2025.3.0 mpmath-1.3.0 networkx-3.4.2 sympy-1.13.1 torch-2.6.0 torchaudio-2.6.0 torchvision-0.21.0\n"
     ]
    }
   ],
   "source": [
    "!pip3 install torch torchvision torchaudio"
   ]
  },
  {
   "cell_type": "markdown",
   "metadata": {},
   "source": [
    "### 소프트맥스 오버플로우 방지"
   ]
  },
  {
   "cell_type": "code",
   "execution_count": 3,
   "metadata": {},
   "outputs": [
    {
     "name": "stdout",
     "output_type": "stream",
     "text": [
      "[nan nan nan]\n",
      "[0.09003057 0.24472847 0.66524096]\n"
     ]
    },
    {
     "name": "stderr",
     "output_type": "stream",
     "text": [
      "C:\\Users\\Playdata\\AppData\\Local\\Temp\\ipykernel_14444\\3860681584.py:4: RuntimeWarning: overflow encountered in exp\n",
      "  exp_x = np.exp(x)\n",
      "C:\\Users\\Playdata\\AppData\\Local\\Temp\\ipykernel_14444\\3860681584.py:5: RuntimeWarning: invalid value encountered in divide\n",
      "  return exp_x / np.sum(exp_x)\n"
     ]
    }
   ],
   "source": [
    "import numpy as np\n",
    "\n",
    "def softmax(x):\n",
    "    exp_x = np.exp(x)\n",
    "    return exp_x / np.sum(exp_x)\n",
    "\n",
    "def stable_softmax(x):\n",
    "    exp_x = np.exp(x - np.max(x))\n",
    "    return exp_x / np.sum(exp_x)\n",
    "\n",
    "\n",
    "x = np.array([1000, 1001, 1002])\n",
    "\n",
    "print(softmax(x))\n",
    "print(stable_softmax(x))"
   ]
  },
  {
   "cell_type": "markdown",
   "metadata": {},
   "source": [
    "- PyTorch 라이브러리 함수 사용"
   ]
  },
  {
   "cell_type": "code",
   "execution_count": 11,
   "metadata": {},
   "outputs": [
    {
     "name": "stdout",
     "output_type": "stream",
     "text": [
      "tensor([0.0900, 0.2447, 0.6652])\n",
      "tensor([1., 1., 1.])\n"
     ]
    }
   ],
   "source": [
    "import torch\n",
    "import torch.nn.functional as F\n",
    "\n",
    "x = torch.tensor([1000, 1001, 1002], dtype=torch.float32)\n",
    "\n",
    "softmax_output = F.softmax(x, dim=0)    # dim: softmax를 적용할 축\n",
    "print(softmax_output)\n",
    "\n",
    "sigmoid_output = torch.sigmoid(x)\n",
    "print(sigmoid_output)"
   ]
  },
  {
   "cell_type": "markdown",
   "metadata": {},
   "source": [
    "### 손실 함수와 연계"
   ]
  },
  {
   "cell_type": "code",
   "execution_count": null,
   "metadata": {},
   "outputs": [
    {
     "name": "stdout",
     "output_type": "stream",
     "text": [
      "1.3633761405944824\n",
      "1.1169312000274658\n",
      "0.9259476661682129\n",
      "0.7737959623336792\n",
      "0.6520293354988098\n",
      "0.5545705556869507\n",
      "0.47627758979797363\n",
      "0.41363489627838135\n",
      "0.36415624618530273\n",
      "0.32536399364471436\n"
     ]
    }
   ],
   "source": [
    "import torch\n",
    "import torch.nn as nn\n",
    "import torch.optim as optim\n",
    "\n",
    "# 간단한 다중 클래스 분류 모델 정의 (입력 값: 5개, 출력: 3 클래스)\n",
    "class SimpleMultiClassModel(nn.Module):\n",
    "    def __init__(self):\n",
    "        super(SimpleMultiClassModel, self).__init__()\n",
    "        self.fc = nn.Linear(5, 3)\n",
    "\n",
    "    def forward(self, x):\n",
    "        return self.fc(x)\n",
    "    \n",
    "model = SimpleMultiClassModel()\n",
    "criterion = nn.CrossEntropyLoss()\n",
    "optimizer = optim.Adam(model.parameters(), lr=0.01)\n",
    "\n",
    "# 데이터 생성\n",
    "inputs = torch.randn(4, 5)\n",
    "labels = torch.tensor([0, 2, 1, 0])\n",
    "\n",
    "for _ in range(10):\n",
    "    preds = model(inputs)           # 순전파\n",
    "    loss = criterion(preds, labels) # 손실 계산\n",
    "    print(loss.item())\n",
    "\n",
    "    optimizer.zero_grad()   # 이전 단계에서 계산된 기울기를 0으로 초기화\n",
    "    loss.backward()         # 손실에 대한 역전파 수행 (파라미터에 대한 기울기 계산)\n",
    "    optimizer.step()        # 계산된 기울기를 사용하여 옵티마이저가 모델의 파라미터 업데이트"
   ]
  },
  {
   "cell_type": "code",
   "execution_count": null,
   "metadata": {},
   "outputs": [],
   "source": []
  }
 ],
 "metadata": {
  "kernelspec": {
   "display_name": "pystudy_env",
   "language": "python",
   "name": "python3"
  },
  "language_info": {
   "codemirror_mode": {
    "name": "ipython",
    "version": 3
   },
   "file_extension": ".py",
   "mimetype": "text/x-python",
   "name": "python",
   "nbconvert_exporter": "python",
   "pygments_lexer": "ipython3",
   "version": "3.12.9"
  }
 },
 "nbformat": 4,
 "nbformat_minor": 2
}
