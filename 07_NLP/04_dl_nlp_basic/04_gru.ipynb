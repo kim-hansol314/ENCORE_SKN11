{
 "cells": [
  {
   "cell_type": "code",
   "execution_count": 1,
   "metadata": {
    "colab": {
     "base_uri": "https://localhost:8080/"
    },
    "executionInfo": {
     "elapsed": 21783,
     "status": "ok",
     "timestamp": 1744169853023,
     "user": {
      "displayName": "한솔이",
      "userId": "10967768436972793001"
     },
     "user_tz": -540
    },
    "id": "U0o3a06Unnmr",
    "outputId": "0dd45fe8-2366-4796-a4f8-6e944912e34a"
   },
   "outputs": [
    {
     "name": "stdout",
     "output_type": "stream",
     "text": [
      "Mounted at /content/gdrive\n"
     ]
    }
   ],
   "source": [
    "from google.colab import drive\n",
    "drive.mount('/content/gdrive')"
   ]
  },
  {
   "cell_type": "markdown",
   "metadata": {
    "id": "bEUvO2STn79W"
   },
   "source": [
    "# GRU"
   ]
  },
  {
   "cell_type": "code",
   "execution_count": 2,
   "metadata": {
    "executionInfo": {
     "elapsed": 3,
     "status": "ok",
     "timestamp": 1744174909547,
     "user": {
      "displayName": "한솔이",
      "userId": "10967768436972793001"
     },
     "user_tz": -540
    },
    "id": "BmG4YCKaRu73"
   },
   "outputs": [],
   "source": [
    "VOCAB_SIZE = 300\n",
    "SEQ_LEN = 100"
   ]
  },
  {
   "cell_type": "code",
   "execution_count": 3,
   "metadata": {
    "colab": {
     "base_uri": "https://localhost:8080/"
    },
    "executionInfo": {
     "elapsed": 17828,
     "status": "ok",
     "timestamp": 1744174935589,
     "user": {
      "displayName": "한솔이",
      "userId": "10967768436972793001"
     },
     "user_tz": -540
    },
    "id": "hLhjgHSmRSK0",
    "outputId": "93a5e168-be66-4579-af6f-e6fcb5f1b97c"
   },
   "outputs": [
    {
     "name": "stdout",
     "output_type": "stream",
     "text": [
      "Downloading data from https://storage.googleapis.com/tensorflow/tf-keras-datasets/imdb.npz\n",
      "\u001b[1m17464789/17464789\u001b[0m \u001b[32m━━━━━━━━━━━━━━━━━━━━\u001b[0m\u001b[37m\u001b[0m \u001b[1m1s\u001b[0m 0us/step\n"
     ]
    }
   ],
   "source": [
    "from tensorflow.keras.datasets import imdb\n",
    "\n",
    "(train_input, train_target), (test_input, test_target) = imdb.load_data(num_words=VOCAB_SIZE)"
   ]
  },
  {
   "cell_type": "code",
   "execution_count": 4,
   "metadata": {
    "colab": {
     "base_uri": "https://localhost:8080/"
    },
    "executionInfo": {
     "elapsed": 2491,
     "status": "ok",
     "timestamp": 1744174938147,
     "user": {
      "displayName": "한솔이",
      "userId": "10967768436972793001"
     },
     "user_tz": -540
    },
    "id": "FvJFOZHYbMO-",
    "outputId": "88ddd235-c9c1-4e17-c6ed-5e312a3379da"
   },
   "outputs": [
    {
     "name": "stdout",
     "output_type": "stream",
     "text": [
      "25000 25000\n",
      "torch.Size([25000]) torch.Size([25000])\n"
     ]
    }
   ],
   "source": [
    "import torch\n",
    "train_input = [torch.tensor(seq, dtype=torch.long) for seq in train_input]\n",
    "test_input = [torch.tensor(seq, dtype=torch.long) for seq in test_input]\n",
    "\n",
    "train_target = torch.tensor(train_target, dtype=torch.long)\n",
    "test_target = torch.tensor(test_target, dtype=torch.long)\n",
    "\n",
    "print(len(train_input), len(test_input))\n",
    "print(train_target.shape, test_target.shape)"
   ]
  },
  {
   "cell_type": "code",
   "execution_count": 5,
   "metadata": {
    "executionInfo": {
     "elapsed": 2,
     "status": "ok",
     "timestamp": 1744174938150,
     "user": {
      "displayName": "한솔이",
      "userId": "10967768436972793001"
     },
     "user_tz": -540
    },
    "id": "FDH9XhRYcLYo"
   },
   "outputs": [],
   "source": [
    "train_input, test_input = train_input[:10000], test_input[:5000]\n",
    "train_target, test_target = train_target[:10000], test_target[:5000]\n"
   ]
  },
  {
   "cell_type": "code",
   "execution_count": 6,
   "metadata": {
    "colab": {
     "base_uri": "https://localhost:8080/",
     "height": 450
    },
    "executionInfo": {
     "elapsed": 506,
     "status": "ok",
     "timestamp": 1744174938669,
     "user": {
      "displayName": "한솔이",
      "userId": "10967768436972793001"
     },
     "user_tz": -540
    },
    "id": "zmPt64GUdlxb",
    "outputId": "010ea4bc-75d3-440e-b665-0354eba2d44f"
   },
   "outputs": [
    {
     "data": {
      "image/png": "[encoded data removed]",
      "text/plain": [
       "<Figure size 640x480 with 1 Axes>"
      ]
     },
     "metadata": {},
     "output_type": "display_data"
    }
   ],
   "source": [
    "# 입력 데이터 길이 체크\n",
    "import matplotlib.pyplot as plt\n",
    "import numpy as np\n",
    "\n",
    "train_len = [len(seq) for seq in train_input]\n",
    "\n",
    "plt.hist(train_len, bins=50)\n",
    "plt.xlabel('seq_len')\n",
    "plt.ylabel('freq')\n",
    "plt.show()"
   ]
  },
  {
   "cell_type": "code",
   "execution_count": 7,
   "metadata": {
    "colab": {
     "base_uri": "https://localhost:8080/"
    },
    "executionInfo": {
     "elapsed": 227,
     "status": "ok",
     "timestamp": 1744174939604,
     "user": {
      "displayName": "한솔이",
      "userId": "10967768436972793001"
     },
     "user_tz": -540
    },
    "id": "UkxPjMP7d5w6",
    "outputId": "351bdced-d124-4118-fa4d-611eab9c6640"
   },
   "outputs": [
    {
     "data": {
      "text/plain": [
       "(torch.Size([10000, 100]), torch.Size([5000, 100]))"
      ]
     },
     "execution_count": 7,
     "metadata": {},
     "output_type": "execute_result"
    }
   ],
   "source": [
    "# padding 처리\n",
    "import torch.nn.functional as F\n",
    "\n",
    "def pad_sequences(sequences, maxlen, padding_value=0):\n",
    "  padded_sequences = [F.pad(seq[:maxlen], (0, max(0, maxlen-len(seq))), value=padding_value) for seq in sequences]\n",
    "  return torch.stack(padded_sequences)\n",
    "\n",
    "train_seq = pad_sequences(train_input, maxlen=SEQ_LEN)\n",
    "test_seq = pad_sequences(test_input, maxlen=SEQ_LEN)\n",
    "\n",
    "train_seq.shape, test_seq.shape"
   ]
  },
  {
   "cell_type": "code",
   "execution_count": 8,
   "metadata": {
    "colab": {
     "base_uri": "https://localhost:8080/"
    },
    "executionInfo": {
     "elapsed": 6406,
     "status": "ok",
     "timestamp": 1744174946997,
     "user": {
      "displayName": "한솔이",
      "userId": "10967768436972793001"
     },
     "user_tz": -540
    },
    "id": "dDYTNjYWghwb",
    "outputId": "5ce84ddd-3194-46d7-fe0b-24427c557514"
   },
   "outputs": [
    {
     "data": {
      "text/plain": [
       "(torch.Size([10000, 100, 300]), torch.Size([5000, 100, 300]))"
      ]
     },
     "execution_count": 8,
     "metadata": {},
     "output_type": "execute_result"
    }
   ],
   "source": [
    "# one-hot encoding\n",
    "train_onehot = F.one_hot(train_seq, num_classes=VOCAB_SIZE).float()\n",
    "test_onehot = F.one_hot(test_seq, num_classes=VOCAB_SIZE).float()\n",
    "\n",
    "train_onehot.shape, test_onehot.shape"
   ]
  },
  {
   "cell_type": "markdown",
   "metadata": {
    "id": "dKte4BghoNT1"
   },
   "source": [
    "### 모델 준비 및 학습"
   ]
  },
  {
   "cell_type": "code",
   "execution_count": 9,
   "metadata": {
    "executionInfo": {
     "elapsed": 12,
     "status": "ok",
     "timestamp": 1744175195672,
     "user": {
      "displayName": "한솔이",
      "userId": "10967768436972793001"
     },
     "user_tz": -540
    },
    "id": "gLp_Oaz5nt1x"
   },
   "outputs": [],
   "source": [
    "import torch\n",
    "import torch.nn as nn\n",
    "\n",
    "class GRUModel(nn.Module):\n",
    "  def __init__(self, input_dim, hidden_unit, output_dim, return_sequences=False, return_state=False):\n",
    "    super(GRUModel, self).__init__()\n",
    "    self.return_sequences = return_sequences\n",
    "    self.return_state = return_state\n",
    "    self.gru = nn.GRU(input_size=input_dim, hidden_size=hidden_unit, batch_first=True)\n",
    "    self.fc = nn.Linear(hidden_unit, output_dim)\n",
    "    self.sigmoid = nn.Sigmoid()\n",
    "\n",
    "  def forward(self, x):\n",
    "    output, hidden = self.gru(x)\n",
    "    result_output = self.fc(hidden[-1])\n",
    "\n",
    "    if self.return_sequences and self.return_state:\n",
    "      return output, hidden[-1]\n",
    "    elif self.return_sequences:\n",
    "      return output\n",
    "    elif self.return_state:\n",
    "      return output[:, -1, :], hidden[-1]\n",
    "\n",
    "    return self.sigmoid(result_output)"
   ]
  },
  {
   "cell_type": "code",
   "execution_count": 11,
   "metadata": {
    "executionInfo": {
     "elapsed": 7,
     "status": "ok",
     "timestamp": 1744175313365,
     "user": {
      "displayName": "한솔이",
      "userId": "10967768436972793001"
     },
     "user_tz": -540
    },
    "id": "nGZRNHm08Rzh"
   },
   "outputs": [],
   "source": [
    "HIDDEN_DIM = 8\n",
    "OUTPUT_DIM = 1\n",
    "\n",
    "gru_model = GRUModel(input_dim=VOCAB_SIZE, hidden_unit=HIDDEN_DIM, output_dim=OUTPUT_DIM)"
   ]
  },
  {
   "cell_type": "code",
   "execution_count": 12,
   "metadata": {
    "colab": {
     "base_uri": "https://localhost:8080/",
     "height": 662
    },
    "executionInfo": {
     "elapsed": 82732,
     "status": "ok",
     "timestamp": 1744175400543,
     "user": {
      "displayName": "한솔이",
      "userId": "10967768436972793001"
     },
     "user_tz": -540
    },
    "id": "OsZFuYUr8Scb",
    "outputId": "26d3a138-cab7-4869-b8eb-80405dd6b62d"
   },
   "outputs": [
    {
     "name": "stdout",
     "output_type": "stream",
     "text": [
      "Epoch 1/100 | Train Loss: 0.6933, Train Acc: 0.5171, Val Loss: 0.6911, Val Acc: 0.5230\n",
      "Epoch 2/100 | Train Loss: 0.6714, Train Acc: 0.5806, Val Loss: 0.6432, Val Acc: 0.6385\n",
      "Epoch 3/100 | Train Loss: 0.5721, Train Acc: 0.7143, Val Loss: 0.5609, Val Acc: 0.7075\n",
      "Epoch 4/100 | Train Loss: 0.5228, Train Acc: 0.7455, Val Loss: 0.5694, Val Acc: 0.6980\n",
      "Epoch 5/100 | Train Loss: 0.4991, Train Acc: 0.7630, Val Loss: 0.5461, Val Acc: 0.7195\n",
      "Epoch 6/100 | Train Loss: 0.4838, Train Acc: 0.7701, Val Loss: 0.5621, Val Acc: 0.7135\n",
      "Epoch 7/100 | Train Loss: 0.4784, Train Acc: 0.7740, Val Loss: 0.5471, Val Acc: 0.7125\n",
      "Epoch 8/100 | Train Loss: 0.4670, Train Acc: 0.7779, Val Loss: 0.5614, Val Acc: 0.7155\n",
      "Epoch 9/100 | Train Loss: 0.4585, Train Acc: 0.7891, Val Loss: 0.5715, Val Acc: 0.7215\n",
      "Epoch 10/100 | Train Loss: 0.4551, Train Acc: 0.7876, Val Loss: 0.5608, Val Acc: 0.7155\n",
      "Epoch 11/100 | Train Loss: 0.4403, Train Acc: 0.7977, Val Loss: 0.5767, Val Acc: 0.7210\n",
      "Epoch 12/100 | Train Loss: 0.4317, Train Acc: 0.8031, Val Loss: 0.5763, Val Acc: 0.7150\n",
      "Early stopping!!!\n"
     ]
    },
    {
     "data": {
      "image/png": "[encoded data removed]",
      "text/plain": [
       "<Figure size 640x480 with 1 Axes>"
      ]
     },
     "metadata": {},
     "output_type": "display_data"
    }
   ],
   "source": [
    "import torch.optim as optim\n",
    "import pandas as pd\n",
    "from torch.utils.data import DataLoader, TensorDataset, random_split\n",
    "\n",
    "# 배치 사이즈 설정 + 학습/검증셋 크기 설정\n",
    "BATCH_SIZE = 65\n",
    "train_size = int(len(train_onehot) * 0.8)\n",
    "val_size = len(train_onehot) - train_size\n",
    "\n",
    "# label 데이터 실수 처리\n",
    "train_target = train_target.float()\n",
    "test_target = test_target.float()\n",
    "\n",
    "# 학습/검증셋 분할 + 미니배치 사용하도록 DataLoader 생성\n",
    "train_dataset, val_dataset = random_split(TensorDataset(train_onehot, train_target), [train_size, val_size])\n",
    "train_loader = DataLoader(train_dataset, batch_size=BATCH_SIZE, shuffle=True)\n",
    "val_loader = DataLoader(val_dataset, batch_size=BATCH_SIZE)\n",
    "\n",
    "# epoch, 손실함수, 최적화함수 정의\n",
    "epochs = 100\n",
    "criterion = nn.BCELoss()\n",
    "optimizer = optim.Adam(gru_model.parameters(), lr=0.005)\n",
    "\n",
    "# 시각화를 위한 손실값, 정확도 저장용\n",
    "train_losses, val_losses, train_accs, val_accs = [], [], [], []\n",
    "\n",
    "# 조기종료 관련 변수 초기화\n",
    "early_stopping_patience = 7\n",
    "best_val_loss = float('inf')\n",
    "early_stop_counter = 0\n",
    "\n",
    "# 학습 과정\n",
    "for epoch in range(epochs):\n",
    "  # train mode\n",
    "  gru_model.train()\n",
    "  total_loss, correct, total = 0, 0, 0\n",
    "\n",
    "  for inputs, targets in train_loader:\n",
    "    optimizer.zero_grad()               # 가중치 초기화\n",
    "    outputs = gru_model(inputs).squeeze()   # 순전파\n",
    "\n",
    "    loss = criterion(outputs, targets)  # 손실 계산\n",
    "\n",
    "    loss.backward()                     # 역전파\n",
    "    optimizer.step()                    # 가중치 업데이트\n",
    "    total_loss += loss.item()\n",
    "\n",
    "    pred = (outputs > 0.5).float()\n",
    "    correct += (pred == targets).sum().item()\n",
    "    total += targets.size(0)\n",
    "\n",
    "  train_loss = total_loss / len(train_loader)\n",
    "  train_acc = correct / total\n",
    "  train_losses.append(train_loss)\n",
    "  train_accs.append(train_acc)\n",
    "\n",
    "  # validation mode\n",
    "  gru_model.eval()\n",
    "  val_loss, val_correct, val_total = 0, 0, 0\n",
    "\n",
    "  with torch.no_grad():\n",
    "    for val_inputs, val_targets in val_loader:\n",
    "      val_outputs = gru_model(val_inputs).squeeze()   # 순전파\n",
    "      loss = criterion(val_outputs, val_targets)  # 손실 계산\n",
    "      val_loss += loss.item()\n",
    "\n",
    "      val_pred = (val_outputs > 0.5).float()\n",
    "      val_correct += (val_pred == val_targets).sum().item()\n",
    "      val_total += val_targets.size(0)\n",
    "\n",
    "  val_loss = val_loss / len(val_loader)\n",
    "  val_acc = val_correct / val_total\n",
    "  val_losses.append(val_loss)\n",
    "  val_accs.append(val_acc)\n",
    "\n",
    "  print(f'Epoch {epoch+1}/{epochs} | Train Loss: {train_loss:.4f}, Train Acc: {train_acc:.4f}, Val Loss: {val_loss:.4f}, Val Acc: {val_acc:.4f}')\n",
    "\n",
    "  # 조기종료 처리\n",
    "  if val_loss < best_val_loss:\n",
    "    best_val_loss = val_loss\n",
    "    early_stop_counter = 0\n",
    "  else:\n",
    "    early_stop_counter += 1\n",
    "    if early_stop_counter >= early_stopping_patience:\n",
    "      print(\"Early stopping!!!\")\n",
    "      break\n",
    "\n",
    "# 시각화\n",
    "train_history_df = pd.DataFrame({\n",
    "    \"train_loss\": train_losses,\n",
    "    \"val_loss\": val_losses,\n",
    "    \"train_acc\": train_accs,\n",
    "    \"val_acc\": val_accs\n",
    "})\n",
    "train_history_df.plot()\n",
    "plt.show()"
   ]
  },
  {
   "cell_type": "code",
   "execution_count": null,
   "metadata": {
    "id": "KgynPOsk81JS"
   },
   "outputs": [],
   "source": []
  }
 ],
 "metadata": {
  "colab": {
   "authorship_tag": "ABX9TyO5jpq0dcxp3Yo5YfjMmRIm",
   "provenance": []
  },
  "kernelspec": {
   "display_name": "Python 3",
   "name": "python3"
  },
  "language_info": {
   "name": "python"
  }
 },
 "nbformat": 4,
 "nbformat_minor": 0
}
