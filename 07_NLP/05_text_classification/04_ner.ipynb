{
 "cells": [
  {
   "cell_type": "markdown",
   "id": "de615b18",
   "metadata": {},
   "source": [
    "# NER"
   ]
  },
  {
   "cell_type": "markdown",
   "id": "20035098",
   "metadata": {},
   "source": [
    "- 데이터\n",
    "    - CoNLL - the Conference on Natural Language Learning\n",
    "    - https://github.com/Franck-Dernoncourt/NeuroNER"
   ]
  },
  {
   "cell_type": "code",
   "execution_count": 1,
   "id": "0b5ff0dd",
   "metadata": {},
   "outputs": [],
   "source": [
    "import numpy as np\n",
    "import pandas as pd\n",
    "import matplotlib.pyplot as plt\n",
    "import tensorflow as tf\n",
    "import re"
   ]
  },
  {
   "cell_type": "code",
   "execution_count": 2,
   "id": "52f4bbcb",
   "metadata": {},
   "outputs": [],
   "source": [
    "ner_train_path = tf.keras.utils.get_file(\"ner_train.txt\", \"https://raw.githubusercontent.com/Franck-Dernoncourt/NeuroNER/refs/heads/master/neuroner/data/conll2003/en/train.txt\")\n",
    "ner_test_path = tf.keras.utils.get_file(\"ner_test.txt\", \"https://raw.githubusercontent.com/Franck-Dernoncourt/NeuroNER/refs/heads/master/neuroner/data/conll2003/en/test.txt\")"
   ]
  },
  {
   "cell_type": "markdown",
   "id": "d93489f1",
   "metadata": {},
   "source": [
    "### 데이터 전처리\n",
    "\n",
    "1. (word, ner) 변환\n",
    "2. 토큰화\n",
    "3. sequence 처리\n",
    "4. padding 처리"
   ]
  },
  {
   "cell_type": "code",
   "execution_count": 3,
   "id": "a8ee963a",
   "metadata": {},
   "outputs": [],
   "source": [
    "# (word, ner) tagging\n",
    "def get_tagged_sentences(path):\n",
    "    temp = []\n",
    "    sentences = []\n",
    "\n",
    "    for line in open(path, 'r', encoding='utf-8'):\n",
    "        if line.startswith('-DOCSTART') or line[0] == '\\n':\n",
    "            if len(temp) > 0:\n",
    "                sentences.append(temp)\n",
    "                temp=[]\n",
    "            continue\n",
    "\n",
    "        word, pos, chunk, ner = line.split()\n",
    "        ner = re.sub('\\n', '', ner)\n",
    "        word = word.lower()\n",
    "        temp.append((word, ner))\n",
    "\n",
    "    return sentences"
   ]
  },
  {
   "cell_type": "code",
   "execution_count": 4,
   "id": "5c0667cf",
   "metadata": {},
   "outputs": [
    {
     "data": {
      "text/plain": [
       "[[('eu', 'B-ORG'),\n",
       "  ('rejects', 'O'),\n",
       "  ('german', 'B-MISC'),\n",
       "  ('call', 'O'),\n",
       "  ('to', 'O'),\n",
       "  ('boycott', 'O'),\n",
       "  ('british', 'B-MISC'),\n",
       "  ('lamb', 'O'),\n",
       "  ('.', 'O')],\n",
       " [('peter', 'B-PER'), ('blackburn', 'I-PER')],\n",
       " [('brussels', 'B-LOC'), ('1996-08-22', 'O')],\n",
       " [('the', 'O'),\n",
       "  ('european', 'B-ORG'),\n",
       "  ('commission', 'I-ORG'),\n",
       "  ('said', 'O'),\n",
       "  ('on', 'O'),\n",
       "  ('thursday', 'O'),\n",
       "  ('it', 'O'),\n",
       "  ('disagreed', 'O'),\n",
       "  ('with', 'O'),\n",
       "  ('german', 'B-MISC'),\n",
       "  ('advice', 'O'),\n",
       "  ('to', 'O'),\n",
       "  ('consumers', 'O'),\n",
       "  ('to', 'O'),\n",
       "  ('shun', 'O'),\n",
       "  ('british', 'B-MISC'),\n",
       "  ('lamb', 'O'),\n",
       "  ('until', 'O'),\n",
       "  ('scientists', 'O'),\n",
       "  ('determine', 'O'),\n",
       "  ('whether', 'O'),\n",
       "  ('mad', 'O'),\n",
       "  ('cow', 'O'),\n",
       "  ('disease', 'O'),\n",
       "  ('can', 'O'),\n",
       "  ('be', 'O'),\n",
       "  ('transmitted', 'O'),\n",
       "  ('to', 'O'),\n",
       "  ('sheep', 'O'),\n",
       "  ('.', 'O')],\n",
       " [('germany', 'B-LOC'),\n",
       "  (\"'s\", 'O'),\n",
       "  ('representative', 'O'),\n",
       "  ('to', 'O'),\n",
       "  ('the', 'O'),\n",
       "  ('european', 'B-ORG'),\n",
       "  ('union', 'I-ORG'),\n",
       "  (\"'s\", 'O'),\n",
       "  ('veterinary', 'O'),\n",
       "  ('committee', 'O'),\n",
       "  ('werner', 'B-PER'),\n",
       "  ('zwingmann', 'I-PER'),\n",
       "  ('said', 'O'),\n",
       "  ('on', 'O'),\n",
       "  ('wednesday', 'O'),\n",
       "  ('consumers', 'O'),\n",
       "  ('should', 'O'),\n",
       "  ('buy', 'O'),\n",
       "  ('sheepmeat', 'O'),\n",
       "  ('from', 'O'),\n",
       "  ('countries', 'O'),\n",
       "  ('other', 'O'),\n",
       "  ('than', 'O'),\n",
       "  ('britain', 'B-LOC'),\n",
       "  ('until', 'O'),\n",
       "  ('the', 'O'),\n",
       "  ('scientific', 'O'),\n",
       "  ('advice', 'O'),\n",
       "  ('was', 'O'),\n",
       "  ('clearer', 'O'),\n",
       "  ('.', 'O')]]"
      ]
     },
     "execution_count": 4,
     "metadata": {},
     "output_type": "execute_result"
    }
   ],
   "source": [
    "train_tagged_sents = get_tagged_sentences(ner_train_path)\n",
    "test_tagged_sents = get_tagged_sentences(ner_test_path)\n",
    "\n",
    "train_tagged_sents[:5]"
   ]
  },
  {
   "cell_type": "code",
   "execution_count": 7,
   "id": "6996e470",
   "metadata": {},
   "outputs": [],
   "source": [
    "def get_sents_and_labels(tagged_sentences):\n",
    "    inputs, labels = [], []\n",
    "    for sentence in tagged_sentences:\n",
    "        tokens, ner = zip(*sentence)\n",
    "        # print(tokens)\n",
    "        # print(ner)\n",
    "        inputs.append(list(tokens))\n",
    "        labels.append(list(ner))\n",
    "\n",
    "    return inputs, labels"
   ]
  },
  {
   "cell_type": "code",
   "execution_count": 8,
   "id": "d76de183",
   "metadata": {},
   "outputs": [
    {
     "name": "stdout",
     "output_type": "stream",
     "text": [
      "14041 14041 3453 3453\n"
     ]
    }
   ],
   "source": [
    "train_inputs, train_labels = get_sents_and_labels(train_tagged_sents)\n",
    "test_inputs, test_labels = get_sents_and_labels(test_tagged_sents)\n",
    "\n",
    "print(len(train_inputs), len(train_labels), len(test_inputs), len(test_labels))"
   ]
  },
  {
   "cell_type": "code",
   "execution_count": 12,
   "id": "0b2cb455",
   "metadata": {},
   "outputs": [
    {
     "name": "stdout",
     "output_type": "stream",
     "text": [
      "min-max: 1 - 113\n",
      "mean: 14.501887329962253\n",
      "median: 10.0\n"
     ]
    },
    {
     "data": {
      "image/png": "[encoded data removed]",
      "text/plain": [
       "<Figure size 640x480 with 1 Axes>"
      ]
     },
     "metadata": {},
     "output_type": "display_data"
    }
   ],
   "source": [
    "# 데이터 길이 확인\n",
    "train_len = [len(seq) for seq in train_inputs]\n",
    "\n",
    "print('min-max:', np.min(train_len), '-', np.max(train_len))\n",
    "print('mean:', np.mean(train_len))\n",
    "print('median:', np.median(train_len))\n",
    "\n",
    "\n",
    "plt.hist(train_len, bins=50)\n",
    "plt.show()"
   ]
  },
  {
   "cell_type": "code",
   "execution_count": 14,
   "id": "b4baa8ee",
   "metadata": {},
   "outputs": [],
   "source": [
    "# sequence - padding\n",
    "from tensorflow.keras.preprocessing.sequence import pad_sequences\n",
    "from tensorflow.keras.preprocessing.text import Tokenizer\n",
    "\n",
    "MAX_LEN = 50\n",
    "VOCAB_SIZE = 10000\n",
    "\n",
    "entity_tokenizer = Tokenizer(num_words=VOCAB_SIZE, oov_token='<OOV>')\n",
    "entity_tokenizer.fit_on_texts(train_inputs)\n",
    "\n",
    "X_train = entity_tokenizer.texts_to_sequences(train_inputs)\n",
    "X_train = pad_sequences(X_train, maxlen=MAX_LEN, padding='pre', truncating='pre')"
   ]
  },
  {
   "cell_type": "code",
   "execution_count": 15,
   "id": "8ca9847a",
   "metadata": {},
   "outputs": [],
   "source": [
    "tag_tokenizer = Tokenizer()\n",
    "tag_tokenizer.fit_on_texts(train_labels)\n",
    "\n",
    "y_train = tag_tokenizer.texts_to_sequences(train_labels)\n",
    "y_train = pad_sequences(y_train, maxlen=MAX_LEN, padding='pre', truncating='pre')"
   ]
  },
  {
   "cell_type": "code",
   "execution_count": 16,
   "id": "fcb567eb",
   "metadata": {},
   "outputs": [
    {
     "data": {
      "text/plain": [
       "{1: 'o',\n",
       " 2: 'b-loc',\n",
       " 3: 'b-per',\n",
       " 4: 'b-org',\n",
       " 5: 'i-per',\n",
       " 6: 'i-org',\n",
       " 7: 'b-misc',\n",
       " 8: 'i-loc',\n",
       " 9: 'i-misc'}"
      ]
     },
     "execution_count": 16,
     "metadata": {},
     "output_type": "execute_result"
    }
   ],
   "source": [
    "tag_tokenizer.index_word"
   ]
  },
  {
   "cell_type": "code",
   "execution_count": 21,
   "id": "b0aefdd0",
   "metadata": {},
   "outputs": [],
   "source": [
    "X_test = entity_tokenizer.texts_to_sequences(test_inputs)\n",
    "X_test = pad_sequences(X_test, maxlen=MAX_LEN, padding='pre', truncating='pre')\n",
    "\n",
    "y_test = tag_tokenizer.texts_to_sequences(test_labels)\n",
    "y_test = pad_sequences(y_test, maxlen=MAX_LEN, padding='pre', truncating='pre')"
   ]
  },
  {
   "cell_type": "markdown",
   "id": "2ee8df34",
   "metadata": {},
   "source": [
    "### 모델 생성 및 학습"
   ]
  },
  {
   "cell_type": "code",
   "execution_count": 17,
   "id": "1666414e",
   "metadata": {},
   "outputs": [
    {
     "data": {
      "text/html": [
       "<pre style=\"white-space:pre;overflow-x:auto;line-height:normal;font-family:Menlo,'DejaVu Sans Mono',consolas,'Courier New',monospace\"><span style=\"font-weight: bold\">Model: \"functional\"</span>\n",
       "</pre>\n"
      ],
      "text/plain": [
       "\u001b[1mModel: \"functional\"\u001b[0m\n"
      ]
     },
     "metadata": {},
     "output_type": "display_data"
    },
    {
     "data": {
      "text/html": [
       "<pre style=\"white-space:pre;overflow-x:auto;line-height:normal;font-family:Menlo,'DejaVu Sans Mono',consolas,'Courier New',monospace\">┏━━━━━━━━━━━━━━━━━━━━━━━━━━━━━━━━━┳━━━━━━━━━━━━━━━━━━━━━━━━┳━━━━━━━━━━━━━━━┓\n",
       "┃<span style=\"font-weight: bold\"> Layer (type)                    </span>┃<span style=\"font-weight: bold\"> Output Shape           </span>┃<span style=\"font-weight: bold\">       Param # </span>┃\n",
       "┡━━━━━━━━━━━━━━━━━━━━━━━━━━━━━━━━━╇━━━━━━━━━━━━━━━━━━━━━━━━╇━━━━━━━━━━━━━━━┩\n",
       "│ input_layer (<span style=\"color: #0087ff; text-decoration-color: #0087ff\">InputLayer</span>)        │ (<span style=\"color: #00d7ff; text-decoration-color: #00d7ff\">None</span>, <span style=\"color: #00af00; text-decoration-color: #00af00\">50</span>)             │             <span style=\"color: #00af00; text-decoration-color: #00af00\">0</span> │\n",
       "├─────────────────────────────────┼────────────────────────┼───────────────┤\n",
       "│ embedding (<span style=\"color: #0087ff; text-decoration-color: #0087ff\">Embedding</span>)           │ (<span style=\"color: #00d7ff; text-decoration-color: #00d7ff\">None</span>, <span style=\"color: #00af00; text-decoration-color: #00af00\">50</span>, <span style=\"color: #00af00; text-decoration-color: #00af00\">100</span>)        │     <span style=\"color: #00af00; text-decoration-color: #00af00\">1,000,100</span> │\n",
       "├─────────────────────────────────┼────────────────────────┼───────────────┤\n",
       "│ bidirectional (<span style=\"color: #0087ff; text-decoration-color: #0087ff\">Bidirectional</span>)   │ (<span style=\"color: #00d7ff; text-decoration-color: #00d7ff\">None</span>, <span style=\"color: #00af00; text-decoration-color: #00af00\">50</span>, <span style=\"color: #00af00; text-decoration-color: #00af00\">512</span>)        │       <span style=\"color: #00af00; text-decoration-color: #00af00\">731,136</span> │\n",
       "├─────────────────────────────────┼────────────────────────┼───────────────┤\n",
       "│ dense (<span style=\"color: #0087ff; text-decoration-color: #0087ff\">Dense</span>)                   │ (<span style=\"color: #00d7ff; text-decoration-color: #00d7ff\">None</span>, <span style=\"color: #00af00; text-decoration-color: #00af00\">50</span>, <span style=\"color: #00af00; text-decoration-color: #00af00\">10</span>)         │         <span style=\"color: #00af00; text-decoration-color: #00af00\">5,130</span> │\n",
       "└─────────────────────────────────┴────────────────────────┴───────────────┘\n",
       "</pre>\n"
      ],
      "text/plain": [
       "┏━━━━━━━━━━━━━━━━━━━━━━━━━━━━━━━━━┳━━━━━━━━━━━━━━━━━━━━━━━━┳━━━━━━━━━━━━━━━┓\n",
       "┃\u001b[1m \u001b[0m\u001b[1mLayer (type)                   \u001b[0m\u001b[1m \u001b[0m┃\u001b[1m \u001b[0m\u001b[1mOutput Shape          \u001b[0m\u001b[1m \u001b[0m┃\u001b[1m \u001b[0m\u001b[1m      Param #\u001b[0m\u001b[1m \u001b[0m┃\n",
       "┡━━━━━━━━━━━━━━━━━━━━━━━━━━━━━━━━━╇━━━━━━━━━━━━━━━━━━━━━━━━╇━━━━━━━━━━━━━━━┩\n",
       "│ input_layer (\u001b[38;5;33mInputLayer\u001b[0m)        │ (\u001b[38;5;45mNone\u001b[0m, \u001b[38;5;34m50\u001b[0m)             │             \u001b[38;5;34m0\u001b[0m │\n",
       "├─────────────────────────────────┼────────────────────────┼───────────────┤\n",
       "│ embedding (\u001b[38;5;33mEmbedding\u001b[0m)           │ (\u001b[38;5;45mNone\u001b[0m, \u001b[38;5;34m50\u001b[0m, \u001b[38;5;34m100\u001b[0m)        │     \u001b[38;5;34m1,000,100\u001b[0m │\n",
       "├─────────────────────────────────┼────────────────────────┼───────────────┤\n",
       "│ bidirectional (\u001b[38;5;33mBidirectional\u001b[0m)   │ (\u001b[38;5;45mNone\u001b[0m, \u001b[38;5;34m50\u001b[0m, \u001b[38;5;34m512\u001b[0m)        │       \u001b[38;5;34m731,136\u001b[0m │\n",
       "├─────────────────────────────────┼────────────────────────┼───────────────┤\n",
       "│ dense (\u001b[38;5;33mDense\u001b[0m)                   │ (\u001b[38;5;45mNone\u001b[0m, \u001b[38;5;34m50\u001b[0m, \u001b[38;5;34m10\u001b[0m)         │         \u001b[38;5;34m5,130\u001b[0m │\n",
       "└─────────────────────────────────┴────────────────────────┴───────────────┘\n"
      ]
     },
     "metadata": {},
     "output_type": "display_data"
    },
    {
     "data": {
      "text/html": [
       "<pre style=\"white-space:pre;overflow-x:auto;line-height:normal;font-family:Menlo,'DejaVu Sans Mono',consolas,'Courier New',monospace\"><span style=\"font-weight: bold\"> Total params: </span><span style=\"color: #00af00; text-decoration-color: #00af00\">1,736,366</span> (6.62 MB)\n",
       "</pre>\n"
      ],
      "text/plain": [
       "\u001b[1m Total params: \u001b[0m\u001b[38;5;34m1,736,366\u001b[0m (6.62 MB)\n"
      ]
     },
     "metadata": {},
     "output_type": "display_data"
    },
    {
     "data": {
      "text/html": [
       "<pre style=\"white-space:pre;overflow-x:auto;line-height:normal;font-family:Menlo,'DejaVu Sans Mono',consolas,'Courier New',monospace\"><span style=\"font-weight: bold\"> Trainable params: </span><span style=\"color: #00af00; text-decoration-color: #00af00\">1,736,366</span> (6.62 MB)\n",
       "</pre>\n"
      ],
      "text/plain": [
       "\u001b[1m Trainable params: \u001b[0m\u001b[38;5;34m1,736,366\u001b[0m (6.62 MB)\n"
      ]
     },
     "metadata": {},
     "output_type": "display_data"
    },
    {
     "data": {
      "text/html": [
       "<pre style=\"white-space:pre;overflow-x:auto;line-height:normal;font-family:Menlo,'DejaVu Sans Mono',consolas,'Courier New',monospace\"><span style=\"font-weight: bold\"> Non-trainable params: </span><span style=\"color: #00af00; text-decoration-color: #00af00\">0</span> (0.00 B)\n",
       "</pre>\n"
      ],
      "text/plain": [
       "\u001b[1m Non-trainable params: \u001b[0m\u001b[38;5;34m0\u001b[0m (0.00 B)\n"
      ]
     },
     "metadata": {},
     "output_type": "display_data"
    }
   ],
   "source": [
    "from tensorflow.keras import layers, models\n",
    "\n",
    "EMBED_DIM = 100\n",
    "LATENT_DIM = 256\n",
    "TAG_SIZE = len(tag_tokenizer.word_index)\n",
    "\n",
    "input = layers.Input(shape=(MAX_LEN,))\n",
    "x = layers.Embedding(VOCAB_SIZE + 1, EMBED_DIM)(input)\n",
    "lstm = layers.LSTM(LATENT_DIM, return_sequences = True)\n",
    "x = layers.Bidirectional(lstm)(x)\n",
    "output = layers.Dense(TAG_SIZE + 1, activation='softmax')(x)\n",
    "\n",
    "model = models.Model(input, output)\n",
    "model.summary()"
   ]
  },
  {
   "cell_type": "code",
   "execution_count": 20,
   "id": "a808f048",
   "metadata": {},
   "outputs": [
    {
     "name": "stdout",
     "output_type": "stream",
     "text": [
      "Epoch 1/50\n",
      "\u001b[1m88/88\u001b[0m \u001b[32m━━━━━━━━━━━━━━━━━━━━\u001b[0m\u001b[37m\u001b[0m \u001b[1m16s\u001b[0m 155ms/step - accuracy: 0.8502 - loss: 0.5667 - val_accuracy: 0.9526 - val_loss: 0.1940\n",
      "Epoch 2/50\n",
      "\u001b[1m88/88\u001b[0m \u001b[32m━━━━━━━━━━━━━━━━━━━━\u001b[0m\u001b[37m\u001b[0m \u001b[1m15s\u001b[0m 168ms/step - accuracy: 0.9558 - loss: 0.1546 - val_accuracy: 0.9676 - val_loss: 0.1118\n",
      "Epoch 3/50\n",
      "\u001b[1m88/88\u001b[0m \u001b[32m━━━━━━━━━━━━━━━━━━━━\u001b[0m\u001b[37m\u001b[0m \u001b[1m15s\u001b[0m 172ms/step - accuracy: 0.9765 - loss: 0.0771 - val_accuracy: 0.9748 - val_loss: 0.0888\n",
      "Epoch 4/50\n",
      "\u001b[1m88/88\u001b[0m \u001b[32m━━━━━━━━━━━━━━━━━━━━\u001b[0m\u001b[37m\u001b[0m \u001b[1m15s\u001b[0m 175ms/step - accuracy: 0.9863 - loss: 0.0487 - val_accuracy: 0.9781 - val_loss: 0.0769\n",
      "Epoch 5/50\n",
      "\u001b[1m88/88\u001b[0m \u001b[32m━━━━━━━━━━━━━━━━━━━━\u001b[0m\u001b[37m\u001b[0m \u001b[1m16s\u001b[0m 177ms/step - accuracy: 0.9906 - loss: 0.0354 - val_accuracy: 0.9813 - val_loss: 0.0706\n",
      "Epoch 6/50\n",
      "\u001b[1m88/88\u001b[0m \u001b[32m━━━━━━━━━━━━━━━━━━━━\u001b[0m\u001b[37m\u001b[0m \u001b[1m16s\u001b[0m 178ms/step - accuracy: 0.9928 - loss: 0.0263 - val_accuracy: 0.9819 - val_loss: 0.0730\n",
      "Epoch 7/50\n",
      "\u001b[1m88/88\u001b[0m \u001b[32m━━━━━━━━━━━━━━━━━━━━\u001b[0m\u001b[37m\u001b[0m \u001b[1m16s\u001b[0m 178ms/step - accuracy: 0.9937 - loss: 0.0223 - val_accuracy: 0.9811 - val_loss: 0.0736\n",
      "Epoch 8/50\n",
      "\u001b[1m88/88\u001b[0m \u001b[32m━━━━━━━━━━━━━━━━━━━━\u001b[0m\u001b[37m\u001b[0m \u001b[1m16s\u001b[0m 178ms/step - accuracy: 0.9949 - loss: 0.0183 - val_accuracy: 0.9820 - val_loss: 0.0718\n",
      "Epoch 9/50\n",
      "\u001b[1m88/88\u001b[0m \u001b[32m━━━━━━━━━━━━━━━━━━━━\u001b[0m\u001b[37m\u001b[0m \u001b[1m16s\u001b[0m 183ms/step - accuracy: 0.9958 - loss: 0.0152 - val_accuracy: 0.9820 - val_loss: 0.0764\n",
      "Epoch 10/50\n",
      "\u001b[1m88/88\u001b[0m \u001b[32m━━━━━━━━━━━━━━━━━━━━\u001b[0m\u001b[37m\u001b[0m \u001b[1m15s\u001b[0m 175ms/step - accuracy: 0.9964 - loss: 0.0131 - val_accuracy: 0.9825 - val_loss: 0.0841\n",
      "Epoch 11/50\n",
      "\u001b[1m88/88\u001b[0m \u001b[32m━━━━━━━━━━━━━━━━━━━━\u001b[0m\u001b[37m\u001b[0m \u001b[1m15s\u001b[0m 169ms/step - accuracy: 0.9971 - loss: 0.0109 - val_accuracy: 0.9807 - val_loss: 0.0808\n",
      "Epoch 12/50\n",
      "\u001b[1m88/88\u001b[0m \u001b[32m━━━━━━━━━━━━━━━━━━━━\u001b[0m\u001b[37m\u001b[0m \u001b[1m15s\u001b[0m 169ms/step - accuracy: 0.9974 - loss: 0.0097 - val_accuracy: 0.9807 - val_loss: 0.0842\n",
      "Epoch 13/50\n",
      "\u001b[1m88/88\u001b[0m \u001b[32m━━━━━━━━━━━━━━━━━━━━\u001b[0m\u001b[37m\u001b[0m \u001b[1m15s\u001b[0m 170ms/step - accuracy: 0.9979 - loss: 0.0078 - val_accuracy: 0.9812 - val_loss: 0.0832\n",
      "Epoch 14/50\n",
      "\u001b[1m88/88\u001b[0m \u001b[32m━━━━━━━━━━━━━━━━━━━━\u001b[0m\u001b[37m\u001b[0m \u001b[1m16s\u001b[0m 179ms/step - accuracy: 0.9980 - loss: 0.0072 - val_accuracy: 0.9816 - val_loss: 0.0880\n",
      "Epoch 15/50\n",
      "\u001b[1m88/88\u001b[0m \u001b[32m━━━━━━━━━━━━━━━━━━━━\u001b[0m\u001b[37m\u001b[0m \u001b[1m16s\u001b[0m 182ms/step - accuracy: 0.9984 - loss: 0.0060 - val_accuracy: 0.9810 - val_loss: 0.0892\n",
      "Epoch 16/50\n",
      "\u001b[1m88/88\u001b[0m \u001b[32m━━━━━━━━━━━━━━━━━━━━\u001b[0m\u001b[37m\u001b[0m \u001b[1m17s\u001b[0m 194ms/step - accuracy: 0.9987 - loss: 0.0049 - val_accuracy: 0.9801 - val_loss: 0.0951\n",
      "Epoch 17/50\n",
      "\u001b[1m88/88\u001b[0m \u001b[32m━━━━━━━━━━━━━━━━━━━━\u001b[0m\u001b[37m\u001b[0m \u001b[1m20s\u001b[0m 224ms/step - accuracy: 0.9990 - loss: 0.0043 - val_accuracy: 0.9816 - val_loss: 0.0984\n",
      "Epoch 18/50\n",
      "\u001b[1m88/88\u001b[0m \u001b[32m━━━━━━━━━━━━━━━━━━━━\u001b[0m\u001b[37m\u001b[0m \u001b[1m18s\u001b[0m 199ms/step - accuracy: 0.9990 - loss: 0.0038 - val_accuracy: 0.9813 - val_loss: 0.0999\n",
      "Epoch 19/50\n",
      "\u001b[1m88/88\u001b[0m \u001b[32m━━━━━━━━━━━━━━━━━━━━\u001b[0m\u001b[37m\u001b[0m \u001b[1m16s\u001b[0m 180ms/step - accuracy: 0.9991 - loss: 0.0034 - val_accuracy: 0.9812 - val_loss: 0.1019\n",
      "Epoch 20/50\n",
      "\u001b[1m88/88\u001b[0m \u001b[32m━━━━━━━━━━━━━━━━━━━━\u001b[0m\u001b[37m\u001b[0m \u001b[1m15s\u001b[0m 170ms/step - accuracy: 0.9993 - loss: 0.0030 - val_accuracy: 0.9789 - val_loss: 0.1066\n",
      "Epoch 21/50\n",
      "\u001b[1m88/88\u001b[0m \u001b[32m━━━━━━━━━━━━━━━━━━━━\u001b[0m\u001b[37m\u001b[0m \u001b[1m15s\u001b[0m 176ms/step - accuracy: 0.9994 - loss: 0.0025 - val_accuracy: 0.9806 - val_loss: 0.1071\n",
      "Epoch 22/50\n",
      "\u001b[1m88/88\u001b[0m \u001b[32m━━━━━━━━━━━━━━━━━━━━\u001b[0m\u001b[37m\u001b[0m \u001b[1m16s\u001b[0m 179ms/step - accuracy: 0.9995 - loss: 0.0023 - val_accuracy: 0.9801 - val_loss: 0.1090\n",
      "Epoch 23/50\n",
      "\u001b[1m88/88\u001b[0m \u001b[32m━━━━━━━━━━━━━━━━━━━━\u001b[0m\u001b[37m\u001b[0m \u001b[1m17s\u001b[0m 192ms/step - accuracy: 0.9995 - loss: 0.0021 - val_accuracy: 0.9813 - val_loss: 0.1168\n",
      "Epoch 24/50\n",
      "\u001b[1m88/88\u001b[0m \u001b[32m━━━━━━━━━━━━━━━━━━━━\u001b[0m\u001b[37m\u001b[0m \u001b[1m17s\u001b[0m 193ms/step - accuracy: 0.9995 - loss: 0.0020 - val_accuracy: 0.9801 - val_loss: 0.1159\n",
      "Epoch 25/50\n",
      "\u001b[1m88/88\u001b[0m \u001b[32m━━━━━━━━━━━━━━━━━━━━\u001b[0m\u001b[37m\u001b[0m \u001b[1m16s\u001b[0m 179ms/step - accuracy: 0.9996 - loss: 0.0017 - val_accuracy: 0.9804 - val_loss: 0.1176\n",
      "Epoch 26/50\n",
      "\u001b[1m88/88\u001b[0m \u001b[32m━━━━━━━━━━━━━━━━━━━━\u001b[0m\u001b[37m\u001b[0m \u001b[1m16s\u001b[0m 183ms/step - accuracy: 0.9996 - loss: 0.0016 - val_accuracy: 0.9805 - val_loss: 0.1227\n",
      "Epoch 27/50\n",
      "\u001b[1m88/88\u001b[0m \u001b[32m━━━━━━━━━━━━━━━━━━━━\u001b[0m\u001b[37m\u001b[0m \u001b[1m17s\u001b[0m 190ms/step - accuracy: 0.9997 - loss: 0.0012 - val_accuracy: 0.9806 - val_loss: 0.1282\n",
      "Epoch 28/50\n",
      "\u001b[1m88/88\u001b[0m \u001b[32m━━━━━━━━━━━━━━━━━━━━\u001b[0m\u001b[37m\u001b[0m \u001b[1m15s\u001b[0m 176ms/step - accuracy: 0.9998 - loss: 0.0010 - val_accuracy: 0.9800 - val_loss: 0.1271\n",
      "Epoch 29/50\n",
      "\u001b[1m88/88\u001b[0m \u001b[32m━━━━━━━━━━━━━━━━━━━━\u001b[0m\u001b[37m\u001b[0m \u001b[1m19s\u001b[0m 219ms/step - accuracy: 0.9998 - loss: 9.5034e-04 - val_accuracy: 0.9802 - val_loss: 0.1331\n",
      "Epoch 30/50\n",
      "\u001b[1m88/88\u001b[0m \u001b[32m━━━━━━━━━━━━━━━━━━━━\u001b[0m\u001b[37m\u001b[0m \u001b[1m20s\u001b[0m 228ms/step - accuracy: 0.9998 - loss: 9.9154e-04 - val_accuracy: 0.9801 - val_loss: 0.1323\n",
      "Epoch 31/50\n",
      "\u001b[1m88/88\u001b[0m \u001b[32m━━━━━━━━━━━━━━━━━━━━\u001b[0m\u001b[37m\u001b[0m \u001b[1m19s\u001b[0m 214ms/step - accuracy: 0.9998 - loss: 0.0010 - val_accuracy: 0.9798 - val_loss: 0.1327\n",
      "Epoch 32/50\n",
      "\u001b[1m88/88\u001b[0m \u001b[32m━━━━━━━━━━━━━━━━━━━━\u001b[0m\u001b[37m\u001b[0m \u001b[1m17s\u001b[0m 195ms/step - accuracy: 0.9998 - loss: 8.2015e-04 - val_accuracy: 0.9811 - val_loss: 0.1413\n",
      "Epoch 33/50\n",
      "\u001b[1m88/88\u001b[0m \u001b[32m━━━━━━━━━━━━━━━━━━━━\u001b[0m\u001b[37m\u001b[0m \u001b[1m15s\u001b[0m 172ms/step - accuracy: 0.9996 - loss: 0.0013 - val_accuracy: 0.9790 - val_loss: 0.1291\n",
      "Epoch 34/50\n",
      "\u001b[1m88/88\u001b[0m \u001b[32m━━━━━━━━━━━━━━━━━━━━\u001b[0m\u001b[37m\u001b[0m \u001b[1m15s\u001b[0m 176ms/step - accuracy: 0.9996 - loss: 0.0014 - val_accuracy: 0.9800 - val_loss: 0.1366\n",
      "Epoch 35/50\n",
      "\u001b[1m88/88\u001b[0m \u001b[32m━━━━━━━━━━━━━━━━━━━━\u001b[0m\u001b[37m\u001b[0m \u001b[1m15s\u001b[0m 175ms/step - accuracy: 0.9998 - loss: 8.9926e-04 - val_accuracy: 0.9795 - val_loss: 0.1376\n",
      "Epoch 36/50\n",
      "\u001b[1m88/88\u001b[0m \u001b[32m━━━━━━━━━━━━━━━━━━━━\u001b[0m\u001b[37m\u001b[0m \u001b[1m15s\u001b[0m 174ms/step - accuracy: 0.9998 - loss: 7.1563e-04 - val_accuracy: 0.9802 - val_loss: 0.1404\n",
      "Epoch 37/50\n",
      "\u001b[1m88/88\u001b[0m \u001b[32m━━━━━━━━━━━━━━━━━━━━\u001b[0m\u001b[37m\u001b[0m \u001b[1m16s\u001b[0m 177ms/step - accuracy: 0.9999 - loss: 5.1046e-04 - val_accuracy: 0.9801 - val_loss: 0.1428\n",
      "Epoch 38/50\n",
      "\u001b[1m88/88\u001b[0m \u001b[32m━━━━━━━━━━━━━━━━━━━━\u001b[0m\u001b[37m\u001b[0m \u001b[1m17s\u001b[0m 189ms/step - accuracy: 0.9999 - loss: 4.5847e-04 - val_accuracy: 0.9803 - val_loss: 0.1444\n",
      "Epoch 39/50\n",
      "\u001b[1m88/88\u001b[0m \u001b[32m━━━━━━━━━━━━━━━━━━━━\u001b[0m\u001b[37m\u001b[0m \u001b[1m19s\u001b[0m 218ms/step - accuracy: 0.9999 - loss: 4.6524e-04 - val_accuracy: 0.9796 - val_loss: 0.1478\n",
      "Epoch 40/50\n",
      "\u001b[1m88/88\u001b[0m \u001b[32m━━━━━━━━━━━━━━━━━━━━\u001b[0m\u001b[37m\u001b[0m \u001b[1m20s\u001b[0m 225ms/step - accuracy: 0.9999 - loss: 4.7073e-04 - val_accuracy: 0.9803 - val_loss: 0.1490\n",
      "Epoch 41/50\n",
      "\u001b[1m88/88\u001b[0m \u001b[32m━━━━━━━━━━━━━━━━━━━━\u001b[0m\u001b[37m\u001b[0m \u001b[1m18s\u001b[0m 201ms/step - accuracy: 0.9999 - loss: 4.4094e-04 - val_accuracy: 0.9803 - val_loss: 0.1505\n",
      "Epoch 42/50\n",
      "\u001b[1m88/88\u001b[0m \u001b[32m━━━━━━━━━━━━━━━━━━━━\u001b[0m\u001b[37m\u001b[0m \u001b[1m17s\u001b[0m 190ms/step - accuracy: 0.9999 - loss: 5.2147e-04 - val_accuracy: 0.9800 - val_loss: 0.1531\n",
      "Epoch 43/50\n",
      "\u001b[1m88/88\u001b[0m \u001b[32m━━━━━━━━━━━━━━━━━━━━\u001b[0m\u001b[37m\u001b[0m \u001b[1m17s\u001b[0m 188ms/step - accuracy: 0.9999 - loss: 4.1305e-04 - val_accuracy: 0.9808 - val_loss: 0.1611\n",
      "Epoch 44/50\n",
      "\u001b[1m88/88\u001b[0m \u001b[32m━━━━━━━━━━━━━━━━━━━━\u001b[0m\u001b[37m\u001b[0m \u001b[1m16s\u001b[0m 180ms/step - accuracy: 0.9999 - loss: 4.3964e-04 - val_accuracy: 0.9803 - val_loss: 0.1546\n",
      "Epoch 45/50\n",
      "\u001b[1m88/88\u001b[0m \u001b[32m━━━━━━━━━━━━━━━━━━━━\u001b[0m\u001b[37m\u001b[0m \u001b[1m16s\u001b[0m 185ms/step - accuracy: 0.9999 - loss: 3.8656e-04 - val_accuracy: 0.9798 - val_loss: 0.1534\n",
      "Epoch 46/50\n",
      "\u001b[1m88/88\u001b[0m \u001b[32m━━━━━━━━━━━━━━━━━━━━\u001b[0m\u001b[37m\u001b[0m \u001b[1m17s\u001b[0m 199ms/step - accuracy: 0.9999 - loss: 4.9733e-04 - val_accuracy: 0.9794 - val_loss: 0.1570\n",
      "Epoch 47/50\n",
      "\u001b[1m88/88\u001b[0m \u001b[32m━━━━━━━━━━━━━━━━━━━━\u001b[0m\u001b[37m\u001b[0m \u001b[1m18s\u001b[0m 209ms/step - accuracy: 0.9996 - loss: 0.0012 - val_accuracy: 0.9792 - val_loss: 0.1531\n",
      "Epoch 48/50\n",
      "\u001b[1m88/88\u001b[0m \u001b[32m━━━━━━━━━━━━━━━━━━━━\u001b[0m\u001b[37m\u001b[0m \u001b[1m17s\u001b[0m 197ms/step - accuracy: 0.9995 - loss: 0.0018 - val_accuracy: 0.9807 - val_loss: 0.1410\n",
      "Epoch 49/50\n",
      "\u001b[1m88/88\u001b[0m \u001b[32m━━━━━━━━━━━━━━━━━━━━\u001b[0m\u001b[37m\u001b[0m \u001b[1m16s\u001b[0m 188ms/step - accuracy: 0.9997 - loss: 0.0010 - val_accuracy: 0.9800 - val_loss: 0.1437\n",
      "Epoch 50/50\n",
      "\u001b[1m88/88\u001b[0m \u001b[32m━━━━━━━━━━━━━━━━━━━━\u001b[0m\u001b[37m\u001b[0m \u001b[1m16s\u001b[0m 186ms/step - accuracy: 0.9999 - loss: 5.7998e-04 - val_accuracy: 0.9807 - val_loss: 0.1481\n"
     ]
    },
    {
     "data": {
      "image/png": "[encoded data removed]",
      "text/plain": [
       "<Figure size 640x480 with 1 Axes>"
      ]
     },
     "metadata": {},
     "output_type": "display_data"
    }
   ],
   "source": [
    "model.compile(\n",
    "    loss = 'sparse_categorical_crossentropy',\n",
    "    optimizer = 'adam',\n",
    "    metrics = ['accuracy']\n",
    ")\n",
    "\n",
    "history = model.fit(\n",
    "    X_train,\n",
    "    y_train,\n",
    "    batch_size = 128,\n",
    "    epochs = 50,\n",
    "    validation_split = 0.2\n",
    ")\n",
    "\n",
    "pd.DataFrame(history.history).plot()\n",
    "plt.show()\n"
   ]
  },
  {
   "cell_type": "markdown",
   "id": "063cdd14",
   "metadata": {},
   "source": [
    "### 모델 평가"
   ]
  },
  {
   "cell_type": "code",
   "execution_count": 22,
   "id": "99d63721",
   "metadata": {},
   "outputs": [
    {
     "name": "stdout",
     "output_type": "stream",
     "text": [
      "\u001b[1m108/108\u001b[0m \u001b[32m━━━━━━━━━━━━━━━━━━━━\u001b[0m\u001b[37m\u001b[0m \u001b[1m3s\u001b[0m 24ms/step - accuracy: 0.9803 - loss: 0.1307\n",
      "Test 결과 | Loss: 0.1325, Accuracy: 0.9805\n"
     ]
    }
   ],
   "source": [
    "loss, accuracy = model.evaluate(X_test, y_test)\n",
    "print(f'Test 결과 | Loss: {loss:.4f}, Accuracy: {accuracy:.4f}')"
   ]
  },
  {
   "cell_type": "markdown",
   "id": "5a40199d",
   "metadata": {},
   "source": [
    "### NER 예측"
   ]
  },
  {
   "cell_type": "code",
   "execution_count": 23,
   "id": "264300df",
   "metadata": {},
   "outputs": [],
   "source": [
    "sample = [\"EU gave German call to take British people wow\"]\n",
    "\n",
    "sample_seq = entity_tokenizer.texts_to_sequences(sample)\n",
    "sample_padded = pad_sequences(sample_seq, maxlen=MAX_LEN)"
   ]
  },
  {
   "cell_type": "code",
   "execution_count": 24,
   "id": "283fa1bf",
   "metadata": {},
   "outputs": [
    {
     "name": "stdout",
     "output_type": "stream",
     "text": [
      "\u001b[1m1/1\u001b[0m \u001b[32m━━━━━━━━━━━━━━━━━━━━\u001b[0m\u001b[37m\u001b[0m \u001b[1m0s\u001b[0m 226ms/step\n"
     ]
    },
    {
     "data": {
      "text/plain": [
       "array([[0, 0, 0, 0, 0, 0, 0, 0, 0, 0, 0, 0, 0, 0, 0, 0, 0, 0, 0, 0, 0, 0,\n",
       "        0, 0, 0, 0, 0, 0, 0, 0, 0, 0, 0, 0, 0, 0, 0, 0, 0, 0, 0, 4, 1, 7,\n",
       "        1, 1, 1, 7, 1, 1]], dtype=int64)"
      ]
     },
     "execution_count": 24,
     "metadata": {},
     "output_type": "execute_result"
    }
   ],
   "source": [
    "pred_proba = model.predict(sample_padded)\n",
    "\n",
    "pred = np.argmax(pred_proba, axis=-1)\n",
    "pred"
   ]
  },
  {
   "cell_type": "code",
   "execution_count": 25,
   "id": "4dd52bad",
   "metadata": {},
   "outputs": [
    {
     "name": "stdout",
     "output_type": "stream",
     "text": [
      "eu: b-org\n",
      "gave: o\n",
      "german: b-misc\n",
      "call: o\n",
      "to: o\n",
      "take: o\n",
      "british: b-misc\n",
      "people: o\n",
      "<OOV>: o\n"
     ]
    }
   ],
   "source": [
    "index2entity = entity_tokenizer.index_word\n",
    "index2tag = tag_tokenizer.index_word\n",
    "\n",
    "tokens = [index2entity.get(x, \"?\") for x in sample_padded[0]]\n",
    "tags = [index2tag.get(x, \"?\") for x in pred[0]]\n",
    "\n",
    "for token, tag in zip(tokens, tags):\n",
    "    if token != '?':\n",
    "        print(f'{token}: {tag}')"
   ]
  },
  {
   "cell_type": "code",
   "execution_count": null,
   "id": "6f0d0819",
   "metadata": {},
   "outputs": [],
   "source": []
  }
 ],
 "metadata": {
  "kernelspec": {
   "display_name": "pystudy_env",
   "language": "python",
   "name": "python3"
  },
  "language_info": {
   "codemirror_mode": {
    "name": "ipython",
    "version": 3
   },
   "file_extension": ".py",
   "mimetype": "text/x-python",
   "name": "python",
   "nbconvert_exporter": "python",
   "pygments_lexer": "ipython3",
   "version": "3.12.9"
  }
 },
 "nbformat": 4,
 "nbformat_minor": 5
}
