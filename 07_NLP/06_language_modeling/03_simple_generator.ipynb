{
 "cells": [
  {
   "cell_type": "markdown",
   "id": "e0e84fab",
   "metadata": {},
   "source": [
    "# ngram 기반의 간단한 텍스트 생성기"
   ]
  },
  {
   "cell_type": "code",
   "execution_count": 1,
   "id": "6e8341d9",
   "metadata": {},
   "outputs": [],
   "source": [
    "import nltk\n",
    "from nltk.util import ngrams\n",
    "from collections import Counter\n",
    "import random"
   ]
  },
  {
   "cell_type": "code",
   "execution_count": 3,
   "id": "8f3472a8",
   "metadata": {},
   "outputs": [],
   "source": [
    "def generate_text_bigram(seed, unigram_freq, bigram_freq, max_len=10):\n",
    "    current_word = seed\n",
    "    generated = [current_word]\n",
    "\n",
    "    for _ in range(max_len - 1):\n",
    "        candidates = [(bigram, freq) for bigram, freq in bigram_freq.items() if bigram[0] == current_word]\n",
    "        if not candidates:\n",
    "            break\n",
    "\n",
    "        words, freqs = zip(*[(bigram[1], freq) for bigram, freq in candidates])\n",
    "        total = sum(freqs)\n",
    "        probs = [f / total for f in freqs]\n",
    "\n",
    "        next_word = random.choices(words, weights=probs)[0]\n",
    "        generated.append(next_word)\n",
    "        current_word = next_word\n",
    "\n",
    "    return \" \".join(generated)"
   ]
  },
  {
   "cell_type": "code",
   "execution_count": null,
   "id": "304ffaba",
   "metadata": {},
   "outputs": [],
   "source": []
  }
 ],
 "metadata": {
  "kernelspec": {
   "display_name": "pystudy_env",
   "language": "python",
   "name": "python3"
  },
  "language_info": {
   "codemirror_mode": {
    "name": "ipython",
    "version": 3
   },
   "file_extension": ".py",
   "mimetype": "text/x-python",
   "name": "python",
   "nbconvert_exporter": "python",
   "pygments_lexer": "ipython3",
   "version": "3.12.9"
  }
 },
 "nbformat": 4,
 "nbformat_minor": 5
}
