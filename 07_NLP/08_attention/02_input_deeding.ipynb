{
 "cells": [
  {
   "cell_type": "markdown",
   "id": "e8a2ece4",
   "metadata": {},
   "source": [
    "# Input Feeding 기법"
   ]
  },
  {
   "cell_type": "code",
   "execution_count": 1,
   "id": "80c1448b",
   "metadata": {},
   "outputs": [],
   "source": [
    "import torch\n",
    "import torch.nn as nn"
   ]
  },
  {
   "cell_type": "code",
   "execution_count": 2,
   "id": "2413f593",
   "metadata": {},
   "outputs": [],
   "source": [
    "class InputFeedingDecoder(nn.Module):\n",
    "    def __init__(self, input_size, hidden_size, output_size):\n",
    "        super(InputFeedingDecoder, self).__init__()\n",
    "        self.hidden_size = hidden_size\n",
    "        self.embedding = nn.Embedding(output_size, input_size)\n",
    "        self.lstm = nn.LSTM(input_size + hidden_size, hidden_size)\n",
    "        self.fc = nn.Linear(hidden_size, output_size)\n",
    "\n",
    "    def forward(self, input, hiddne, context):\n",
    "        embedded = self.embedding(input).unsqueeze(0)\n",
    "        lstm_input = torch.cat((embedded, context.unsqueeze(0)), dim=2)\n",
    "        output, hidden = self.lstm(lstm_input, hidden)\n",
    "        output = self.fc(output.squeeze(0))\n",
    "        return output, hidden"
   ]
  },
  {
   "cell_type": "code",
   "execution_count": 3,
   "id": "a28e6394",
   "metadata": {},
   "outputs": [],
   "source": [
    "decoder = InputFeedingDecoder(input_size=10, hidden_size=20, output_size=30)\n",
    "hidden = (torch.zeros(1, 1, 20), torch.zeros(1, 1, 20))\n",
    "context = torch.zeros(1, 20)\n",
    "input_token = torch.tensor([5])"
   ]
  },
  {
   "cell_type": "code",
   "execution_count": null,
   "id": "16c5e595",
   "metadata": {},
   "outputs": [],
   "source": []
  }
 ],
 "metadata": {
  "kernelspec": {
   "display_name": "pystudy_env",
   "language": "python",
   "name": "python3"
  },
  "language_info": {
   "codemirror_mode": {
    "name": "ipython",
    "version": 3
   },
   "file_extension": ".py",
   "mimetype": "text/x-python",
   "name": "python",
   "nbconvert_exporter": "python",
   "pygments_lexer": "ipython3",
   "version": "3.12.9"
  }
 },
 "nbformat": 4,
 "nbformat_minor": 5
}
