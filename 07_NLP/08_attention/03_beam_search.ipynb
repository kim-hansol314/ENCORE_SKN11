{
 "cells": [
  {
   "cell_type": "markdown",
   "id": "4ef9f449",
   "metadata": {},
   "source": [
    "# Beam Search"
   ]
  },
  {
   "cell_type": "code",
   "execution_count": 1,
   "id": "8bc61d9a",
   "metadata": {},
   "outputs": [],
   "source": [
    "import torch\n",
    "import torch.nn.functional as F"
   ]
  },
  {
   "cell_type": "code",
   "execution_count": null,
   "id": "fc1dfa6c",
   "metadata": {},
   "outputs": [],
   "source": [
    "def beam_search(decoder, hidden, context, beam_width=3, max_length=10):\n",
    "\n",
    "    sequences = [[[], 1.0, hidden]]\n",
    "\n",
    "    for _ in range(max_length):\n",
    "        all_candidates = []\n",
    "        # [[\"나는\", 0.6, hidden1]\n",
    "        #  [\"저는\", 0.4, hidden2]]\n",
    "\n",
    "        for seq, score, hidden in sequences:\n",
    "            decoder_input = torch.tensor([seq[-1] if seq else 0])\n",
    "            output, hidden = decoder(decoder_input, hidden, context)\n",
    "            top_probs, top_indices = torch.topk(F.softmax(output, dim=1), beam_width)\n",
    "\n",
    "            for i in range(beam_width):\n",
    "                candidate = (seq + [top_indices[0][i].item()],\n",
    "                             score * top_probs[0][i].item(),\n",
    "                             hidden\n",
    "                             )\n",
    "                all_candidates.append(candidate)\n",
    "            \n",
    "        sequences = sorted(all_candidates, key=lambda x: x[1], reverse=True)[:beam_width]\n",
    "\n",
    "    return sequences[0][0]"
   ]
  },
  {
   "cell_type": "code",
   "execution_count": null,
   "id": "1d45f84c",
   "metadata": {},
   "outputs": [],
   "source": []
  }
 ],
 "metadata": {
  "kernelspec": {
   "display_name": "pystudy_env",
   "language": "python",
   "name": "python3"
  },
  "language_info": {
   "codemirror_mode": {
    "name": "ipython",
    "version": 3
   },
   "file_extension": ".py",
   "mimetype": "text/x-python",
   "name": "python",
   "nbconvert_exporter": "python",
   "pygments_lexer": "ipython3",
   "version": "3.12.9"
  }
 },
 "nbformat": 4,
 "nbformat_minor": 5
}
